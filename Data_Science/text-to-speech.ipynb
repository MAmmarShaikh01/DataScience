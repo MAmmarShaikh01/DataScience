{
 "cells": [
  {
   "cell_type": "code",
   "execution_count": 17,
   "id": "f262db61",
   "metadata": {},
   "outputs": [],
   "source": [
    "import pyttsx3\n",
    "engine = pyttsx3.init()\n",
    "\n",
    "# For Mac, If you face error related to \"pyobjc\" when running the `init()` method :\n",
    "# Install 9.0.1 version of pyobjc : \"pip install pyobjc>=9.0.1\"\n",
    "\n",
    "engine.say(\"I will speak this text\")\n",
    "engine.runAndWait()"
   ]
  },
  {
   "cell_type": "code",
   "execution_count": null,
   "id": "5f3330fd",
   "metadata": {},
   "outputs": [],
   "source": [
    "import pyttsx3\n",
    "engine = pyttsx3.init() # object creation\n",
    "\n",
    "# RATE\n",
    "rate = engine.getProperty('rate')   # getting details of current speaking rate\n",
    "print (rate)                        # printing current voice rate\n",
    "engine.setProperty('rate', 125)     # setting up new voice rate\n",
    "\n",
    "# VOLUME\n",
    "volume = engine.getProperty('volume')   # getting to know current volume level (min=0 and max=1)\n",
    "print (volume)                          # printing current volume level\n",
    "engine.setProperty('volume',1.0)        # setting up volume level  between 0 and 1\n",
    "\n",
    "# VOICE\n",
    "voices = engine.getProperty('voices')       # getting details of current voice\n",
    "#engine.setProperty('voice', voices[0].id)  # changing index, changes voices. o for male\n",
    "engine.setProperty('voice', voices[1].id)   # changing index, changes voices. 1 for female\n",
    "\n",
    "engine.say(\"Hello World!\")\n",
    "engine.say('My current speaking rate is ' + str(rate))\n",
    "engine.runAndWait()\n",
    "engine.stop()\n",
    "\n",
    "# Saving Voice to a file\n",
    "# On Linux, make sure that 'espeak-ng' is installed\n",
    "engine.save_to_file('Hello World', 'test.mp3')\n",
    "engine.runAndWait()"
   ]
  }
 ],
 "metadata": {
  "kernelspec": {
   "display_name": "Python 3",
   "language": "python",
   "name": "python3"
  },
  "language_info": {
   "codemirror_mode": {
    "name": "ipython",
    "version": 3
   },
   "file_extension": ".py",
   "mimetype": "text/x-python",
   "name": "python",
   "nbconvert_exporter": "python",
   "pygments_lexer": "ipython3",
   "version": "3.13.3"
  }
 },
 "nbformat": 4,
 "nbformat_minor": 5
}
