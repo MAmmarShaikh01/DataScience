{
 "cells": [
  {
   "cell_type": "code",
   "execution_count": 1,
   "id": "2df4f650",
   "metadata": {},
   "outputs": [],
   "source": [
    "import pandas as pd"
   ]
  },
  {
   "cell_type": "code",
   "execution_count": 2,
   "id": "a83a6639",
   "metadata": {},
   "outputs": [],
   "source": [
    "df = pd.read_csv(\"Titanic_DataSet.csv\")"
   ]
  },
  {
   "cell_type": "markdown",
   "id": "c1e7b736",
   "metadata": {},
   "source": [
    "column = series,\n",
    "row = record"
   ]
  },
  {
   "cell_type": "code",
   "execution_count": 3,
   "id": "289573a8",
   "metadata": {},
   "outputs": [
    {
     "data": {
      "application/vnd.microsoft.datawrangler.viewer.v0+json": {
       "columns": [
        {
         "name": "index",
         "rawType": "object",
         "type": "string"
        },
        {
         "name": "PassengerId",
         "rawType": "float64",
         "type": "float"
        },
        {
         "name": "Survived",
         "rawType": "float64",
         "type": "float"
        },
        {
         "name": "Pclass",
         "rawType": "float64",
         "type": "float"
        },
        {
         "name": "Age",
         "rawType": "float64",
         "type": "float"
        },
        {
         "name": "SibSp",
         "rawType": "float64",
         "type": "float"
        },
        {
         "name": "Parch",
         "rawType": "float64",
         "type": "float"
        },
        {
         "name": "Fare",
         "rawType": "float64",
         "type": "float"
        }
       ],
       "ref": "a49db970-1ab5-48c0-9d0d-fd909f1c298f",
       "rows": [
        [
         "count",
         "891.0",
         "891.0",
         "891.0",
         "714.0",
         "891.0",
         "891.0",
         "891.0"
        ],
        [
         "mean",
         "446.0",
         "0.3838383838383838",
         "2.308641975308642",
         "29.69911764705882",
         "0.5230078563411896",
         "0.38159371492704824",
         "32.204207968574636"
        ],
        [
         "std",
         "257.3538420152301",
         "0.4865924542648575",
         "0.836071240977049",
         "14.526497332334042",
         "1.1027434322934317",
         "0.8060572211299483",
         "49.6934285971809"
        ],
        [
         "min",
         "1.0",
         "0.0",
         "1.0",
         "0.42",
         "0.0",
         "0.0",
         "0.0"
        ],
        [
         "25%",
         "223.5",
         "0.0",
         "2.0",
         "20.125",
         "0.0",
         "0.0",
         "7.9104"
        ],
        [
         "50%",
         "446.0",
         "0.0",
         "3.0",
         "28.0",
         "0.0",
         "0.0",
         "14.4542"
        ],
        [
         "75%",
         "668.5",
         "1.0",
         "3.0",
         "38.0",
         "1.0",
         "0.0",
         "31.0"
        ],
        [
         "max",
         "891.0",
         "1.0",
         "3.0",
         "80.0",
         "8.0",
         "6.0",
         "512.3292"
        ]
       ],
       "shape": {
        "columns": 7,
        "rows": 8
       }
      },
      "text/html": [
       "<div>\n",
       "<style scoped>\n",
       "    .dataframe tbody tr th:only-of-type {\n",
       "        vertical-align: middle;\n",
       "    }\n",
       "\n",
       "    .dataframe tbody tr th {\n",
       "        vertical-align: top;\n",
       "    }\n",
       "\n",
       "    .dataframe thead th {\n",
       "        text-align: right;\n",
       "    }\n",
       "</style>\n",
       "<table border=\"1\" class=\"dataframe\">\n",
       "  <thead>\n",
       "    <tr style=\"text-align: right;\">\n",
       "      <th></th>\n",
       "      <th>PassengerId</th>\n",
       "      <th>Survived</th>\n",
       "      <th>Pclass</th>\n",
       "      <th>Age</th>\n",
       "      <th>SibSp</th>\n",
       "      <th>Parch</th>\n",
       "      <th>Fare</th>\n",
       "    </tr>\n",
       "  </thead>\n",
       "  <tbody>\n",
       "    <tr>\n",
       "      <th>count</th>\n",
       "      <td>891.000000</td>\n",
       "      <td>891.000000</td>\n",
       "      <td>891.000000</td>\n",
       "      <td>714.000000</td>\n",
       "      <td>891.000000</td>\n",
       "      <td>891.000000</td>\n",
       "      <td>891.000000</td>\n",
       "    </tr>\n",
       "    <tr>\n",
       "      <th>mean</th>\n",
       "      <td>446.000000</td>\n",
       "      <td>0.383838</td>\n",
       "      <td>2.308642</td>\n",
       "      <td>29.699118</td>\n",
       "      <td>0.523008</td>\n",
       "      <td>0.381594</td>\n",
       "      <td>32.204208</td>\n",
       "    </tr>\n",
       "    <tr>\n",
       "      <th>std</th>\n",
       "      <td>257.353842</td>\n",
       "      <td>0.486592</td>\n",
       "      <td>0.836071</td>\n",
       "      <td>14.526497</td>\n",
       "      <td>1.102743</td>\n",
       "      <td>0.806057</td>\n",
       "      <td>49.693429</td>\n",
       "    </tr>\n",
       "    <tr>\n",
       "      <th>min</th>\n",
       "      <td>1.000000</td>\n",
       "      <td>0.000000</td>\n",
       "      <td>1.000000</td>\n",
       "      <td>0.420000</td>\n",
       "      <td>0.000000</td>\n",
       "      <td>0.000000</td>\n",
       "      <td>0.000000</td>\n",
       "    </tr>\n",
       "    <tr>\n",
       "      <th>25%</th>\n",
       "      <td>223.500000</td>\n",
       "      <td>0.000000</td>\n",
       "      <td>2.000000</td>\n",
       "      <td>20.125000</td>\n",
       "      <td>0.000000</td>\n",
       "      <td>0.000000</td>\n",
       "      <td>7.910400</td>\n",
       "    </tr>\n",
       "    <tr>\n",
       "      <th>50%</th>\n",
       "      <td>446.000000</td>\n",
       "      <td>0.000000</td>\n",
       "      <td>3.000000</td>\n",
       "      <td>28.000000</td>\n",
       "      <td>0.000000</td>\n",
       "      <td>0.000000</td>\n",
       "      <td>14.454200</td>\n",
       "    </tr>\n",
       "    <tr>\n",
       "      <th>75%</th>\n",
       "      <td>668.500000</td>\n",
       "      <td>1.000000</td>\n",
       "      <td>3.000000</td>\n",
       "      <td>38.000000</td>\n",
       "      <td>1.000000</td>\n",
       "      <td>0.000000</td>\n",
       "      <td>31.000000</td>\n",
       "    </tr>\n",
       "    <tr>\n",
       "      <th>max</th>\n",
       "      <td>891.000000</td>\n",
       "      <td>1.000000</td>\n",
       "      <td>3.000000</td>\n",
       "      <td>80.000000</td>\n",
       "      <td>8.000000</td>\n",
       "      <td>6.000000</td>\n",
       "      <td>512.329200</td>\n",
       "    </tr>\n",
       "  </tbody>\n",
       "</table>\n",
       "</div>"
      ],
      "text/plain": [
       "       PassengerId    Survived      Pclass         Age       SibSp  \\\n",
       "count   891.000000  891.000000  891.000000  714.000000  891.000000   \n",
       "mean    446.000000    0.383838    2.308642   29.699118    0.523008   \n",
       "std     257.353842    0.486592    0.836071   14.526497    1.102743   \n",
       "min       1.000000    0.000000    1.000000    0.420000    0.000000   \n",
       "25%     223.500000    0.000000    2.000000   20.125000    0.000000   \n",
       "50%     446.000000    0.000000    3.000000   28.000000    0.000000   \n",
       "75%     668.500000    1.000000    3.000000   38.000000    1.000000   \n",
       "max     891.000000    1.000000    3.000000   80.000000    8.000000   \n",
       "\n",
       "            Parch        Fare  \n",
       "count  891.000000  891.000000  \n",
       "mean     0.381594   32.204208  \n",
       "std      0.806057   49.693429  \n",
       "min      0.000000    0.000000  \n",
       "25%      0.000000    7.910400  \n",
       "50%      0.000000   14.454200  \n",
       "75%      0.000000   31.000000  \n",
       "max      6.000000  512.329200  "
      ]
     },
     "execution_count": 3,
     "metadata": {},
     "output_type": "execute_result"
    }
   ],
   "source": [
    "df.describe()"
   ]
  },
  {
   "cell_type": "code",
   "execution_count": 4,
   "id": "4d034cbd",
   "metadata": {},
   "outputs": [
    {
     "data": {
      "application/vnd.microsoft.datawrangler.viewer.v0+json": {
       "columns": [
        {
         "name": "index",
         "rawType": "int64",
         "type": "integer"
        },
        {
         "name": "Name",
         "rawType": "object",
         "type": "string"
        },
        {
         "name": "Age",
         "rawType": "float64",
         "type": "float"
        },
        {
         "name": "Fare",
         "rawType": "float64",
         "type": "float"
        },
        {
         "name": "Ticket",
         "rawType": "object",
         "type": "string"
        },
        {
         "name": "Embarked",
         "rawType": "object",
         "type": "unknown"
        }
       ],
       "ref": "2fae74fe-5c5d-443c-be14-17e4c3203e20",
       "rows": [
        [
         "0",
         "Braund, Mr. Owen Harris",
         "22.0",
         "7.25",
         "A/5 21171",
         "S"
        ],
        [
         "1",
         "Cumings, Mrs. John Bradley (Florence Briggs Thayer)",
         "38.0",
         "71.2833",
         "PC 17599",
         "C"
        ],
        [
         "2",
         "Heikkinen, Miss. Laina",
         "26.0",
         "7.925",
         "STON/O2. 3101282",
         "S"
        ],
        [
         "3",
         "Futrelle, Mrs. Jacques Heath (Lily May Peel)",
         "35.0",
         "53.1",
         "113803",
         "S"
        ],
        [
         "4",
         "Allen, Mr. William Henry",
         "35.0",
         "8.05",
         "373450",
         "S"
        ],
        [
         "5",
         "Moran, Mr. James",
         null,
         "8.4583",
         "330877",
         "Q"
        ],
        [
         "6",
         "McCarthy, Mr. Timothy J",
         "54.0",
         "51.8625",
         "17463",
         "S"
        ],
        [
         "7",
         "Palsson, Master. Gosta Leonard",
         "2.0",
         "21.075",
         "349909",
         "S"
        ],
        [
         "8",
         "Johnson, Mrs. Oscar W (Elisabeth Vilhelmina Berg)",
         "27.0",
         "11.1333",
         "347742",
         "S"
        ],
        [
         "9",
         "Nasser, Mrs. Nicholas (Adele Achem)",
         "14.0",
         "30.0708",
         "237736",
         "C"
        ],
        [
         "10",
         "Sandstrom, Miss. Marguerite Rut",
         "4.0",
         "16.7",
         "PP 9549",
         "S"
        ],
        [
         "11",
         "Bonnell, Miss. Elizabeth",
         "58.0",
         "26.55",
         "113783",
         "S"
        ],
        [
         "12",
         "Saundercock, Mr. William Henry",
         "20.0",
         "8.05",
         "A/5. 2151",
         "S"
        ],
        [
         "13",
         "Andersson, Mr. Anders Johan",
         "39.0",
         "31.275",
         "347082",
         "S"
        ],
        [
         "14",
         "Vestrom, Miss. Hulda Amanda Adolfina",
         "14.0",
         "7.8542",
         "350406",
         "S"
        ],
        [
         "15",
         "Hewlett, Mrs. (Mary D Kingcome) ",
         "55.0",
         "16.0",
         "248706",
         "S"
        ],
        [
         "16",
         "Rice, Master. Eugene",
         "2.0",
         "29.125",
         "382652",
         "Q"
        ],
        [
         "17",
         "Williams, Mr. Charles Eugene",
         null,
         "13.0",
         "244373",
         "S"
        ],
        [
         "18",
         "Vander Planke, Mrs. Julius (Emelia Maria Vandemoortele)",
         "31.0",
         "18.0",
         "345763",
         "S"
        ],
        [
         "19",
         "Masselmani, Mrs. Fatima",
         null,
         "7.225",
         "2649",
         "C"
        ],
        [
         "20",
         "Fynney, Mr. Joseph J",
         "35.0",
         "26.0",
         "239865",
         "S"
        ],
        [
         "21",
         "Beesley, Mr. Lawrence",
         "34.0",
         "13.0",
         "248698",
         "S"
        ],
        [
         "22",
         "McGowan, Miss. Anna \"Annie\"",
         "15.0",
         "8.0292",
         "330923",
         "Q"
        ],
        [
         "23",
         "Sloper, Mr. William Thompson",
         "28.0",
         "35.5",
         "113788",
         "S"
        ],
        [
         "24",
         "Palsson, Miss. Torborg Danira",
         "8.0",
         "21.075",
         "349909",
         "S"
        ],
        [
         "25",
         "Asplund, Mrs. Carl Oscar (Selma Augusta Emilia Johansson)",
         "38.0",
         "31.3875",
         "347077",
         "S"
        ],
        [
         "26",
         "Emir, Mr. Farred Chehab",
         null,
         "7.225",
         "2631",
         "C"
        ],
        [
         "27",
         "Fortune, Mr. Charles Alexander",
         "19.0",
         "263.0",
         "19950",
         "S"
        ],
        [
         "28",
         "O'Dwyer, Miss. Ellen \"Nellie\"",
         null,
         "7.8792",
         "330959",
         "Q"
        ],
        [
         "29",
         "Todoroff, Mr. Lalio",
         null,
         "7.8958",
         "349216",
         "S"
        ],
        [
         "30",
         "Uruchurtu, Don. Manuel E",
         "40.0",
         "27.7208",
         "PC 17601",
         "C"
        ],
        [
         "31",
         "Spencer, Mrs. William Augustus (Marie Eugenie)",
         null,
         "146.5208",
         "PC 17569",
         "C"
        ],
        [
         "32",
         "Glynn, Miss. Mary Agatha",
         null,
         "7.75",
         "335677",
         "Q"
        ],
        [
         "33",
         "Wheadon, Mr. Edward H",
         "66.0",
         "10.5",
         "C.A. 24579",
         "S"
        ],
        [
         "34",
         "Meyer, Mr. Edgar Joseph",
         "28.0",
         "82.1708",
         "PC 17604",
         "C"
        ],
        [
         "35",
         "Holverson, Mr. Alexander Oskar",
         "42.0",
         "52.0",
         "113789",
         "S"
        ],
        [
         "36",
         "Mamee, Mr. Hanna",
         null,
         "7.2292",
         "2677",
         "C"
        ],
        [
         "37",
         "Cann, Mr. Ernest Charles",
         "21.0",
         "8.05",
         "A./5. 2152",
         "S"
        ],
        [
         "38",
         "Vander Planke, Miss. Augusta Maria",
         "18.0",
         "18.0",
         "345764",
         "S"
        ],
        [
         "39",
         "Nicola-Yarred, Miss. Jamila",
         "14.0",
         "11.2417",
         "2651",
         "C"
        ],
        [
         "40",
         "Ahlin, Mrs. Johan (Johanna Persdotter Larsson)",
         "40.0",
         "9.475",
         "7546",
         "S"
        ],
        [
         "41",
         "Turpin, Mrs. William John Robert (Dorothy Ann Wonnacott)",
         "27.0",
         "21.0",
         "11668",
         "S"
        ],
        [
         "42",
         "Kraeff, Mr. Theodor",
         null,
         "7.8958",
         "349253",
         "C"
        ],
        [
         "43",
         "Laroche, Miss. Simonne Marie Anne Andree",
         "3.0",
         "41.5792",
         "SC/Paris 2123",
         "C"
        ],
        [
         "44",
         "Devaney, Miss. Margaret Delia",
         "19.0",
         "7.8792",
         "330958",
         "Q"
        ],
        [
         "45",
         "Rogers, Mr. William John",
         null,
         "8.05",
         "S.C./A.4. 23567",
         "S"
        ],
        [
         "46",
         "Lennon, Mr. Denis",
         null,
         "15.5",
         "370371",
         "Q"
        ],
        [
         "47",
         "O'Driscoll, Miss. Bridget",
         null,
         "7.75",
         "14311",
         "Q"
        ],
        [
         "48",
         "Samaan, Mr. Youssef",
         null,
         "21.6792",
         "2662",
         "C"
        ],
        [
         "49",
         "Arnold-Franchi, Mrs. Josef (Josefine Franchi)",
         "18.0",
         "17.8",
         "349237",
         "S"
        ]
       ],
       "shape": {
        "columns": 5,
        "rows": 891
       }
      },
      "text/html": [
       "<div>\n",
       "<style scoped>\n",
       "    .dataframe tbody tr th:only-of-type {\n",
       "        vertical-align: middle;\n",
       "    }\n",
       "\n",
       "    .dataframe tbody tr th {\n",
       "        vertical-align: top;\n",
       "    }\n",
       "\n",
       "    .dataframe thead th {\n",
       "        text-align: right;\n",
       "    }\n",
       "</style>\n",
       "<table border=\"1\" class=\"dataframe\">\n",
       "  <thead>\n",
       "    <tr style=\"text-align: right;\">\n",
       "      <th></th>\n",
       "      <th>Name</th>\n",
       "      <th>Age</th>\n",
       "      <th>Fare</th>\n",
       "      <th>Ticket</th>\n",
       "      <th>Embarked</th>\n",
       "    </tr>\n",
       "  </thead>\n",
       "  <tbody>\n",
       "    <tr>\n",
       "      <th>0</th>\n",
       "      <td>Braund, Mr. Owen Harris</td>\n",
       "      <td>22.0</td>\n",
       "      <td>7.2500</td>\n",
       "      <td>A/5 21171</td>\n",
       "      <td>S</td>\n",
       "    </tr>\n",
       "    <tr>\n",
       "      <th>1</th>\n",
       "      <td>Cumings, Mrs. John Bradley (Florence Briggs Th...</td>\n",
       "      <td>38.0</td>\n",
       "      <td>71.2833</td>\n",
       "      <td>PC 17599</td>\n",
       "      <td>C</td>\n",
       "    </tr>\n",
       "    <tr>\n",
       "      <th>2</th>\n",
       "      <td>Heikkinen, Miss. Laina</td>\n",
       "      <td>26.0</td>\n",
       "      <td>7.9250</td>\n",
       "      <td>STON/O2. 3101282</td>\n",
       "      <td>S</td>\n",
       "    </tr>\n",
       "    <tr>\n",
       "      <th>3</th>\n",
       "      <td>Futrelle, Mrs. Jacques Heath (Lily May Peel)</td>\n",
       "      <td>35.0</td>\n",
       "      <td>53.1000</td>\n",
       "      <td>113803</td>\n",
       "      <td>S</td>\n",
       "    </tr>\n",
       "    <tr>\n",
       "      <th>4</th>\n",
       "      <td>Allen, Mr. William Henry</td>\n",
       "      <td>35.0</td>\n",
       "      <td>8.0500</td>\n",
       "      <td>373450</td>\n",
       "      <td>S</td>\n",
       "    </tr>\n",
       "    <tr>\n",
       "      <th>...</th>\n",
       "      <td>...</td>\n",
       "      <td>...</td>\n",
       "      <td>...</td>\n",
       "      <td>...</td>\n",
       "      <td>...</td>\n",
       "    </tr>\n",
       "    <tr>\n",
       "      <th>886</th>\n",
       "      <td>Montvila, Rev. Juozas</td>\n",
       "      <td>27.0</td>\n",
       "      <td>13.0000</td>\n",
       "      <td>211536</td>\n",
       "      <td>S</td>\n",
       "    </tr>\n",
       "    <tr>\n",
       "      <th>887</th>\n",
       "      <td>Graham, Miss. Margaret Edith</td>\n",
       "      <td>19.0</td>\n",
       "      <td>30.0000</td>\n",
       "      <td>112053</td>\n",
       "      <td>S</td>\n",
       "    </tr>\n",
       "    <tr>\n",
       "      <th>888</th>\n",
       "      <td>Johnston, Miss. Catherine Helen \"Carrie\"</td>\n",
       "      <td>NaN</td>\n",
       "      <td>23.4500</td>\n",
       "      <td>W./C. 6607</td>\n",
       "      <td>S</td>\n",
       "    </tr>\n",
       "    <tr>\n",
       "      <th>889</th>\n",
       "      <td>Behr, Mr. Karl Howell</td>\n",
       "      <td>26.0</td>\n",
       "      <td>30.0000</td>\n",
       "      <td>111369</td>\n",
       "      <td>C</td>\n",
       "    </tr>\n",
       "    <tr>\n",
       "      <th>890</th>\n",
       "      <td>Dooley, Mr. Patrick</td>\n",
       "      <td>32.0</td>\n",
       "      <td>7.7500</td>\n",
       "      <td>370376</td>\n",
       "      <td>Q</td>\n",
       "    </tr>\n",
       "  </tbody>\n",
       "</table>\n",
       "<p>891 rows × 5 columns</p>\n",
       "</div>"
      ],
      "text/plain": [
       "                                                  Name   Age     Fare  \\\n",
       "0                              Braund, Mr. Owen Harris  22.0   7.2500   \n",
       "1    Cumings, Mrs. John Bradley (Florence Briggs Th...  38.0  71.2833   \n",
       "2                               Heikkinen, Miss. Laina  26.0   7.9250   \n",
       "3         Futrelle, Mrs. Jacques Heath (Lily May Peel)  35.0  53.1000   \n",
       "4                             Allen, Mr. William Henry  35.0   8.0500   \n",
       "..                                                 ...   ...      ...   \n",
       "886                              Montvila, Rev. Juozas  27.0  13.0000   \n",
       "887                       Graham, Miss. Margaret Edith  19.0  30.0000   \n",
       "888           Johnston, Miss. Catherine Helen \"Carrie\"   NaN  23.4500   \n",
       "889                              Behr, Mr. Karl Howell  26.0  30.0000   \n",
       "890                                Dooley, Mr. Patrick  32.0   7.7500   \n",
       "\n",
       "               Ticket Embarked  \n",
       "0           A/5 21171        S  \n",
       "1            PC 17599        C  \n",
       "2    STON/O2. 3101282        S  \n",
       "3              113803        S  \n",
       "4              373450        S  \n",
       "..                ...      ...  \n",
       "886            211536        S  \n",
       "887            112053        S  \n",
       "888        W./C. 6607        S  \n",
       "889            111369        C  \n",
       "890            370376        Q  \n",
       "\n",
       "[891 rows x 5 columns]"
      ]
     },
     "execution_count": 4,
     "metadata": {},
     "output_type": "execute_result"
    }
   ],
   "source": [
    "a = df[[\"Name\",\"Age\", \"Fare\", \"Ticket\", \"Embarked\"]]\n",
    "a"
   ]
  },
  {
   "cell_type": "code",
   "execution_count": 5,
   "id": "996597c7",
   "metadata": {},
   "outputs": [
    {
     "data": {
      "application/vnd.microsoft.datawrangler.viewer.v0+json": {
       "columns": [
        {
         "name": "index",
         "rawType": "int64",
         "type": "integer"
        },
        {
         "name": "Name",
         "rawType": "object",
         "type": "string"
        },
        {
         "name": "Survived",
         "rawType": "int64",
         "type": "integer"
        }
       ],
       "ref": "4c3688c9-1b81-4d66-a800-18effb741fa7",
       "rows": [
        [
         "0",
         "Braund, Mr. Owen Harris",
         "0"
        ],
        [
         "1",
         "Cumings, Mrs. John Bradley (Florence Briggs Thayer)",
         "1"
        ],
        [
         "2",
         "Heikkinen, Miss. Laina",
         "1"
        ],
        [
         "3",
         "Futrelle, Mrs. Jacques Heath (Lily May Peel)",
         "1"
        ],
        [
         "4",
         "Allen, Mr. William Henry",
         "0"
        ],
        [
         "5",
         "Moran, Mr. James",
         "0"
        ],
        [
         "6",
         "McCarthy, Mr. Timothy J",
         "0"
        ],
        [
         "7",
         "Palsson, Master. Gosta Leonard",
         "0"
        ],
        [
         "8",
         "Johnson, Mrs. Oscar W (Elisabeth Vilhelmina Berg)",
         "1"
        ],
        [
         "9",
         "Nasser, Mrs. Nicholas (Adele Achem)",
         "1"
        ],
        [
         "10",
         "Sandstrom, Miss. Marguerite Rut",
         "1"
        ],
        [
         "11",
         "Bonnell, Miss. Elizabeth",
         "1"
        ],
        [
         "12",
         "Saundercock, Mr. William Henry",
         "0"
        ],
        [
         "13",
         "Andersson, Mr. Anders Johan",
         "0"
        ],
        [
         "14",
         "Vestrom, Miss. Hulda Amanda Adolfina",
         "0"
        ],
        [
         "15",
         "Hewlett, Mrs. (Mary D Kingcome) ",
         "1"
        ],
        [
         "16",
         "Rice, Master. Eugene",
         "0"
        ],
        [
         "17",
         "Williams, Mr. Charles Eugene",
         "1"
        ],
        [
         "18",
         "Vander Planke, Mrs. Julius (Emelia Maria Vandemoortele)",
         "0"
        ],
        [
         "19",
         "Masselmani, Mrs. Fatima",
         "1"
        ],
        [
         "20",
         "Fynney, Mr. Joseph J",
         "0"
        ],
        [
         "21",
         "Beesley, Mr. Lawrence",
         "1"
        ],
        [
         "22",
         "McGowan, Miss. Anna \"Annie\"",
         "1"
        ],
        [
         "23",
         "Sloper, Mr. William Thompson",
         "1"
        ],
        [
         "24",
         "Palsson, Miss. Torborg Danira",
         "0"
        ],
        [
         "25",
         "Asplund, Mrs. Carl Oscar (Selma Augusta Emilia Johansson)",
         "1"
        ],
        [
         "26",
         "Emir, Mr. Farred Chehab",
         "0"
        ],
        [
         "27",
         "Fortune, Mr. Charles Alexander",
         "0"
        ],
        [
         "28",
         "O'Dwyer, Miss. Ellen \"Nellie\"",
         "1"
        ],
        [
         "29",
         "Todoroff, Mr. Lalio",
         "0"
        ],
        [
         "30",
         "Uruchurtu, Don. Manuel E",
         "0"
        ],
        [
         "31",
         "Spencer, Mrs. William Augustus (Marie Eugenie)",
         "1"
        ],
        [
         "32",
         "Glynn, Miss. Mary Agatha",
         "1"
        ],
        [
         "33",
         "Wheadon, Mr. Edward H",
         "0"
        ],
        [
         "34",
         "Meyer, Mr. Edgar Joseph",
         "0"
        ],
        [
         "35",
         "Holverson, Mr. Alexander Oskar",
         "0"
        ],
        [
         "36",
         "Mamee, Mr. Hanna",
         "1"
        ],
        [
         "37",
         "Cann, Mr. Ernest Charles",
         "0"
        ],
        [
         "38",
         "Vander Planke, Miss. Augusta Maria",
         "0"
        ],
        [
         "39",
         "Nicola-Yarred, Miss. Jamila",
         "1"
        ],
        [
         "40",
         "Ahlin, Mrs. Johan (Johanna Persdotter Larsson)",
         "0"
        ],
        [
         "41",
         "Turpin, Mrs. William John Robert (Dorothy Ann Wonnacott)",
         "0"
        ],
        [
         "42",
         "Kraeff, Mr. Theodor",
         "0"
        ],
        [
         "43",
         "Laroche, Miss. Simonne Marie Anne Andree",
         "1"
        ],
        [
         "44",
         "Devaney, Miss. Margaret Delia",
         "1"
        ],
        [
         "45",
         "Rogers, Mr. William John",
         "0"
        ],
        [
         "46",
         "Lennon, Mr. Denis",
         "0"
        ],
        [
         "47",
         "O'Driscoll, Miss. Bridget",
         "1"
        ],
        [
         "48",
         "Samaan, Mr. Youssef",
         "0"
        ],
        [
         "49",
         "Arnold-Franchi, Mrs. Josef (Josefine Franchi)",
         "0"
        ]
       ],
       "shape": {
        "columns": 2,
        "rows": 891
       }
      },
      "text/html": [
       "<div>\n",
       "<style scoped>\n",
       "    .dataframe tbody tr th:only-of-type {\n",
       "        vertical-align: middle;\n",
       "    }\n",
       "\n",
       "    .dataframe tbody tr th {\n",
       "        vertical-align: top;\n",
       "    }\n",
       "\n",
       "    .dataframe thead th {\n",
       "        text-align: right;\n",
       "    }\n",
       "</style>\n",
       "<table border=\"1\" class=\"dataframe\">\n",
       "  <thead>\n",
       "    <tr style=\"text-align: right;\">\n",
       "      <th></th>\n",
       "      <th>Name</th>\n",
       "      <th>Survived</th>\n",
       "    </tr>\n",
       "  </thead>\n",
       "  <tbody>\n",
       "    <tr>\n",
       "      <th>0</th>\n",
       "      <td>Braund, Mr. Owen Harris</td>\n",
       "      <td>0</td>\n",
       "    </tr>\n",
       "    <tr>\n",
       "      <th>1</th>\n",
       "      <td>Cumings, Mrs. John Bradley (Florence Briggs Th...</td>\n",
       "      <td>1</td>\n",
       "    </tr>\n",
       "    <tr>\n",
       "      <th>2</th>\n",
       "      <td>Heikkinen, Miss. Laina</td>\n",
       "      <td>1</td>\n",
       "    </tr>\n",
       "    <tr>\n",
       "      <th>3</th>\n",
       "      <td>Futrelle, Mrs. Jacques Heath (Lily May Peel)</td>\n",
       "      <td>1</td>\n",
       "    </tr>\n",
       "    <tr>\n",
       "      <th>4</th>\n",
       "      <td>Allen, Mr. William Henry</td>\n",
       "      <td>0</td>\n",
       "    </tr>\n",
       "    <tr>\n",
       "      <th>...</th>\n",
       "      <td>...</td>\n",
       "      <td>...</td>\n",
       "    </tr>\n",
       "    <tr>\n",
       "      <th>886</th>\n",
       "      <td>Montvila, Rev. Juozas</td>\n",
       "      <td>0</td>\n",
       "    </tr>\n",
       "    <tr>\n",
       "      <th>887</th>\n",
       "      <td>Graham, Miss. Margaret Edith</td>\n",
       "      <td>1</td>\n",
       "    </tr>\n",
       "    <tr>\n",
       "      <th>888</th>\n",
       "      <td>Johnston, Miss. Catherine Helen \"Carrie\"</td>\n",
       "      <td>0</td>\n",
       "    </tr>\n",
       "    <tr>\n",
       "      <th>889</th>\n",
       "      <td>Behr, Mr. Karl Howell</td>\n",
       "      <td>1</td>\n",
       "    </tr>\n",
       "    <tr>\n",
       "      <th>890</th>\n",
       "      <td>Dooley, Mr. Patrick</td>\n",
       "      <td>0</td>\n",
       "    </tr>\n",
       "  </tbody>\n",
       "</table>\n",
       "<p>891 rows × 2 columns</p>\n",
       "</div>"
      ],
      "text/plain": [
       "                                                  Name  Survived\n",
       "0                              Braund, Mr. Owen Harris         0\n",
       "1    Cumings, Mrs. John Bradley (Florence Briggs Th...         1\n",
       "2                               Heikkinen, Miss. Laina         1\n",
       "3         Futrelle, Mrs. Jacques Heath (Lily May Peel)         1\n",
       "4                             Allen, Mr. William Henry         0\n",
       "..                                                 ...       ...\n",
       "886                              Montvila, Rev. Juozas         0\n",
       "887                       Graham, Miss. Margaret Edith         1\n",
       "888           Johnston, Miss. Catherine Helen \"Carrie\"         0\n",
       "889                              Behr, Mr. Karl Howell         1\n",
       "890                                Dooley, Mr. Patrick         0\n",
       "\n",
       "[891 rows x 2 columns]"
      ]
     },
     "execution_count": 5,
     "metadata": {},
     "output_type": "execute_result"
    }
   ],
   "source": [
    "df[[\"Name\",\"Survived\"]]"
   ]
  },
  {
   "cell_type": "code",
   "execution_count": 6,
   "id": "70842fbb",
   "metadata": {},
   "outputs": [
    {
     "data": {
      "application/vnd.microsoft.datawrangler.viewer.v0+json": {
       "columns": [
        {
         "name": "index",
         "rawType": "int64",
         "type": "integer"
        },
        {
         "name": "Name",
         "rawType": "object",
         "type": "string"
        },
        {
         "name": "Age",
         "rawType": "float64",
         "type": "float"
        },
        {
         "name": "Fare",
         "rawType": "float64",
         "type": "float"
        }
       ],
       "ref": "2921c429-dc85-4930-8178-eaf977737606",
       "rows": [
        [
         "0",
         "Braund, Mr. Owen Harris",
         "22.0",
         "7.25"
        ],
        [
         "1",
         "Cumings, Mrs. John Bradley (Florence Briggs Thayer)",
         "38.0",
         "71.2833"
        ],
        [
         "2",
         "Heikkinen, Miss. Laina",
         "26.0",
         "7.925"
        ],
        [
         "3",
         "Futrelle, Mrs. Jacques Heath (Lily May Peel)",
         "35.0",
         "53.1"
        ],
        [
         "4",
         "Allen, Mr. William Henry",
         "35.0",
         "8.05"
        ],
        [
         "5",
         "Moran, Mr. James",
         null,
         "8.4583"
        ],
        [
         "6",
         "McCarthy, Mr. Timothy J",
         "54.0",
         "51.8625"
        ],
        [
         "7",
         "Palsson, Master. Gosta Leonard",
         "2.0",
         "21.075"
        ],
        [
         "8",
         "Johnson, Mrs. Oscar W (Elisabeth Vilhelmina Berg)",
         "27.0",
         "11.1333"
        ],
        [
         "9",
         "Nasser, Mrs. Nicholas (Adele Achem)",
         "14.0",
         "30.0708"
        ],
        [
         "10",
         "Sandstrom, Miss. Marguerite Rut",
         "4.0",
         "16.7"
        ],
        [
         "11",
         "Bonnell, Miss. Elizabeth",
         "58.0",
         "26.55"
        ],
        [
         "12",
         "Saundercock, Mr. William Henry",
         "20.0",
         "8.05"
        ],
        [
         "13",
         "Andersson, Mr. Anders Johan",
         "39.0",
         "31.275"
        ],
        [
         "14",
         "Vestrom, Miss. Hulda Amanda Adolfina",
         "14.0",
         "7.8542"
        ],
        [
         "15",
         "Hewlett, Mrs. (Mary D Kingcome) ",
         "55.0",
         "16.0"
        ],
        [
         "16",
         "Rice, Master. Eugene",
         "2.0",
         "29.125"
        ],
        [
         "17",
         "Williams, Mr. Charles Eugene",
         null,
         "13.0"
        ],
        [
         "18",
         "Vander Planke, Mrs. Julius (Emelia Maria Vandemoortele)",
         "31.0",
         "18.0"
        ],
        [
         "19",
         "Masselmani, Mrs. Fatima",
         null,
         "7.225"
        ],
        [
         "20",
         "Fynney, Mr. Joseph J",
         "35.0",
         "26.0"
        ],
        [
         "21",
         "Beesley, Mr. Lawrence",
         "34.0",
         "13.0"
        ],
        [
         "22",
         "McGowan, Miss. Anna \"Annie\"",
         "15.0",
         "8.0292"
        ],
        [
         "23",
         "Sloper, Mr. William Thompson",
         "28.0",
         "35.5"
        ],
        [
         "24",
         "Palsson, Miss. Torborg Danira",
         "8.0",
         "21.075"
        ],
        [
         "25",
         "Asplund, Mrs. Carl Oscar (Selma Augusta Emilia Johansson)",
         "38.0",
         "31.3875"
        ],
        [
         "26",
         "Emir, Mr. Farred Chehab",
         null,
         "7.225"
        ],
        [
         "27",
         "Fortune, Mr. Charles Alexander",
         "19.0",
         "263.0"
        ],
        [
         "28",
         "O'Dwyer, Miss. Ellen \"Nellie\"",
         null,
         "7.8792"
        ],
        [
         "29",
         "Todoroff, Mr. Lalio",
         null,
         "7.8958"
        ],
        [
         "30",
         "Uruchurtu, Don. Manuel E",
         "40.0",
         "27.7208"
        ],
        [
         "31",
         "Spencer, Mrs. William Augustus (Marie Eugenie)",
         null,
         "146.5208"
        ],
        [
         "32",
         "Glynn, Miss. Mary Agatha",
         null,
         "7.75"
        ],
        [
         "33",
         "Wheadon, Mr. Edward H",
         "66.0",
         "10.5"
        ],
        [
         "34",
         "Meyer, Mr. Edgar Joseph",
         "28.0",
         "82.1708"
        ],
        [
         "35",
         "Holverson, Mr. Alexander Oskar",
         "42.0",
         "52.0"
        ],
        [
         "36",
         "Mamee, Mr. Hanna",
         null,
         "7.2292"
        ],
        [
         "37",
         "Cann, Mr. Ernest Charles",
         "21.0",
         "8.05"
        ],
        [
         "38",
         "Vander Planke, Miss. Augusta Maria",
         "18.0",
         "18.0"
        ],
        [
         "39",
         "Nicola-Yarred, Miss. Jamila",
         "14.0",
         "11.2417"
        ],
        [
         "40",
         "Ahlin, Mrs. Johan (Johanna Persdotter Larsson)",
         "40.0",
         "9.475"
        ],
        [
         "41",
         "Turpin, Mrs. William John Robert (Dorothy Ann Wonnacott)",
         "27.0",
         "21.0"
        ],
        [
         "42",
         "Kraeff, Mr. Theodor",
         null,
         "7.8958"
        ],
        [
         "43",
         "Laroche, Miss. Simonne Marie Anne Andree",
         "3.0",
         "41.5792"
        ],
        [
         "44",
         "Devaney, Miss. Margaret Delia",
         "19.0",
         "7.8792"
        ],
        [
         "45",
         "Rogers, Mr. William John",
         null,
         "8.05"
        ],
        [
         "46",
         "Lennon, Mr. Denis",
         null,
         "15.5"
        ],
        [
         "47",
         "O'Driscoll, Miss. Bridget",
         null,
         "7.75"
        ],
        [
         "48",
         "Samaan, Mr. Youssef",
         null,
         "21.6792"
        ],
        [
         "49",
         "Arnold-Franchi, Mrs. Josef (Josefine Franchi)",
         "18.0",
         "17.8"
        ]
       ],
       "shape": {
        "columns": 3,
        "rows": 891
       }
      },
      "text/html": [
       "<div>\n",
       "<style scoped>\n",
       "    .dataframe tbody tr th:only-of-type {\n",
       "        vertical-align: middle;\n",
       "    }\n",
       "\n",
       "    .dataframe tbody tr th {\n",
       "        vertical-align: top;\n",
       "    }\n",
       "\n",
       "    .dataframe thead th {\n",
       "        text-align: right;\n",
       "    }\n",
       "</style>\n",
       "<table border=\"1\" class=\"dataframe\">\n",
       "  <thead>\n",
       "    <tr style=\"text-align: right;\">\n",
       "      <th></th>\n",
       "      <th>Name</th>\n",
       "      <th>Age</th>\n",
       "      <th>Fare</th>\n",
       "    </tr>\n",
       "  </thead>\n",
       "  <tbody>\n",
       "    <tr>\n",
       "      <th>0</th>\n",
       "      <td>Braund, Mr. Owen Harris</td>\n",
       "      <td>22.0</td>\n",
       "      <td>7.2500</td>\n",
       "    </tr>\n",
       "    <tr>\n",
       "      <th>1</th>\n",
       "      <td>Cumings, Mrs. John Bradley (Florence Briggs Th...</td>\n",
       "      <td>38.0</td>\n",
       "      <td>71.2833</td>\n",
       "    </tr>\n",
       "    <tr>\n",
       "      <th>2</th>\n",
       "      <td>Heikkinen, Miss. Laina</td>\n",
       "      <td>26.0</td>\n",
       "      <td>7.9250</td>\n",
       "    </tr>\n",
       "    <tr>\n",
       "      <th>3</th>\n",
       "      <td>Futrelle, Mrs. Jacques Heath (Lily May Peel)</td>\n",
       "      <td>35.0</td>\n",
       "      <td>53.1000</td>\n",
       "    </tr>\n",
       "    <tr>\n",
       "      <th>4</th>\n",
       "      <td>Allen, Mr. William Henry</td>\n",
       "      <td>35.0</td>\n",
       "      <td>8.0500</td>\n",
       "    </tr>\n",
       "    <tr>\n",
       "      <th>...</th>\n",
       "      <td>...</td>\n",
       "      <td>...</td>\n",
       "      <td>...</td>\n",
       "    </tr>\n",
       "    <tr>\n",
       "      <th>886</th>\n",
       "      <td>Montvila, Rev. Juozas</td>\n",
       "      <td>27.0</td>\n",
       "      <td>13.0000</td>\n",
       "    </tr>\n",
       "    <tr>\n",
       "      <th>887</th>\n",
       "      <td>Graham, Miss. Margaret Edith</td>\n",
       "      <td>19.0</td>\n",
       "      <td>30.0000</td>\n",
       "    </tr>\n",
       "    <tr>\n",
       "      <th>888</th>\n",
       "      <td>Johnston, Miss. Catherine Helen \"Carrie\"</td>\n",
       "      <td>NaN</td>\n",
       "      <td>23.4500</td>\n",
       "    </tr>\n",
       "    <tr>\n",
       "      <th>889</th>\n",
       "      <td>Behr, Mr. Karl Howell</td>\n",
       "      <td>26.0</td>\n",
       "      <td>30.0000</td>\n",
       "    </tr>\n",
       "    <tr>\n",
       "      <th>890</th>\n",
       "      <td>Dooley, Mr. Patrick</td>\n",
       "      <td>32.0</td>\n",
       "      <td>7.7500</td>\n",
       "    </tr>\n",
       "  </tbody>\n",
       "</table>\n",
       "<p>891 rows × 3 columns</p>\n",
       "</div>"
      ],
      "text/plain": [
       "                                                  Name   Age     Fare\n",
       "0                              Braund, Mr. Owen Harris  22.0   7.2500\n",
       "1    Cumings, Mrs. John Bradley (Florence Briggs Th...  38.0  71.2833\n",
       "2                               Heikkinen, Miss. Laina  26.0   7.9250\n",
       "3         Futrelle, Mrs. Jacques Heath (Lily May Peel)  35.0  53.1000\n",
       "4                             Allen, Mr. William Henry  35.0   8.0500\n",
       "..                                                 ...   ...      ...\n",
       "886                              Montvila, Rev. Juozas  27.0  13.0000\n",
       "887                       Graham, Miss. Margaret Edith  19.0  30.0000\n",
       "888           Johnston, Miss. Catherine Helen \"Carrie\"   NaN  23.4500\n",
       "889                              Behr, Mr. Karl Howell  26.0  30.0000\n",
       "890                                Dooley, Mr. Patrick  32.0   7.7500\n",
       "\n",
       "[891 rows x 3 columns]"
      ]
     },
     "execution_count": 6,
     "metadata": {},
     "output_type": "execute_result"
    }
   ],
   "source": [
    "df[[\"Name\",\"Age\",\"Fare\"]]"
   ]
  },
  {
   "cell_type": "code",
   "execution_count": 7,
   "id": "8c391aa1",
   "metadata": {},
   "outputs": [
    {
     "data": {
      "application/vnd.microsoft.datawrangler.viewer.v0+json": {
       "columns": [
        {
         "name": "index",
         "rawType": "int64",
         "type": "integer"
        },
        {
         "name": "Name",
         "rawType": "object",
         "type": "string"
        },
        {
         "name": "Ticket",
         "rawType": "object",
         "type": "string"
        }
       ],
       "ref": "d232325c-1a21-453d-9ff3-2bda1cefd2e1",
       "rows": [
        [
         "0",
         "Braund, Mr. Owen Harris",
         "A/5 21171"
        ],
        [
         "1",
         "Cumings, Mrs. John Bradley (Florence Briggs Thayer)",
         "PC 17599"
        ],
        [
         "2",
         "Heikkinen, Miss. Laina",
         "STON/O2. 3101282"
        ],
        [
         "3",
         "Futrelle, Mrs. Jacques Heath (Lily May Peel)",
         "113803"
        ],
        [
         "4",
         "Allen, Mr. William Henry",
         "373450"
        ],
        [
         "5",
         "Moran, Mr. James",
         "330877"
        ],
        [
         "6",
         "McCarthy, Mr. Timothy J",
         "17463"
        ],
        [
         "7",
         "Palsson, Master. Gosta Leonard",
         "349909"
        ],
        [
         "8",
         "Johnson, Mrs. Oscar W (Elisabeth Vilhelmina Berg)",
         "347742"
        ],
        [
         "9",
         "Nasser, Mrs. Nicholas (Adele Achem)",
         "237736"
        ],
        [
         "10",
         "Sandstrom, Miss. Marguerite Rut",
         "PP 9549"
        ],
        [
         "11",
         "Bonnell, Miss. Elizabeth",
         "113783"
        ],
        [
         "12",
         "Saundercock, Mr. William Henry",
         "A/5. 2151"
        ],
        [
         "13",
         "Andersson, Mr. Anders Johan",
         "347082"
        ],
        [
         "14",
         "Vestrom, Miss. Hulda Amanda Adolfina",
         "350406"
        ],
        [
         "15",
         "Hewlett, Mrs. (Mary D Kingcome) ",
         "248706"
        ],
        [
         "16",
         "Rice, Master. Eugene",
         "382652"
        ],
        [
         "17",
         "Williams, Mr. Charles Eugene",
         "244373"
        ],
        [
         "18",
         "Vander Planke, Mrs. Julius (Emelia Maria Vandemoortele)",
         "345763"
        ],
        [
         "19",
         "Masselmani, Mrs. Fatima",
         "2649"
        ],
        [
         "20",
         "Fynney, Mr. Joseph J",
         "239865"
        ],
        [
         "21",
         "Beesley, Mr. Lawrence",
         "248698"
        ],
        [
         "22",
         "McGowan, Miss. Anna \"Annie\"",
         "330923"
        ],
        [
         "23",
         "Sloper, Mr. William Thompson",
         "113788"
        ],
        [
         "24",
         "Palsson, Miss. Torborg Danira",
         "349909"
        ],
        [
         "25",
         "Asplund, Mrs. Carl Oscar (Selma Augusta Emilia Johansson)",
         "347077"
        ],
        [
         "26",
         "Emir, Mr. Farred Chehab",
         "2631"
        ],
        [
         "27",
         "Fortune, Mr. Charles Alexander",
         "19950"
        ],
        [
         "28",
         "O'Dwyer, Miss. Ellen \"Nellie\"",
         "330959"
        ],
        [
         "29",
         "Todoroff, Mr. Lalio",
         "349216"
        ],
        [
         "30",
         "Uruchurtu, Don. Manuel E",
         "PC 17601"
        ],
        [
         "31",
         "Spencer, Mrs. William Augustus (Marie Eugenie)",
         "PC 17569"
        ],
        [
         "32",
         "Glynn, Miss. Mary Agatha",
         "335677"
        ],
        [
         "33",
         "Wheadon, Mr. Edward H",
         "C.A. 24579"
        ],
        [
         "34",
         "Meyer, Mr. Edgar Joseph",
         "PC 17604"
        ],
        [
         "35",
         "Holverson, Mr. Alexander Oskar",
         "113789"
        ],
        [
         "36",
         "Mamee, Mr. Hanna",
         "2677"
        ],
        [
         "37",
         "Cann, Mr. Ernest Charles",
         "A./5. 2152"
        ],
        [
         "38",
         "Vander Planke, Miss. Augusta Maria",
         "345764"
        ],
        [
         "39",
         "Nicola-Yarred, Miss. Jamila",
         "2651"
        ],
        [
         "40",
         "Ahlin, Mrs. Johan (Johanna Persdotter Larsson)",
         "7546"
        ],
        [
         "41",
         "Turpin, Mrs. William John Robert (Dorothy Ann Wonnacott)",
         "11668"
        ],
        [
         "42",
         "Kraeff, Mr. Theodor",
         "349253"
        ],
        [
         "43",
         "Laroche, Miss. Simonne Marie Anne Andree",
         "SC/Paris 2123"
        ],
        [
         "44",
         "Devaney, Miss. Margaret Delia",
         "330958"
        ],
        [
         "45",
         "Rogers, Mr. William John",
         "S.C./A.4. 23567"
        ],
        [
         "46",
         "Lennon, Mr. Denis",
         "370371"
        ],
        [
         "47",
         "O'Driscoll, Miss. Bridget",
         "14311"
        ],
        [
         "48",
         "Samaan, Mr. Youssef",
         "2662"
        ],
        [
         "49",
         "Arnold-Franchi, Mrs. Josef (Josefine Franchi)",
         "349237"
        ]
       ],
       "shape": {
        "columns": 2,
        "rows": 891
       }
      },
      "text/html": [
       "<div>\n",
       "<style scoped>\n",
       "    .dataframe tbody tr th:only-of-type {\n",
       "        vertical-align: middle;\n",
       "    }\n",
       "\n",
       "    .dataframe tbody tr th {\n",
       "        vertical-align: top;\n",
       "    }\n",
       "\n",
       "    .dataframe thead th {\n",
       "        text-align: right;\n",
       "    }\n",
       "</style>\n",
       "<table border=\"1\" class=\"dataframe\">\n",
       "  <thead>\n",
       "    <tr style=\"text-align: right;\">\n",
       "      <th></th>\n",
       "      <th>Name</th>\n",
       "      <th>Ticket</th>\n",
       "    </tr>\n",
       "  </thead>\n",
       "  <tbody>\n",
       "    <tr>\n",
       "      <th>0</th>\n",
       "      <td>Braund, Mr. Owen Harris</td>\n",
       "      <td>A/5 21171</td>\n",
       "    </tr>\n",
       "    <tr>\n",
       "      <th>1</th>\n",
       "      <td>Cumings, Mrs. John Bradley (Florence Briggs Th...</td>\n",
       "      <td>PC 17599</td>\n",
       "    </tr>\n",
       "    <tr>\n",
       "      <th>2</th>\n",
       "      <td>Heikkinen, Miss. Laina</td>\n",
       "      <td>STON/O2. 3101282</td>\n",
       "    </tr>\n",
       "    <tr>\n",
       "      <th>3</th>\n",
       "      <td>Futrelle, Mrs. Jacques Heath (Lily May Peel)</td>\n",
       "      <td>113803</td>\n",
       "    </tr>\n",
       "    <tr>\n",
       "      <th>4</th>\n",
       "      <td>Allen, Mr. William Henry</td>\n",
       "      <td>373450</td>\n",
       "    </tr>\n",
       "    <tr>\n",
       "      <th>...</th>\n",
       "      <td>...</td>\n",
       "      <td>...</td>\n",
       "    </tr>\n",
       "    <tr>\n",
       "      <th>886</th>\n",
       "      <td>Montvila, Rev. Juozas</td>\n",
       "      <td>211536</td>\n",
       "    </tr>\n",
       "    <tr>\n",
       "      <th>887</th>\n",
       "      <td>Graham, Miss. Margaret Edith</td>\n",
       "      <td>112053</td>\n",
       "    </tr>\n",
       "    <tr>\n",
       "      <th>888</th>\n",
       "      <td>Johnston, Miss. Catherine Helen \"Carrie\"</td>\n",
       "      <td>W./C. 6607</td>\n",
       "    </tr>\n",
       "    <tr>\n",
       "      <th>889</th>\n",
       "      <td>Behr, Mr. Karl Howell</td>\n",
       "      <td>111369</td>\n",
       "    </tr>\n",
       "    <tr>\n",
       "      <th>890</th>\n",
       "      <td>Dooley, Mr. Patrick</td>\n",
       "      <td>370376</td>\n",
       "    </tr>\n",
       "  </tbody>\n",
       "</table>\n",
       "<p>891 rows × 2 columns</p>\n",
       "</div>"
      ],
      "text/plain": [
       "                                                  Name            Ticket\n",
       "0                              Braund, Mr. Owen Harris         A/5 21171\n",
       "1    Cumings, Mrs. John Bradley (Florence Briggs Th...          PC 17599\n",
       "2                               Heikkinen, Miss. Laina  STON/O2. 3101282\n",
       "3         Futrelle, Mrs. Jacques Heath (Lily May Peel)            113803\n",
       "4                             Allen, Mr. William Henry            373450\n",
       "..                                                 ...               ...\n",
       "886                              Montvila, Rev. Juozas            211536\n",
       "887                       Graham, Miss. Margaret Edith            112053\n",
       "888           Johnston, Miss. Catherine Helen \"Carrie\"        W./C. 6607\n",
       "889                              Behr, Mr. Karl Howell            111369\n",
       "890                                Dooley, Mr. Patrick            370376\n",
       "\n",
       "[891 rows x 2 columns]"
      ]
     },
     "execution_count": 7,
     "metadata": {},
     "output_type": "execute_result"
    }
   ],
   "source": [
    "df[[\"Name\",\"Ticket\"]]"
   ]
  },
  {
   "cell_type": "code",
   "execution_count": 8,
   "id": "089fa830",
   "metadata": {},
   "outputs": [
    {
     "data": {
      "application/vnd.microsoft.datawrangler.viewer.v0+json": {
       "columns": [
        {
         "name": "index",
         "rawType": "int64",
         "type": "integer"
        },
        {
         "name": "Name",
         "rawType": "object",
         "type": "string"
        },
        {
         "name": "Sex",
         "rawType": "object",
         "type": "string"
        }
       ],
       "ref": "f21f0397-f8f2-4b06-a588-d5c071c930e3",
       "rows": [
        [
         "0",
         "Braund, Mr. Owen Harris",
         "male"
        ],
        [
         "1",
         "Cumings, Mrs. John Bradley (Florence Briggs Thayer)",
         "female"
        ],
        [
         "2",
         "Heikkinen, Miss. Laina",
         "female"
        ],
        [
         "3",
         "Futrelle, Mrs. Jacques Heath (Lily May Peel)",
         "female"
        ],
        [
         "4",
         "Allen, Mr. William Henry",
         "male"
        ],
        [
         "5",
         "Moran, Mr. James",
         "male"
        ],
        [
         "6",
         "McCarthy, Mr. Timothy J",
         "male"
        ],
        [
         "7",
         "Palsson, Master. Gosta Leonard",
         "male"
        ],
        [
         "8",
         "Johnson, Mrs. Oscar W (Elisabeth Vilhelmina Berg)",
         "female"
        ],
        [
         "9",
         "Nasser, Mrs. Nicholas (Adele Achem)",
         "female"
        ],
        [
         "10",
         "Sandstrom, Miss. Marguerite Rut",
         "female"
        ],
        [
         "11",
         "Bonnell, Miss. Elizabeth",
         "female"
        ],
        [
         "12",
         "Saundercock, Mr. William Henry",
         "male"
        ],
        [
         "13",
         "Andersson, Mr. Anders Johan",
         "male"
        ],
        [
         "14",
         "Vestrom, Miss. Hulda Amanda Adolfina",
         "female"
        ],
        [
         "15",
         "Hewlett, Mrs. (Mary D Kingcome) ",
         "female"
        ],
        [
         "16",
         "Rice, Master. Eugene",
         "male"
        ],
        [
         "17",
         "Williams, Mr. Charles Eugene",
         "male"
        ],
        [
         "18",
         "Vander Planke, Mrs. Julius (Emelia Maria Vandemoortele)",
         "female"
        ],
        [
         "19",
         "Masselmani, Mrs. Fatima",
         "female"
        ],
        [
         "20",
         "Fynney, Mr. Joseph J",
         "male"
        ],
        [
         "21",
         "Beesley, Mr. Lawrence",
         "male"
        ],
        [
         "22",
         "McGowan, Miss. Anna \"Annie\"",
         "female"
        ],
        [
         "23",
         "Sloper, Mr. William Thompson",
         "male"
        ],
        [
         "24",
         "Palsson, Miss. Torborg Danira",
         "female"
        ],
        [
         "25",
         "Asplund, Mrs. Carl Oscar (Selma Augusta Emilia Johansson)",
         "female"
        ],
        [
         "26",
         "Emir, Mr. Farred Chehab",
         "male"
        ],
        [
         "27",
         "Fortune, Mr. Charles Alexander",
         "male"
        ],
        [
         "28",
         "O'Dwyer, Miss. Ellen \"Nellie\"",
         "female"
        ],
        [
         "29",
         "Todoroff, Mr. Lalio",
         "male"
        ],
        [
         "30",
         "Uruchurtu, Don. Manuel E",
         "male"
        ],
        [
         "31",
         "Spencer, Mrs. William Augustus (Marie Eugenie)",
         "female"
        ],
        [
         "32",
         "Glynn, Miss. Mary Agatha",
         "female"
        ],
        [
         "33",
         "Wheadon, Mr. Edward H",
         "male"
        ],
        [
         "34",
         "Meyer, Mr. Edgar Joseph",
         "male"
        ],
        [
         "35",
         "Holverson, Mr. Alexander Oskar",
         "male"
        ],
        [
         "36",
         "Mamee, Mr. Hanna",
         "male"
        ],
        [
         "37",
         "Cann, Mr. Ernest Charles",
         "male"
        ],
        [
         "38",
         "Vander Planke, Miss. Augusta Maria",
         "female"
        ],
        [
         "39",
         "Nicola-Yarred, Miss. Jamila",
         "female"
        ],
        [
         "40",
         "Ahlin, Mrs. Johan (Johanna Persdotter Larsson)",
         "female"
        ],
        [
         "41",
         "Turpin, Mrs. William John Robert (Dorothy Ann Wonnacott)",
         "female"
        ],
        [
         "42",
         "Kraeff, Mr. Theodor",
         "male"
        ],
        [
         "43",
         "Laroche, Miss. Simonne Marie Anne Andree",
         "female"
        ],
        [
         "44",
         "Devaney, Miss. Margaret Delia",
         "female"
        ],
        [
         "45",
         "Rogers, Mr. William John",
         "male"
        ],
        [
         "46",
         "Lennon, Mr. Denis",
         "male"
        ],
        [
         "47",
         "O'Driscoll, Miss. Bridget",
         "female"
        ],
        [
         "48",
         "Samaan, Mr. Youssef",
         "male"
        ],
        [
         "49",
         "Arnold-Franchi, Mrs. Josef (Josefine Franchi)",
         "female"
        ]
       ],
       "shape": {
        "columns": 2,
        "rows": 891
       }
      },
      "text/html": [
       "<div>\n",
       "<style scoped>\n",
       "    .dataframe tbody tr th:only-of-type {\n",
       "        vertical-align: middle;\n",
       "    }\n",
       "\n",
       "    .dataframe tbody tr th {\n",
       "        vertical-align: top;\n",
       "    }\n",
       "\n",
       "    .dataframe thead th {\n",
       "        text-align: right;\n",
       "    }\n",
       "</style>\n",
       "<table border=\"1\" class=\"dataframe\">\n",
       "  <thead>\n",
       "    <tr style=\"text-align: right;\">\n",
       "      <th></th>\n",
       "      <th>Name</th>\n",
       "      <th>Sex</th>\n",
       "    </tr>\n",
       "  </thead>\n",
       "  <tbody>\n",
       "    <tr>\n",
       "      <th>0</th>\n",
       "      <td>Braund, Mr. Owen Harris</td>\n",
       "      <td>male</td>\n",
       "    </tr>\n",
       "    <tr>\n",
       "      <th>1</th>\n",
       "      <td>Cumings, Mrs. John Bradley (Florence Briggs Th...</td>\n",
       "      <td>female</td>\n",
       "    </tr>\n",
       "    <tr>\n",
       "      <th>2</th>\n",
       "      <td>Heikkinen, Miss. Laina</td>\n",
       "      <td>female</td>\n",
       "    </tr>\n",
       "    <tr>\n",
       "      <th>3</th>\n",
       "      <td>Futrelle, Mrs. Jacques Heath (Lily May Peel)</td>\n",
       "      <td>female</td>\n",
       "    </tr>\n",
       "    <tr>\n",
       "      <th>4</th>\n",
       "      <td>Allen, Mr. William Henry</td>\n",
       "      <td>male</td>\n",
       "    </tr>\n",
       "    <tr>\n",
       "      <th>...</th>\n",
       "      <td>...</td>\n",
       "      <td>...</td>\n",
       "    </tr>\n",
       "    <tr>\n",
       "      <th>886</th>\n",
       "      <td>Montvila, Rev. Juozas</td>\n",
       "      <td>male</td>\n",
       "    </tr>\n",
       "    <tr>\n",
       "      <th>887</th>\n",
       "      <td>Graham, Miss. Margaret Edith</td>\n",
       "      <td>female</td>\n",
       "    </tr>\n",
       "    <tr>\n",
       "      <th>888</th>\n",
       "      <td>Johnston, Miss. Catherine Helen \"Carrie\"</td>\n",
       "      <td>female</td>\n",
       "    </tr>\n",
       "    <tr>\n",
       "      <th>889</th>\n",
       "      <td>Behr, Mr. Karl Howell</td>\n",
       "      <td>male</td>\n",
       "    </tr>\n",
       "    <tr>\n",
       "      <th>890</th>\n",
       "      <td>Dooley, Mr. Patrick</td>\n",
       "      <td>male</td>\n",
       "    </tr>\n",
       "  </tbody>\n",
       "</table>\n",
       "<p>891 rows × 2 columns</p>\n",
       "</div>"
      ],
      "text/plain": [
       "                                                  Name     Sex\n",
       "0                              Braund, Mr. Owen Harris    male\n",
       "1    Cumings, Mrs. John Bradley (Florence Briggs Th...  female\n",
       "2                               Heikkinen, Miss. Laina  female\n",
       "3         Futrelle, Mrs. Jacques Heath (Lily May Peel)  female\n",
       "4                             Allen, Mr. William Henry    male\n",
       "..                                                 ...     ...\n",
       "886                              Montvila, Rev. Juozas    male\n",
       "887                       Graham, Miss. Margaret Edith  female\n",
       "888           Johnston, Miss. Catherine Helen \"Carrie\"  female\n",
       "889                              Behr, Mr. Karl Howell    male\n",
       "890                                Dooley, Mr. Patrick    male\n",
       "\n",
       "[891 rows x 2 columns]"
      ]
     },
     "execution_count": 8,
     "metadata": {},
     "output_type": "execute_result"
    }
   ],
   "source": [
    "df[[\"Name\",\"Sex\"]]"
   ]
  },
  {
   "cell_type": "code",
   "execution_count": 9,
   "id": "3b996dfd",
   "metadata": {},
   "outputs": [
    {
     "data": {
      "application/vnd.microsoft.datawrangler.viewer.v0+json": {
       "columns": [
        {
         "name": "index",
         "rawType": "int64",
         "type": "integer"
        },
        {
         "name": "Sex",
         "rawType": "object",
         "type": "string"
        },
        {
         "name": "Survived",
         "rawType": "int64",
         "type": "integer"
        }
       ],
       "ref": "e13dd1b5-e25c-406d-b5f9-5c79ef5b3def",
       "rows": [
        [
         "0",
         "male",
         "0"
        ],
        [
         "1",
         "female",
         "1"
        ],
        [
         "2",
         "female",
         "1"
        ],
        [
         "3",
         "female",
         "1"
        ],
        [
         "4",
         "male",
         "0"
        ],
        [
         "5",
         "male",
         "0"
        ],
        [
         "6",
         "male",
         "0"
        ],
        [
         "7",
         "male",
         "0"
        ],
        [
         "8",
         "female",
         "1"
        ],
        [
         "9",
         "female",
         "1"
        ],
        [
         "10",
         "female",
         "1"
        ],
        [
         "11",
         "female",
         "1"
        ],
        [
         "12",
         "male",
         "0"
        ],
        [
         "13",
         "male",
         "0"
        ],
        [
         "14",
         "female",
         "0"
        ],
        [
         "15",
         "female",
         "1"
        ],
        [
         "16",
         "male",
         "0"
        ],
        [
         "17",
         "male",
         "1"
        ],
        [
         "18",
         "female",
         "0"
        ],
        [
         "19",
         "female",
         "1"
        ],
        [
         "20",
         "male",
         "0"
        ],
        [
         "21",
         "male",
         "1"
        ],
        [
         "22",
         "female",
         "1"
        ],
        [
         "23",
         "male",
         "1"
        ],
        [
         "24",
         "female",
         "0"
        ],
        [
         "25",
         "female",
         "1"
        ],
        [
         "26",
         "male",
         "0"
        ],
        [
         "27",
         "male",
         "0"
        ],
        [
         "28",
         "female",
         "1"
        ],
        [
         "29",
         "male",
         "0"
        ],
        [
         "30",
         "male",
         "0"
        ],
        [
         "31",
         "female",
         "1"
        ],
        [
         "32",
         "female",
         "1"
        ],
        [
         "33",
         "male",
         "0"
        ],
        [
         "34",
         "male",
         "0"
        ],
        [
         "35",
         "male",
         "0"
        ],
        [
         "36",
         "male",
         "1"
        ],
        [
         "37",
         "male",
         "0"
        ],
        [
         "38",
         "female",
         "0"
        ],
        [
         "39",
         "female",
         "1"
        ],
        [
         "40",
         "female",
         "0"
        ],
        [
         "41",
         "female",
         "0"
        ],
        [
         "42",
         "male",
         "0"
        ],
        [
         "43",
         "female",
         "1"
        ],
        [
         "44",
         "female",
         "1"
        ],
        [
         "45",
         "male",
         "0"
        ],
        [
         "46",
         "male",
         "0"
        ],
        [
         "47",
         "female",
         "1"
        ],
        [
         "48",
         "male",
         "0"
        ],
        [
         "49",
         "female",
         "0"
        ]
       ],
       "shape": {
        "columns": 2,
        "rows": 891
       }
      },
      "text/html": [
       "<div>\n",
       "<style scoped>\n",
       "    .dataframe tbody tr th:only-of-type {\n",
       "        vertical-align: middle;\n",
       "    }\n",
       "\n",
       "    .dataframe tbody tr th {\n",
       "        vertical-align: top;\n",
       "    }\n",
       "\n",
       "    .dataframe thead th {\n",
       "        text-align: right;\n",
       "    }\n",
       "</style>\n",
       "<table border=\"1\" class=\"dataframe\">\n",
       "  <thead>\n",
       "    <tr style=\"text-align: right;\">\n",
       "      <th></th>\n",
       "      <th>Sex</th>\n",
       "      <th>Survived</th>\n",
       "    </tr>\n",
       "  </thead>\n",
       "  <tbody>\n",
       "    <tr>\n",
       "      <th>0</th>\n",
       "      <td>male</td>\n",
       "      <td>0</td>\n",
       "    </tr>\n",
       "    <tr>\n",
       "      <th>1</th>\n",
       "      <td>female</td>\n",
       "      <td>1</td>\n",
       "    </tr>\n",
       "    <tr>\n",
       "      <th>2</th>\n",
       "      <td>female</td>\n",
       "      <td>1</td>\n",
       "    </tr>\n",
       "    <tr>\n",
       "      <th>3</th>\n",
       "      <td>female</td>\n",
       "      <td>1</td>\n",
       "    </tr>\n",
       "    <tr>\n",
       "      <th>4</th>\n",
       "      <td>male</td>\n",
       "      <td>0</td>\n",
       "    </tr>\n",
       "    <tr>\n",
       "      <th>...</th>\n",
       "      <td>...</td>\n",
       "      <td>...</td>\n",
       "    </tr>\n",
       "    <tr>\n",
       "      <th>886</th>\n",
       "      <td>male</td>\n",
       "      <td>0</td>\n",
       "    </tr>\n",
       "    <tr>\n",
       "      <th>887</th>\n",
       "      <td>female</td>\n",
       "      <td>1</td>\n",
       "    </tr>\n",
       "    <tr>\n",
       "      <th>888</th>\n",
       "      <td>female</td>\n",
       "      <td>0</td>\n",
       "    </tr>\n",
       "    <tr>\n",
       "      <th>889</th>\n",
       "      <td>male</td>\n",
       "      <td>1</td>\n",
       "    </tr>\n",
       "    <tr>\n",
       "      <th>890</th>\n",
       "      <td>male</td>\n",
       "      <td>0</td>\n",
       "    </tr>\n",
       "  </tbody>\n",
       "</table>\n",
       "<p>891 rows × 2 columns</p>\n",
       "</div>"
      ],
      "text/plain": [
       "        Sex  Survived\n",
       "0      male         0\n",
       "1    female         1\n",
       "2    female         1\n",
       "3    female         1\n",
       "4      male         0\n",
       "..      ...       ...\n",
       "886    male         0\n",
       "887  female         1\n",
       "888  female         0\n",
       "889    male         1\n",
       "890    male         0\n",
       "\n",
       "[891 rows x 2 columns]"
      ]
     },
     "execution_count": 9,
     "metadata": {},
     "output_type": "execute_result"
    }
   ],
   "source": [
    "df[[\"Sex\",\"Survived\"]]"
   ]
  },
  {
   "cell_type": "code",
   "execution_count": 10,
   "id": "039fc3a1",
   "metadata": {},
   "outputs": [
    {
     "data": {
      "text/plain": [
       "array([0, 1])"
      ]
     },
     "execution_count": 10,
     "metadata": {},
     "output_type": "execute_result"
    }
   ],
   "source": [
    "df[\"Survived\"].unique()"
   ]
  },
  {
   "cell_type": "code",
   "execution_count": 11,
   "id": "38882bd1",
   "metadata": {},
   "outputs": [
    {
     "data": {
      "text/plain": [
       "array([0, 1])"
      ]
     },
     "execution_count": 11,
     "metadata": {},
     "output_type": "execute_result"
    }
   ],
   "source": [
    "df[\"Survived\"].unique()"
   ]
  },
  {
   "cell_type": "code",
   "execution_count": 12,
   "id": "b2eed956",
   "metadata": {},
   "outputs": [
    {
     "data": {
      "application/vnd.microsoft.datawrangler.viewer.v0+json": {
       "columns": [
        {
         "name": "Survived",
         "rawType": "int64",
         "type": "integer"
        },
        {
         "name": "count",
         "rawType": "int64",
         "type": "integer"
        }
       ],
       "ref": "60897bc7-6a42-4087-9053-fb38a7150f7d",
       "rows": [
        [
         "0",
         "549"
        ],
        [
         "1",
         "342"
        ]
       ],
       "shape": {
        "columns": 1,
        "rows": 2
       }
      },
      "text/plain": [
       "Survived\n",
       "0    549\n",
       "1    342\n",
       "Name: count, dtype: int64"
      ]
     },
     "execution_count": 12,
     "metadata": {},
     "output_type": "execute_result"
    }
   ],
   "source": [
    "df[\"Survived\"].value_counts()"
   ]
  },
  {
   "cell_type": "code",
   "execution_count": 13,
   "id": "e82f62de",
   "metadata": {},
   "outputs": [
    {
     "data": {
      "application/vnd.microsoft.datawrangler.viewer.v0+json": {
       "columns": [
        {
         "name": "Sex",
         "rawType": "object",
         "type": "string"
        },
        {
         "name": "count",
         "rawType": "int64",
         "type": "integer"
        }
       ],
       "ref": "b6054c47-75c9-4a5c-a421-652cf9edf624",
       "rows": [
        [
         "male",
         "577"
        ],
        [
         "female",
         "314"
        ]
       ],
       "shape": {
        "columns": 1,
        "rows": 2
       }
      },
      "text/plain": [
       "Sex\n",
       "male      577\n",
       "female    314\n",
       "Name: count, dtype: int64"
      ]
     },
     "execution_count": 13,
     "metadata": {},
     "output_type": "execute_result"
    }
   ],
   "source": [
    "df[\"Sex\"].value_counts()"
   ]
  },
  {
   "cell_type": "code",
   "execution_count": 14,
   "id": "76690df0",
   "metadata": {},
   "outputs": [
    {
     "data": {
      "application/vnd.microsoft.datawrangler.viewer.v0+json": {
       "columns": [
        {
         "name": "Embarked",
         "rawType": "object",
         "type": "string"
        },
        {
         "name": "count",
         "rawType": "int64",
         "type": "integer"
        }
       ],
       "ref": "0ab379d7-17d0-4a3e-b37d-5bf7c48ab98e",
       "rows": [
        [
         "S",
         "644"
        ],
        [
         "C",
         "168"
        ],
        [
         "Q",
         "77"
        ]
       ],
       "shape": {
        "columns": 1,
        "rows": 3
       }
      },
      "text/plain": [
       "Embarked\n",
       "S    644\n",
       "C    168\n",
       "Q     77\n",
       "Name: count, dtype: int64"
      ]
     },
     "execution_count": 14,
     "metadata": {},
     "output_type": "execute_result"
    }
   ],
   "source": [
    "df[\"Embarked\"].value_counts()"
   ]
  },
  {
   "cell_type": "code",
   "execution_count": 15,
   "id": "a2edcdbd",
   "metadata": {},
   "outputs": [
    {
     "data": {
      "text/plain": [
       "28693.9493"
      ]
     },
     "execution_count": 15,
     "metadata": {},
     "output_type": "execute_result"
    }
   ],
   "source": [
    "sum(df[\"Fare\"])"
   ]
  },
  {
   "cell_type": "code",
   "execution_count": 16,
   "id": "0bc8a3b0",
   "metadata": {},
   "outputs": [
    {
     "data": {
      "text/plain": [
       "0.0"
      ]
     },
     "execution_count": 16,
     "metadata": {},
     "output_type": "execute_result"
    }
   ],
   "source": [
    "min(df[\"Fare\"])"
   ]
  },
  {
   "cell_type": "code",
   "execution_count": 17,
   "id": "c55bfe08",
   "metadata": {},
   "outputs": [
    {
     "data": {
      "text/plain": [
       "512.3292"
      ]
     },
     "execution_count": 17,
     "metadata": {},
     "output_type": "execute_result"
    }
   ],
   "source": [
    "max(df[\"Fare\"])"
   ]
  },
  {
   "cell_type": "code",
   "execution_count": 18,
   "id": "b0dc4cd0",
   "metadata": {},
   "outputs": [
    {
     "name": "stdout",
     "output_type": "stream",
     "text": [
      "18177.412499999984\n"
     ]
    }
   ],
   "source": [
    "a = df[\"Pclass\"]\n",
    "c = df[\"Fare\"]\n",
    "b =[]\n",
    "for i,j in enumerate(a):\n",
    "    if a[i] == 1 : b.append(c[i])\n",
    "print(sum(b))"
   ]
  },
  {
   "cell_type": "code",
   "execution_count": 19,
   "id": "9566368c",
   "metadata": {},
   "outputs": [
    {
     "data": {
      "text/plain": [
       "18177.4125"
      ]
     },
     "execution_count": 19,
     "metadata": {},
     "output_type": "execute_result"
    }
   ],
   "source": [
    "sum(df[df[\"Pclass\"]==1][\"Fare\"])"
   ]
  },
  {
   "cell_type": "code",
   "execution_count": 20,
   "id": "48496ee3",
   "metadata": {},
   "outputs": [
    {
     "data": {
      "text/plain": [
       "512.3292"
      ]
     },
     "execution_count": 20,
     "metadata": {},
     "output_type": "execute_result"
    }
   ],
   "source": [
    "max(df[df[\"Pclass\"]==1][\"Fare\"])"
   ]
  },
  {
   "cell_type": "code",
   "execution_count": 21,
   "id": "e9ca045a",
   "metadata": {},
   "outputs": [
    {
     "data": {
      "text/plain": [
       "0.0"
      ]
     },
     "execution_count": 21,
     "metadata": {},
     "output_type": "execute_result"
    }
   ],
   "source": [
    "min(df[df[\"Pclass\"]==1][\"Fare\"])"
   ]
  },
  {
   "cell_type": "markdown",
   "id": "9aabe2f4",
   "metadata": {},
   "source": [
    "pclass 1 2 3\n",
    "\n",
    "2nd highest and lowest\n",
    "3rd highest and lowest"
   ]
  },
  {
   "cell_type": "code",
   "execution_count": 22,
   "id": "95680cbd",
   "metadata": {},
   "outputs": [
    {
     "name": "stdout",
     "output_type": "stream",
     "text": [
      "512.3292 263.0 71.2833\n"
     ]
    }
   ],
   "source": [
    "class1 = df[df[\"Pclass\"]==1][\"Fare\"]\n",
    "highest = 0\n",
    "second = 0\n",
    "third = 0\n",
    "for i,j in enumerate(class1):\n",
    "    if j > highest:\n",
    "        third = second\n",
    "        second = highest\n",
    "        highest = j\n",
    "    else:\n",
    "        pass\n",
    "print(highest,second,third)"
   ]
  },
  {
   "cell_type": "code",
   "execution_count": 23,
   "id": "a8022f4e",
   "metadata": {},
   "outputs": [
    {
     "name": "stdout",
     "output_type": "stream",
     "text": [
      "73.5 41.5792 30.0708\n"
     ]
    }
   ],
   "source": [
    "class1 = df[df[\"Pclass\"]==2][\"Fare\"]\n",
    "highest = 0\n",
    "second = 0\n",
    "third = 0\n",
    "for i,j in enumerate(class1):\n",
    "    if j > highest:\n",
    "        third = second\n",
    "        second = highest\n",
    "        highest = j\n",
    "    else:\n",
    "        pass\n",
    "print(highest,second,third)"
   ]
  },
  {
   "cell_type": "code",
   "execution_count": 24,
   "id": "92395fb3",
   "metadata": {},
   "outputs": [
    {
     "name": "stdout",
     "output_type": "stream",
     "text": [
      "69.55 56.4958 46.9\n"
     ]
    }
   ],
   "source": [
    "class1 = df[df[\"Pclass\"]==3][\"Fare\"]\n",
    "highest = 0\n",
    "second = 0\n",
    "third = 0\n",
    "for i,j in enumerate(class1):\n",
    "    if j > highest:\n",
    "        third = second\n",
    "        second = highest\n",
    "        highest = j\n",
    "    else:\n",
    "        pass\n",
    "print(highest,second,third)"
   ]
  },
  {
   "cell_type": "markdown",
   "id": "7bd7bfb7",
   "metadata": {},
   "source": [
    "lowest for 1"
   ]
  },
  {
   "cell_type": "code",
   "execution_count": 25,
   "id": "7cbcd758",
   "metadata": {},
   "outputs": [
    {
     "name": "stdout",
     "output_type": "stream",
     "text": [
      "0.0 0.0 0.0\n"
     ]
    }
   ],
   "source": [
    "class1 = df[df[\"Pclass\"]==1][\"Fare\"]\n",
    "lowest = 1000000000000000000\n",
    "second = 1000000000000000000\n",
    "third =  1000000000000000000\n",
    "\n",
    "for j in class1:\n",
    "    if j < lowest:\n",
    "        third = second\n",
    "        second = lowest\n",
    "        lowest = j\n",
    "    elif j < second:\n",
    "        third = second\n",
    "        second = j\n",
    "    elif j < third:\n",
    "        third = j\n",
    "\n",
    "print(lowest, second, third)"
   ]
  },
  {
   "cell_type": "code",
   "execution_count": 26,
   "id": "faa01fe1",
   "metadata": {},
   "outputs": [
    {
     "name": "stdout",
     "output_type": "stream",
     "text": [
      "0.0 0.0 0.0\n"
     ]
    }
   ],
   "source": [
    "# Assuming df is the DataFrame and class1 is the Series you're working with\n",
    "class1 = df[df[\"Pclass\"] == 1][\"Fare\"]\n",
    "\n",
    "# Use nsmallest to find the three lowest fares\n",
    "lowest, second, third = class1.nsmallest(3)\n",
    "\n",
    "print(lowest, second, third)"
   ]
  },
  {
   "cell_type": "code",
   "execution_count": null,
   "id": "d52ea54f",
   "metadata": {},
   "outputs": [],
   "source": []
  },
  {
   "cell_type": "code",
   "execution_count": 27,
   "id": "dd230eb2",
   "metadata": {},
   "outputs": [
    {
     "data": {
      "application/vnd.microsoft.datawrangler.viewer.v0+json": {
       "columns": [
        {
         "name": "index",
         "rawType": "int64",
         "type": "integer"
        },
        {
         "name": "PassengerId",
         "rawType": "int64",
         "type": "integer"
        },
        {
         "name": "Survived",
         "rawType": "int64",
         "type": "integer"
        },
        {
         "name": "Pclass",
         "rawType": "int64",
         "type": "integer"
        },
        {
         "name": "Name",
         "rawType": "object",
         "type": "string"
        },
        {
         "name": "Sex",
         "rawType": "object",
         "type": "string"
        },
        {
         "name": "Age",
         "rawType": "float64",
         "type": "float"
        },
        {
         "name": "SibSp",
         "rawType": "int64",
         "type": "integer"
        },
        {
         "name": "Parch",
         "rawType": "int64",
         "type": "integer"
        },
        {
         "name": "Ticket",
         "rawType": "object",
         "type": "string"
        },
        {
         "name": "Fare",
         "rawType": "float64",
         "type": "float"
        },
        {
         "name": "Cabin",
         "rawType": "object",
         "type": "unknown"
        },
        {
         "name": "Embarked",
         "rawType": "object",
         "type": "string"
        }
       ],
       "ref": "a5727587-85b2-4a51-8fe6-f3bac8a8950e",
       "rows": [
        [
         "0",
         "1",
         "0",
         "3",
         "Braund, Mr. Owen Harris",
         "male",
         "22.0",
         "1",
         "0",
         "A/5 21171",
         "7.25",
         null,
         "S"
        ],
        [
         "1",
         "2",
         "1",
         "1",
         "Cumings, Mrs. John Bradley (Florence Briggs Thayer)",
         "female",
         "38.0",
         "1",
         "0",
         "PC 17599",
         "71.2833",
         "C85",
         "C"
        ],
        [
         "2",
         "3",
         "1",
         "3",
         "Heikkinen, Miss. Laina",
         "female",
         "26.0",
         "0",
         "0",
         "STON/O2. 3101282",
         "7.925",
         null,
         "S"
        ],
        [
         "3",
         "4",
         "1",
         "1",
         "Futrelle, Mrs. Jacques Heath (Lily May Peel)",
         "female",
         "35.0",
         "1",
         "0",
         "113803",
         "53.1",
         "C123",
         "S"
        ],
        [
         "4",
         "5",
         "0",
         "3",
         "Allen, Mr. William Henry",
         "male",
         "35.0",
         "0",
         "0",
         "373450",
         "8.05",
         null,
         "S"
        ]
       ],
       "shape": {
        "columns": 12,
        "rows": 5
       }
      },
      "text/html": [
       "<div>\n",
       "<style scoped>\n",
       "    .dataframe tbody tr th:only-of-type {\n",
       "        vertical-align: middle;\n",
       "    }\n",
       "\n",
       "    .dataframe tbody tr th {\n",
       "        vertical-align: top;\n",
       "    }\n",
       "\n",
       "    .dataframe thead th {\n",
       "        text-align: right;\n",
       "    }\n",
       "</style>\n",
       "<table border=\"1\" class=\"dataframe\">\n",
       "  <thead>\n",
       "    <tr style=\"text-align: right;\">\n",
       "      <th></th>\n",
       "      <th>PassengerId</th>\n",
       "      <th>Survived</th>\n",
       "      <th>Pclass</th>\n",
       "      <th>Name</th>\n",
       "      <th>Sex</th>\n",
       "      <th>Age</th>\n",
       "      <th>SibSp</th>\n",
       "      <th>Parch</th>\n",
       "      <th>Ticket</th>\n",
       "      <th>Fare</th>\n",
       "      <th>Cabin</th>\n",
       "      <th>Embarked</th>\n",
       "    </tr>\n",
       "  </thead>\n",
       "  <tbody>\n",
       "    <tr>\n",
       "      <th>0</th>\n",
       "      <td>1</td>\n",
       "      <td>0</td>\n",
       "      <td>3</td>\n",
       "      <td>Braund, Mr. Owen Harris</td>\n",
       "      <td>male</td>\n",
       "      <td>22.0</td>\n",
       "      <td>1</td>\n",
       "      <td>0</td>\n",
       "      <td>A/5 21171</td>\n",
       "      <td>7.2500</td>\n",
       "      <td>NaN</td>\n",
       "      <td>S</td>\n",
       "    </tr>\n",
       "    <tr>\n",
       "      <th>1</th>\n",
       "      <td>2</td>\n",
       "      <td>1</td>\n",
       "      <td>1</td>\n",
       "      <td>Cumings, Mrs. John Bradley (Florence Briggs Th...</td>\n",
       "      <td>female</td>\n",
       "      <td>38.0</td>\n",
       "      <td>1</td>\n",
       "      <td>0</td>\n",
       "      <td>PC 17599</td>\n",
       "      <td>71.2833</td>\n",
       "      <td>C85</td>\n",
       "      <td>C</td>\n",
       "    </tr>\n",
       "    <tr>\n",
       "      <th>2</th>\n",
       "      <td>3</td>\n",
       "      <td>1</td>\n",
       "      <td>3</td>\n",
       "      <td>Heikkinen, Miss. Laina</td>\n",
       "      <td>female</td>\n",
       "      <td>26.0</td>\n",
       "      <td>0</td>\n",
       "      <td>0</td>\n",
       "      <td>STON/O2. 3101282</td>\n",
       "      <td>7.9250</td>\n",
       "      <td>NaN</td>\n",
       "      <td>S</td>\n",
       "    </tr>\n",
       "    <tr>\n",
       "      <th>3</th>\n",
       "      <td>4</td>\n",
       "      <td>1</td>\n",
       "      <td>1</td>\n",
       "      <td>Futrelle, Mrs. Jacques Heath (Lily May Peel)</td>\n",
       "      <td>female</td>\n",
       "      <td>35.0</td>\n",
       "      <td>1</td>\n",
       "      <td>0</td>\n",
       "      <td>113803</td>\n",
       "      <td>53.1000</td>\n",
       "      <td>C123</td>\n",
       "      <td>S</td>\n",
       "    </tr>\n",
       "    <tr>\n",
       "      <th>4</th>\n",
       "      <td>5</td>\n",
       "      <td>0</td>\n",
       "      <td>3</td>\n",
       "      <td>Allen, Mr. William Henry</td>\n",
       "      <td>male</td>\n",
       "      <td>35.0</td>\n",
       "      <td>0</td>\n",
       "      <td>0</td>\n",
       "      <td>373450</td>\n",
       "      <td>8.0500</td>\n",
       "      <td>NaN</td>\n",
       "      <td>S</td>\n",
       "    </tr>\n",
       "  </tbody>\n",
       "</table>\n",
       "</div>"
      ],
      "text/plain": [
       "   PassengerId  Survived  Pclass  \\\n",
       "0            1         0       3   \n",
       "1            2         1       1   \n",
       "2            3         1       3   \n",
       "3            4         1       1   \n",
       "4            5         0       3   \n",
       "\n",
       "                                                Name     Sex   Age  SibSp  \\\n",
       "0                            Braund, Mr. Owen Harris    male  22.0      1   \n",
       "1  Cumings, Mrs. John Bradley (Florence Briggs Th...  female  38.0      1   \n",
       "2                             Heikkinen, Miss. Laina  female  26.0      0   \n",
       "3       Futrelle, Mrs. Jacques Heath (Lily May Peel)  female  35.0      1   \n",
       "4                           Allen, Mr. William Henry    male  35.0      0   \n",
       "\n",
       "   Parch            Ticket     Fare Cabin Embarked  \n",
       "0      0         A/5 21171   7.2500   NaN        S  \n",
       "1      0          PC 17599  71.2833   C85        C  \n",
       "2      0  STON/O2. 3101282   7.9250   NaN        S  \n",
       "3      0            113803  53.1000  C123        S  \n",
       "4      0            373450   8.0500   NaN        S  "
      ]
     },
     "execution_count": 27,
     "metadata": {},
     "output_type": "execute_result"
    }
   ],
   "source": [
    "df.head()"
   ]
  },
  {
   "cell_type": "code",
   "execution_count": 28,
   "id": "98e91f59",
   "metadata": {},
   "outputs": [
    {
     "data": {
      "application/vnd.microsoft.datawrangler.viewer.v0+json": {
       "columns": [
        {
         "name": "index",
         "rawType": "int64",
         "type": "integer"
        },
        {
         "name": "PassengerId",
         "rawType": "int64",
         "type": "integer"
        },
        {
         "name": "Survived",
         "rawType": "int64",
         "type": "integer"
        },
        {
         "name": "Pclass",
         "rawType": "int64",
         "type": "integer"
        },
        {
         "name": "Name",
         "rawType": "object",
         "type": "string"
        },
        {
         "name": "Sex",
         "rawType": "object",
         "type": "string"
        },
        {
         "name": "Age",
         "rawType": "float64",
         "type": "float"
        },
        {
         "name": "SibSp",
         "rawType": "int64",
         "type": "integer"
        },
        {
         "name": "Parch",
         "rawType": "int64",
         "type": "integer"
        },
        {
         "name": "Ticket",
         "rawType": "object",
         "type": "string"
        },
        {
         "name": "Fare",
         "rawType": "float64",
         "type": "float"
        },
        {
         "name": "Cabin",
         "rawType": "object",
         "type": "unknown"
        },
        {
         "name": "Embarked",
         "rawType": "object",
         "type": "string"
        }
       ],
       "ref": "d29bb021-fd0d-4208-88d2-7368b81c2054",
       "rows": [
        [
         "886",
         "887",
         "0",
         "2",
         "Montvila, Rev. Juozas",
         "male",
         "27.0",
         "0",
         "0",
         "211536",
         "13.0",
         null,
         "S"
        ],
        [
         "887",
         "888",
         "1",
         "1",
         "Graham, Miss. Margaret Edith",
         "female",
         "19.0",
         "0",
         "0",
         "112053",
         "30.0",
         "B42",
         "S"
        ],
        [
         "888",
         "889",
         "0",
         "3",
         "Johnston, Miss. Catherine Helen \"Carrie\"",
         "female",
         null,
         "1",
         "2",
         "W./C. 6607",
         "23.45",
         null,
         "S"
        ],
        [
         "889",
         "890",
         "1",
         "1",
         "Behr, Mr. Karl Howell",
         "male",
         "26.0",
         "0",
         "0",
         "111369",
         "30.0",
         "C148",
         "C"
        ],
        [
         "890",
         "891",
         "0",
         "3",
         "Dooley, Mr. Patrick",
         "male",
         "32.0",
         "0",
         "0",
         "370376",
         "7.75",
         null,
         "Q"
        ]
       ],
       "shape": {
        "columns": 12,
        "rows": 5
       }
      },
      "text/html": [
       "<div>\n",
       "<style scoped>\n",
       "    .dataframe tbody tr th:only-of-type {\n",
       "        vertical-align: middle;\n",
       "    }\n",
       "\n",
       "    .dataframe tbody tr th {\n",
       "        vertical-align: top;\n",
       "    }\n",
       "\n",
       "    .dataframe thead th {\n",
       "        text-align: right;\n",
       "    }\n",
       "</style>\n",
       "<table border=\"1\" class=\"dataframe\">\n",
       "  <thead>\n",
       "    <tr style=\"text-align: right;\">\n",
       "      <th></th>\n",
       "      <th>PassengerId</th>\n",
       "      <th>Survived</th>\n",
       "      <th>Pclass</th>\n",
       "      <th>Name</th>\n",
       "      <th>Sex</th>\n",
       "      <th>Age</th>\n",
       "      <th>SibSp</th>\n",
       "      <th>Parch</th>\n",
       "      <th>Ticket</th>\n",
       "      <th>Fare</th>\n",
       "      <th>Cabin</th>\n",
       "      <th>Embarked</th>\n",
       "    </tr>\n",
       "  </thead>\n",
       "  <tbody>\n",
       "    <tr>\n",
       "      <th>886</th>\n",
       "      <td>887</td>\n",
       "      <td>0</td>\n",
       "      <td>2</td>\n",
       "      <td>Montvila, Rev. Juozas</td>\n",
       "      <td>male</td>\n",
       "      <td>27.0</td>\n",
       "      <td>0</td>\n",
       "      <td>0</td>\n",
       "      <td>211536</td>\n",
       "      <td>13.00</td>\n",
       "      <td>NaN</td>\n",
       "      <td>S</td>\n",
       "    </tr>\n",
       "    <tr>\n",
       "      <th>887</th>\n",
       "      <td>888</td>\n",
       "      <td>1</td>\n",
       "      <td>1</td>\n",
       "      <td>Graham, Miss. Margaret Edith</td>\n",
       "      <td>female</td>\n",
       "      <td>19.0</td>\n",
       "      <td>0</td>\n",
       "      <td>0</td>\n",
       "      <td>112053</td>\n",
       "      <td>30.00</td>\n",
       "      <td>B42</td>\n",
       "      <td>S</td>\n",
       "    </tr>\n",
       "    <tr>\n",
       "      <th>888</th>\n",
       "      <td>889</td>\n",
       "      <td>0</td>\n",
       "      <td>3</td>\n",
       "      <td>Johnston, Miss. Catherine Helen \"Carrie\"</td>\n",
       "      <td>female</td>\n",
       "      <td>NaN</td>\n",
       "      <td>1</td>\n",
       "      <td>2</td>\n",
       "      <td>W./C. 6607</td>\n",
       "      <td>23.45</td>\n",
       "      <td>NaN</td>\n",
       "      <td>S</td>\n",
       "    </tr>\n",
       "    <tr>\n",
       "      <th>889</th>\n",
       "      <td>890</td>\n",
       "      <td>1</td>\n",
       "      <td>1</td>\n",
       "      <td>Behr, Mr. Karl Howell</td>\n",
       "      <td>male</td>\n",
       "      <td>26.0</td>\n",
       "      <td>0</td>\n",
       "      <td>0</td>\n",
       "      <td>111369</td>\n",
       "      <td>30.00</td>\n",
       "      <td>C148</td>\n",
       "      <td>C</td>\n",
       "    </tr>\n",
       "    <tr>\n",
       "      <th>890</th>\n",
       "      <td>891</td>\n",
       "      <td>0</td>\n",
       "      <td>3</td>\n",
       "      <td>Dooley, Mr. Patrick</td>\n",
       "      <td>male</td>\n",
       "      <td>32.0</td>\n",
       "      <td>0</td>\n",
       "      <td>0</td>\n",
       "      <td>370376</td>\n",
       "      <td>7.75</td>\n",
       "      <td>NaN</td>\n",
       "      <td>Q</td>\n",
       "    </tr>\n",
       "  </tbody>\n",
       "</table>\n",
       "</div>"
      ],
      "text/plain": [
       "     PassengerId  Survived  Pclass                                      Name  \\\n",
       "886          887         0       2                     Montvila, Rev. Juozas   \n",
       "887          888         1       1              Graham, Miss. Margaret Edith   \n",
       "888          889         0       3  Johnston, Miss. Catherine Helen \"Carrie\"   \n",
       "889          890         1       1                     Behr, Mr. Karl Howell   \n",
       "890          891         0       3                       Dooley, Mr. Patrick   \n",
       "\n",
       "        Sex   Age  SibSp  Parch      Ticket   Fare Cabin Embarked  \n",
       "886    male  27.0      0      0      211536  13.00   NaN        S  \n",
       "887  female  19.0      0      0      112053  30.00   B42        S  \n",
       "888  female   NaN      1      2  W./C. 6607  23.45   NaN        S  \n",
       "889    male  26.0      0      0      111369  30.00  C148        C  \n",
       "890    male  32.0      0      0      370376   7.75   NaN        Q  "
      ]
     },
     "execution_count": 28,
     "metadata": {},
     "output_type": "execute_result"
    }
   ],
   "source": [
    "df.tail()"
   ]
  },
  {
   "cell_type": "code",
   "execution_count": 29,
   "id": "064cf48e",
   "metadata": {},
   "outputs": [
    {
     "data": {
      "text/plain": [
       "(891, 12)"
      ]
     },
     "execution_count": 29,
     "metadata": {},
     "output_type": "execute_result"
    }
   ],
   "source": [
    "# returns rows and columns\n",
    "df.shape"
   ]
  },
  {
   "cell_type": "code",
   "execution_count": 30,
   "id": "5e828e76",
   "metadata": {},
   "outputs": [
    {
     "name": "stdout",
     "output_type": "stream",
     "text": [
      "<class 'pandas.core.frame.DataFrame'>\n",
      "RangeIndex: 891 entries, 0 to 890\n",
      "Data columns (total 12 columns):\n",
      " #   Column       Non-Null Count  Dtype  \n",
      "---  ------       --------------  -----  \n",
      " 0   PassengerId  891 non-null    int64  \n",
      " 1   Survived     891 non-null    int64  \n",
      " 2   Pclass       891 non-null    int64  \n",
      " 3   Name         891 non-null    object \n",
      " 4   Sex          891 non-null    object \n",
      " 5   Age          714 non-null    float64\n",
      " 6   SibSp        891 non-null    int64  \n",
      " 7   Parch        891 non-null    int64  \n",
      " 8   Ticket       891 non-null    object \n",
      " 9   Fare         891 non-null    float64\n",
      " 10  Cabin        204 non-null    object \n",
      " 11  Embarked     889 non-null    object \n",
      "dtypes: float64(2), int64(5), object(5)\n",
      "memory usage: 83.7+ KB\n"
     ]
    }
   ],
   "source": [
    "df.info()"
   ]
  },
  {
   "cell_type": "code",
   "execution_count": 31,
   "id": "35d34a75",
   "metadata": {},
   "outputs": [
    {
     "data": {
      "application/vnd.microsoft.datawrangler.viewer.v0+json": {
       "columns": [
        {
         "name": "index",
         "rawType": "object",
         "type": "string"
        },
        {
         "name": "PassengerId",
         "rawType": "float64",
         "type": "float"
        },
        {
         "name": "Survived",
         "rawType": "float64",
         "type": "float"
        },
        {
         "name": "Pclass",
         "rawType": "float64",
         "type": "float"
        },
        {
         "name": "Age",
         "rawType": "float64",
         "type": "float"
        },
        {
         "name": "SibSp",
         "rawType": "float64",
         "type": "float"
        },
        {
         "name": "Parch",
         "rawType": "float64",
         "type": "float"
        },
        {
         "name": "Fare",
         "rawType": "float64",
         "type": "float"
        }
       ],
       "ref": "22fe676f-bf0a-4206-acd4-51812c05bb96",
       "rows": [
        [
         "count",
         "891.0",
         "891.0",
         "891.0",
         "714.0",
         "891.0",
         "891.0",
         "891.0"
        ],
        [
         "mean",
         "446.0",
         "0.3838383838383838",
         "2.308641975308642",
         "29.69911764705882",
         "0.5230078563411896",
         "0.38159371492704824",
         "32.204207968574636"
        ],
        [
         "std",
         "257.3538420152301",
         "0.4865924542648575",
         "0.836071240977049",
         "14.526497332334042",
         "1.1027434322934317",
         "0.8060572211299483",
         "49.6934285971809"
        ],
        [
         "min",
         "1.0",
         "0.0",
         "1.0",
         "0.42",
         "0.0",
         "0.0",
         "0.0"
        ],
        [
         "25%",
         "223.5",
         "0.0",
         "2.0",
         "20.125",
         "0.0",
         "0.0",
         "7.9104"
        ],
        [
         "50%",
         "446.0",
         "0.0",
         "3.0",
         "28.0",
         "0.0",
         "0.0",
         "14.4542"
        ],
        [
         "75%",
         "668.5",
         "1.0",
         "3.0",
         "38.0",
         "1.0",
         "0.0",
         "31.0"
        ],
        [
         "max",
         "891.0",
         "1.0",
         "3.0",
         "80.0",
         "8.0",
         "6.0",
         "512.3292"
        ]
       ],
       "shape": {
        "columns": 7,
        "rows": 8
       }
      },
      "text/html": [
       "<div>\n",
       "<style scoped>\n",
       "    .dataframe tbody tr th:only-of-type {\n",
       "        vertical-align: middle;\n",
       "    }\n",
       "\n",
       "    .dataframe tbody tr th {\n",
       "        vertical-align: top;\n",
       "    }\n",
       "\n",
       "    .dataframe thead th {\n",
       "        text-align: right;\n",
       "    }\n",
       "</style>\n",
       "<table border=\"1\" class=\"dataframe\">\n",
       "  <thead>\n",
       "    <tr style=\"text-align: right;\">\n",
       "      <th></th>\n",
       "      <th>PassengerId</th>\n",
       "      <th>Survived</th>\n",
       "      <th>Pclass</th>\n",
       "      <th>Age</th>\n",
       "      <th>SibSp</th>\n",
       "      <th>Parch</th>\n",
       "      <th>Fare</th>\n",
       "    </tr>\n",
       "  </thead>\n",
       "  <tbody>\n",
       "    <tr>\n",
       "      <th>count</th>\n",
       "      <td>891.000000</td>\n",
       "      <td>891.000000</td>\n",
       "      <td>891.000000</td>\n",
       "      <td>714.000000</td>\n",
       "      <td>891.000000</td>\n",
       "      <td>891.000000</td>\n",
       "      <td>891.000000</td>\n",
       "    </tr>\n",
       "    <tr>\n",
       "      <th>mean</th>\n",
       "      <td>446.000000</td>\n",
       "      <td>0.383838</td>\n",
       "      <td>2.308642</td>\n",
       "      <td>29.699118</td>\n",
       "      <td>0.523008</td>\n",
       "      <td>0.381594</td>\n",
       "      <td>32.204208</td>\n",
       "    </tr>\n",
       "    <tr>\n",
       "      <th>std</th>\n",
       "      <td>257.353842</td>\n",
       "      <td>0.486592</td>\n",
       "      <td>0.836071</td>\n",
       "      <td>14.526497</td>\n",
       "      <td>1.102743</td>\n",
       "      <td>0.806057</td>\n",
       "      <td>49.693429</td>\n",
       "    </tr>\n",
       "    <tr>\n",
       "      <th>min</th>\n",
       "      <td>1.000000</td>\n",
       "      <td>0.000000</td>\n",
       "      <td>1.000000</td>\n",
       "      <td>0.420000</td>\n",
       "      <td>0.000000</td>\n",
       "      <td>0.000000</td>\n",
       "      <td>0.000000</td>\n",
       "    </tr>\n",
       "    <tr>\n",
       "      <th>25%</th>\n",
       "      <td>223.500000</td>\n",
       "      <td>0.000000</td>\n",
       "      <td>2.000000</td>\n",
       "      <td>20.125000</td>\n",
       "      <td>0.000000</td>\n",
       "      <td>0.000000</td>\n",
       "      <td>7.910400</td>\n",
       "    </tr>\n",
       "    <tr>\n",
       "      <th>50%</th>\n",
       "      <td>446.000000</td>\n",
       "      <td>0.000000</td>\n",
       "      <td>3.000000</td>\n",
       "      <td>28.000000</td>\n",
       "      <td>0.000000</td>\n",
       "      <td>0.000000</td>\n",
       "      <td>14.454200</td>\n",
       "    </tr>\n",
       "    <tr>\n",
       "      <th>75%</th>\n",
       "      <td>668.500000</td>\n",
       "      <td>1.000000</td>\n",
       "      <td>3.000000</td>\n",
       "      <td>38.000000</td>\n",
       "      <td>1.000000</td>\n",
       "      <td>0.000000</td>\n",
       "      <td>31.000000</td>\n",
       "    </tr>\n",
       "    <tr>\n",
       "      <th>max</th>\n",
       "      <td>891.000000</td>\n",
       "      <td>1.000000</td>\n",
       "      <td>3.000000</td>\n",
       "      <td>80.000000</td>\n",
       "      <td>8.000000</td>\n",
       "      <td>6.000000</td>\n",
       "      <td>512.329200</td>\n",
       "    </tr>\n",
       "  </tbody>\n",
       "</table>\n",
       "</div>"
      ],
      "text/plain": [
       "       PassengerId    Survived      Pclass         Age       SibSp  \\\n",
       "count   891.000000  891.000000  891.000000  714.000000  891.000000   \n",
       "mean    446.000000    0.383838    2.308642   29.699118    0.523008   \n",
       "std     257.353842    0.486592    0.836071   14.526497    1.102743   \n",
       "min       1.000000    0.000000    1.000000    0.420000    0.000000   \n",
       "25%     223.500000    0.000000    2.000000   20.125000    0.000000   \n",
       "50%     446.000000    0.000000    3.000000   28.000000    0.000000   \n",
       "75%     668.500000    1.000000    3.000000   38.000000    1.000000   \n",
       "max     891.000000    1.000000    3.000000   80.000000    8.000000   \n",
       "\n",
       "            Parch        Fare  \n",
       "count  891.000000  891.000000  \n",
       "mean     0.381594   32.204208  \n",
       "std      0.806057   49.693429  \n",
       "min      0.000000    0.000000  \n",
       "25%      0.000000    7.910400  \n",
       "50%      0.000000   14.454200  \n",
       "75%      0.000000   31.000000  \n",
       "max      6.000000  512.329200  "
      ]
     },
     "execution_count": 31,
     "metadata": {},
     "output_type": "execute_result"
    }
   ],
   "source": [
    "df.describe()"
   ]
  }
 ],
 "metadata": {
  "kernelspec": {
   "display_name": "Python 3",
   "language": "python",
   "name": "python3"
  },
  "language_info": {
   "codemirror_mode": {
    "name": "ipython",
    "version": 3
   },
   "file_extension": ".py",
   "mimetype": "text/x-python",
   "name": "python",
   "nbconvert_exporter": "python",
   "pygments_lexer": "ipython3",
   "version": "3.13.3"
  }
 },
 "nbformat": 4,
 "nbformat_minor": 5
}
