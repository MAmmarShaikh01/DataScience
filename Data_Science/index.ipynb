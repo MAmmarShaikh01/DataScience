{
 "cells": [
  {
   "cell_type": "code",
   "execution_count": 1,
   "id": "2df4f650",
   "metadata": {},
   "outputs": [],
   "source": [
    "import pandas as pd\n",
    "import matplotlib.pyplot as plt"
   ]
  },
  {
   "cell_type": "code",
   "execution_count": 2,
   "id": "a83a6639",
   "metadata": {},
   "outputs": [],
   "source": [
    "df = pd.read_csv(\"Titanic_DataSet.csv\")"
   ]
  },
  {
   "cell_type": "markdown",
   "id": "c1e7b736",
   "metadata": {},
   "source": [
    "column = series,\n",
    "row = record"
   ]
  },
  {
   "cell_type": "code",
   "execution_count": 3,
   "id": "289573a8",
   "metadata": {},
   "outputs": [
    {
     "data": {
      "application/vnd.microsoft.datawrangler.viewer.v0+json": {
       "columns": [
        {
         "name": "index",
         "rawType": "object",
         "type": "string"
        },
        {
         "name": "PassengerId",
         "rawType": "float64",
         "type": "float"
        },
        {
         "name": "Survived",
         "rawType": "float64",
         "type": "float"
        },
        {
         "name": "Pclass",
         "rawType": "float64",
         "type": "float"
        },
        {
         "name": "Age",
         "rawType": "float64",
         "type": "float"
        },
        {
         "name": "SibSp",
         "rawType": "float64",
         "type": "float"
        },
        {
         "name": "Parch",
         "rawType": "float64",
         "type": "float"
        },
        {
         "name": "Fare",
         "rawType": "float64",
         "type": "float"
        }
       ],
       "ref": "c181c32e-f732-45da-83f5-024fa9a1c4ca",
       "rows": [
        [
         "count",
         "891.0",
         "891.0",
         "891.0",
         "714.0",
         "891.0",
         "891.0",
         "891.0"
        ],
        [
         "mean",
         "446.0",
         "0.3838383838383838",
         "2.308641975308642",
         "29.69911764705882",
         "0.5230078563411896",
         "0.38159371492704824",
         "32.204207968574636"
        ],
        [
         "std",
         "257.3538420152301",
         "0.4865924542648575",
         "0.836071240977049",
         "14.526497332334042",
         "1.1027434322934317",
         "0.8060572211299483",
         "49.6934285971809"
        ],
        [
         "min",
         "1.0",
         "0.0",
         "1.0",
         "0.42",
         "0.0",
         "0.0",
         "0.0"
        ],
        [
         "25%",
         "223.5",
         "0.0",
         "2.0",
         "20.125",
         "0.0",
         "0.0",
         "7.9104"
        ],
        [
         "50%",
         "446.0",
         "0.0",
         "3.0",
         "28.0",
         "0.0",
         "0.0",
         "14.4542"
        ],
        [
         "75%",
         "668.5",
         "1.0",
         "3.0",
         "38.0",
         "1.0",
         "0.0",
         "31.0"
        ],
        [
         "max",
         "891.0",
         "1.0",
         "3.0",
         "80.0",
         "8.0",
         "6.0",
         "512.3292"
        ]
       ],
       "shape": {
        "columns": 7,
        "rows": 8
       }
      },
      "text/html": [
       "<div>\n",
       "<style scoped>\n",
       "    .dataframe tbody tr th:only-of-type {\n",
       "        vertical-align: middle;\n",
       "    }\n",
       "\n",
       "    .dataframe tbody tr th {\n",
       "        vertical-align: top;\n",
       "    }\n",
       "\n",
       "    .dataframe thead th {\n",
       "        text-align: right;\n",
       "    }\n",
       "</style>\n",
       "<table border=\"1\" class=\"dataframe\">\n",
       "  <thead>\n",
       "    <tr style=\"text-align: right;\">\n",
       "      <th></th>\n",
       "      <th>PassengerId</th>\n",
       "      <th>Survived</th>\n",
       "      <th>Pclass</th>\n",
       "      <th>Age</th>\n",
       "      <th>SibSp</th>\n",
       "      <th>Parch</th>\n",
       "      <th>Fare</th>\n",
       "    </tr>\n",
       "  </thead>\n",
       "  <tbody>\n",
       "    <tr>\n",
       "      <th>count</th>\n",
       "      <td>891.000000</td>\n",
       "      <td>891.000000</td>\n",
       "      <td>891.000000</td>\n",
       "      <td>714.000000</td>\n",
       "      <td>891.000000</td>\n",
       "      <td>891.000000</td>\n",
       "      <td>891.000000</td>\n",
       "    </tr>\n",
       "    <tr>\n",
       "      <th>mean</th>\n",
       "      <td>446.000000</td>\n",
       "      <td>0.383838</td>\n",
       "      <td>2.308642</td>\n",
       "      <td>29.699118</td>\n",
       "      <td>0.523008</td>\n",
       "      <td>0.381594</td>\n",
       "      <td>32.204208</td>\n",
       "    </tr>\n",
       "    <tr>\n",
       "      <th>std</th>\n",
       "      <td>257.353842</td>\n",
       "      <td>0.486592</td>\n",
       "      <td>0.836071</td>\n",
       "      <td>14.526497</td>\n",
       "      <td>1.102743</td>\n",
       "      <td>0.806057</td>\n",
       "      <td>49.693429</td>\n",
       "    </tr>\n",
       "    <tr>\n",
       "      <th>min</th>\n",
       "      <td>1.000000</td>\n",
       "      <td>0.000000</td>\n",
       "      <td>1.000000</td>\n",
       "      <td>0.420000</td>\n",
       "      <td>0.000000</td>\n",
       "      <td>0.000000</td>\n",
       "      <td>0.000000</td>\n",
       "    </tr>\n",
       "    <tr>\n",
       "      <th>25%</th>\n",
       "      <td>223.500000</td>\n",
       "      <td>0.000000</td>\n",
       "      <td>2.000000</td>\n",
       "      <td>20.125000</td>\n",
       "      <td>0.000000</td>\n",
       "      <td>0.000000</td>\n",
       "      <td>7.910400</td>\n",
       "    </tr>\n",
       "    <tr>\n",
       "      <th>50%</th>\n",
       "      <td>446.000000</td>\n",
       "      <td>0.000000</td>\n",
       "      <td>3.000000</td>\n",
       "      <td>28.000000</td>\n",
       "      <td>0.000000</td>\n",
       "      <td>0.000000</td>\n",
       "      <td>14.454200</td>\n",
       "    </tr>\n",
       "    <tr>\n",
       "      <th>75%</th>\n",
       "      <td>668.500000</td>\n",
       "      <td>1.000000</td>\n",
       "      <td>3.000000</td>\n",
       "      <td>38.000000</td>\n",
       "      <td>1.000000</td>\n",
       "      <td>0.000000</td>\n",
       "      <td>31.000000</td>\n",
       "    </tr>\n",
       "    <tr>\n",
       "      <th>max</th>\n",
       "      <td>891.000000</td>\n",
       "      <td>1.000000</td>\n",
       "      <td>3.000000</td>\n",
       "      <td>80.000000</td>\n",
       "      <td>8.000000</td>\n",
       "      <td>6.000000</td>\n",
       "      <td>512.329200</td>\n",
       "    </tr>\n",
       "  </tbody>\n",
       "</table>\n",
       "</div>"
      ],
      "text/plain": [
       "       PassengerId    Survived      Pclass         Age       SibSp  \\\n",
       "count   891.000000  891.000000  891.000000  714.000000  891.000000   \n",
       "mean    446.000000    0.383838    2.308642   29.699118    0.523008   \n",
       "std     257.353842    0.486592    0.836071   14.526497    1.102743   \n",
       "min       1.000000    0.000000    1.000000    0.420000    0.000000   \n",
       "25%     223.500000    0.000000    2.000000   20.125000    0.000000   \n",
       "50%     446.000000    0.000000    3.000000   28.000000    0.000000   \n",
       "75%     668.500000    1.000000    3.000000   38.000000    1.000000   \n",
       "max     891.000000    1.000000    3.000000   80.000000    8.000000   \n",
       "\n",
       "            Parch        Fare  \n",
       "count  891.000000  891.000000  \n",
       "mean     0.381594   32.204208  \n",
       "std      0.806057   49.693429  \n",
       "min      0.000000    0.000000  \n",
       "25%      0.000000    7.910400  \n",
       "50%      0.000000   14.454200  \n",
       "75%      0.000000   31.000000  \n",
       "max      6.000000  512.329200  "
      ]
     },
     "execution_count": 3,
     "metadata": {},
     "output_type": "execute_result"
    }
   ],
   "source": [
    "df.describe()"
   ]
  },
  {
   "cell_type": "code",
   "execution_count": 4,
   "id": "4d034cbd",
   "metadata": {},
   "outputs": [
    {
     "data": {
      "application/vnd.microsoft.datawrangler.viewer.v0+json": {
       "columns": [
        {
         "name": "index",
         "rawType": "int64",
         "type": "integer"
        },
        {
         "name": "Name",
         "rawType": "object",
         "type": "string"
        },
        {
         "name": "Age",
         "rawType": "float64",
         "type": "float"
        },
        {
         "name": "Fare",
         "rawType": "float64",
         "type": "float"
        },
        {
         "name": "Ticket",
         "rawType": "object",
         "type": "string"
        },
        {
         "name": "Embarked",
         "rawType": "object",
         "type": "unknown"
        }
       ],
       "ref": "f3760fee-f6a7-4aa3-9638-664aaab6f85b",
       "rows": [
        [
         "0",
         "Braund, Mr. Owen Harris",
         "22.0",
         "7.25",
         "A/5 21171",
         "S"
        ],
        [
         "1",
         "Cumings, Mrs. John Bradley (Florence Briggs Thayer)",
         "38.0",
         "71.2833",
         "PC 17599",
         "C"
        ],
        [
         "2",
         "Heikkinen, Miss. Laina",
         "26.0",
         "7.925",
         "STON/O2. 3101282",
         "S"
        ],
        [
         "3",
         "Futrelle, Mrs. Jacques Heath (Lily May Peel)",
         "35.0",
         "53.1",
         "113803",
         "S"
        ],
        [
         "4",
         "Allen, Mr. William Henry",
         "35.0",
         "8.05",
         "373450",
         "S"
        ],
        [
         "5",
         "Moran, Mr. James",
         null,
         "8.4583",
         "330877",
         "Q"
        ],
        [
         "6",
         "McCarthy, Mr. Timothy J",
         "54.0",
         "51.8625",
         "17463",
         "S"
        ],
        [
         "7",
         "Palsson, Master. Gosta Leonard",
         "2.0",
         "21.075",
         "349909",
         "S"
        ],
        [
         "8",
         "Johnson, Mrs. Oscar W (Elisabeth Vilhelmina Berg)",
         "27.0",
         "11.1333",
         "347742",
         "S"
        ],
        [
         "9",
         "Nasser, Mrs. Nicholas (Adele Achem)",
         "14.0",
         "30.0708",
         "237736",
         "C"
        ],
        [
         "10",
         "Sandstrom, Miss. Marguerite Rut",
         "4.0",
         "16.7",
         "PP 9549",
         "S"
        ],
        [
         "11",
         "Bonnell, Miss. Elizabeth",
         "58.0",
         "26.55",
         "113783",
         "S"
        ],
        [
         "12",
         "Saundercock, Mr. William Henry",
         "20.0",
         "8.05",
         "A/5. 2151",
         "S"
        ],
        [
         "13",
         "Andersson, Mr. Anders Johan",
         "39.0",
         "31.275",
         "347082",
         "S"
        ],
        [
         "14",
         "Vestrom, Miss. Hulda Amanda Adolfina",
         "14.0",
         "7.8542",
         "350406",
         "S"
        ],
        [
         "15",
         "Hewlett, Mrs. (Mary D Kingcome) ",
         "55.0",
         "16.0",
         "248706",
         "S"
        ],
        [
         "16",
         "Rice, Master. Eugene",
         "2.0",
         "29.125",
         "382652",
         "Q"
        ],
        [
         "17",
         "Williams, Mr. Charles Eugene",
         null,
         "13.0",
         "244373",
         "S"
        ],
        [
         "18",
         "Vander Planke, Mrs. Julius (Emelia Maria Vandemoortele)",
         "31.0",
         "18.0",
         "345763",
         "S"
        ],
        [
         "19",
         "Masselmani, Mrs. Fatima",
         null,
         "7.225",
         "2649",
         "C"
        ],
        [
         "20",
         "Fynney, Mr. Joseph J",
         "35.0",
         "26.0",
         "239865",
         "S"
        ],
        [
         "21",
         "Beesley, Mr. Lawrence",
         "34.0",
         "13.0",
         "248698",
         "S"
        ],
        [
         "22",
         "McGowan, Miss. Anna \"Annie\"",
         "15.0",
         "8.0292",
         "330923",
         "Q"
        ],
        [
         "23",
         "Sloper, Mr. William Thompson",
         "28.0",
         "35.5",
         "113788",
         "S"
        ],
        [
         "24",
         "Palsson, Miss. Torborg Danira",
         "8.0",
         "21.075",
         "349909",
         "S"
        ],
        [
         "25",
         "Asplund, Mrs. Carl Oscar (Selma Augusta Emilia Johansson)",
         "38.0",
         "31.3875",
         "347077",
         "S"
        ],
        [
         "26",
         "Emir, Mr. Farred Chehab",
         null,
         "7.225",
         "2631",
         "C"
        ],
        [
         "27",
         "Fortune, Mr. Charles Alexander",
         "19.0",
         "263.0",
         "19950",
         "S"
        ],
        [
         "28",
         "O'Dwyer, Miss. Ellen \"Nellie\"",
         null,
         "7.8792",
         "330959",
         "Q"
        ],
        [
         "29",
         "Todoroff, Mr. Lalio",
         null,
         "7.8958",
         "349216",
         "S"
        ],
        [
         "30",
         "Uruchurtu, Don. Manuel E",
         "40.0",
         "27.7208",
         "PC 17601",
         "C"
        ],
        [
         "31",
         "Spencer, Mrs. William Augustus (Marie Eugenie)",
         null,
         "146.5208",
         "PC 17569",
         "C"
        ],
        [
         "32",
         "Glynn, Miss. Mary Agatha",
         null,
         "7.75",
         "335677",
         "Q"
        ],
        [
         "33",
         "Wheadon, Mr. Edward H",
         "66.0",
         "10.5",
         "C.A. 24579",
         "S"
        ],
        [
         "34",
         "Meyer, Mr. Edgar Joseph",
         "28.0",
         "82.1708",
         "PC 17604",
         "C"
        ],
        [
         "35",
         "Holverson, Mr. Alexander Oskar",
         "42.0",
         "52.0",
         "113789",
         "S"
        ],
        [
         "36",
         "Mamee, Mr. Hanna",
         null,
         "7.2292",
         "2677",
         "C"
        ],
        [
         "37",
         "Cann, Mr. Ernest Charles",
         "21.0",
         "8.05",
         "A./5. 2152",
         "S"
        ],
        [
         "38",
         "Vander Planke, Miss. Augusta Maria",
         "18.0",
         "18.0",
         "345764",
         "S"
        ],
        [
         "39",
         "Nicola-Yarred, Miss. Jamila",
         "14.0",
         "11.2417",
         "2651",
         "C"
        ],
        [
         "40",
         "Ahlin, Mrs. Johan (Johanna Persdotter Larsson)",
         "40.0",
         "9.475",
         "7546",
         "S"
        ],
        [
         "41",
         "Turpin, Mrs. William John Robert (Dorothy Ann Wonnacott)",
         "27.0",
         "21.0",
         "11668",
         "S"
        ],
        [
         "42",
         "Kraeff, Mr. Theodor",
         null,
         "7.8958",
         "349253",
         "C"
        ],
        [
         "43",
         "Laroche, Miss. Simonne Marie Anne Andree",
         "3.0",
         "41.5792",
         "SC/Paris 2123",
         "C"
        ],
        [
         "44",
         "Devaney, Miss. Margaret Delia",
         "19.0",
         "7.8792",
         "330958",
         "Q"
        ],
        [
         "45",
         "Rogers, Mr. William John",
         null,
         "8.05",
         "S.C./A.4. 23567",
         "S"
        ],
        [
         "46",
         "Lennon, Mr. Denis",
         null,
         "15.5",
         "370371",
         "Q"
        ],
        [
         "47",
         "O'Driscoll, Miss. Bridget",
         null,
         "7.75",
         "14311",
         "Q"
        ],
        [
         "48",
         "Samaan, Mr. Youssef",
         null,
         "21.6792",
         "2662",
         "C"
        ],
        [
         "49",
         "Arnold-Franchi, Mrs. Josef (Josefine Franchi)",
         "18.0",
         "17.8",
         "349237",
         "S"
        ]
       ],
       "shape": {
        "columns": 5,
        "rows": 891
       }
      },
      "text/html": [
       "<div>\n",
       "<style scoped>\n",
       "    .dataframe tbody tr th:only-of-type {\n",
       "        vertical-align: middle;\n",
       "    }\n",
       "\n",
       "    .dataframe tbody tr th {\n",
       "        vertical-align: top;\n",
       "    }\n",
       "\n",
       "    .dataframe thead th {\n",
       "        text-align: right;\n",
       "    }\n",
       "</style>\n",
       "<table border=\"1\" class=\"dataframe\">\n",
       "  <thead>\n",
       "    <tr style=\"text-align: right;\">\n",
       "      <th></th>\n",
       "      <th>Name</th>\n",
       "      <th>Age</th>\n",
       "      <th>Fare</th>\n",
       "      <th>Ticket</th>\n",
       "      <th>Embarked</th>\n",
       "    </tr>\n",
       "  </thead>\n",
       "  <tbody>\n",
       "    <tr>\n",
       "      <th>0</th>\n",
       "      <td>Braund, Mr. Owen Harris</td>\n",
       "      <td>22.0</td>\n",
       "      <td>7.2500</td>\n",
       "      <td>A/5 21171</td>\n",
       "      <td>S</td>\n",
       "    </tr>\n",
       "    <tr>\n",
       "      <th>1</th>\n",
       "      <td>Cumings, Mrs. John Bradley (Florence Briggs Th...</td>\n",
       "      <td>38.0</td>\n",
       "      <td>71.2833</td>\n",
       "      <td>PC 17599</td>\n",
       "      <td>C</td>\n",
       "    </tr>\n",
       "    <tr>\n",
       "      <th>2</th>\n",
       "      <td>Heikkinen, Miss. Laina</td>\n",
       "      <td>26.0</td>\n",
       "      <td>7.9250</td>\n",
       "      <td>STON/O2. 3101282</td>\n",
       "      <td>S</td>\n",
       "    </tr>\n",
       "    <tr>\n",
       "      <th>3</th>\n",
       "      <td>Futrelle, Mrs. Jacques Heath (Lily May Peel)</td>\n",
       "      <td>35.0</td>\n",
       "      <td>53.1000</td>\n",
       "      <td>113803</td>\n",
       "      <td>S</td>\n",
       "    </tr>\n",
       "    <tr>\n",
       "      <th>4</th>\n",
       "      <td>Allen, Mr. William Henry</td>\n",
       "      <td>35.0</td>\n",
       "      <td>8.0500</td>\n",
       "      <td>373450</td>\n",
       "      <td>S</td>\n",
       "    </tr>\n",
       "    <tr>\n",
       "      <th>...</th>\n",
       "      <td>...</td>\n",
       "      <td>...</td>\n",
       "      <td>...</td>\n",
       "      <td>...</td>\n",
       "      <td>...</td>\n",
       "    </tr>\n",
       "    <tr>\n",
       "      <th>886</th>\n",
       "      <td>Montvila, Rev. Juozas</td>\n",
       "      <td>27.0</td>\n",
       "      <td>13.0000</td>\n",
       "      <td>211536</td>\n",
       "      <td>S</td>\n",
       "    </tr>\n",
       "    <tr>\n",
       "      <th>887</th>\n",
       "      <td>Graham, Miss. Margaret Edith</td>\n",
       "      <td>19.0</td>\n",
       "      <td>30.0000</td>\n",
       "      <td>112053</td>\n",
       "      <td>S</td>\n",
       "    </tr>\n",
       "    <tr>\n",
       "      <th>888</th>\n",
       "      <td>Johnston, Miss. Catherine Helen \"Carrie\"</td>\n",
       "      <td>NaN</td>\n",
       "      <td>23.4500</td>\n",
       "      <td>W./C. 6607</td>\n",
       "      <td>S</td>\n",
       "    </tr>\n",
       "    <tr>\n",
       "      <th>889</th>\n",
       "      <td>Behr, Mr. Karl Howell</td>\n",
       "      <td>26.0</td>\n",
       "      <td>30.0000</td>\n",
       "      <td>111369</td>\n",
       "      <td>C</td>\n",
       "    </tr>\n",
       "    <tr>\n",
       "      <th>890</th>\n",
       "      <td>Dooley, Mr. Patrick</td>\n",
       "      <td>32.0</td>\n",
       "      <td>7.7500</td>\n",
       "      <td>370376</td>\n",
       "      <td>Q</td>\n",
       "    </tr>\n",
       "  </tbody>\n",
       "</table>\n",
       "<p>891 rows × 5 columns</p>\n",
       "</div>"
      ],
      "text/plain": [
       "                                                  Name   Age     Fare  \\\n",
       "0                              Braund, Mr. Owen Harris  22.0   7.2500   \n",
       "1    Cumings, Mrs. John Bradley (Florence Briggs Th...  38.0  71.2833   \n",
       "2                               Heikkinen, Miss. Laina  26.0   7.9250   \n",
       "3         Futrelle, Mrs. Jacques Heath (Lily May Peel)  35.0  53.1000   \n",
       "4                             Allen, Mr. William Henry  35.0   8.0500   \n",
       "..                                                 ...   ...      ...   \n",
       "886                              Montvila, Rev. Juozas  27.0  13.0000   \n",
       "887                       Graham, Miss. Margaret Edith  19.0  30.0000   \n",
       "888           Johnston, Miss. Catherine Helen \"Carrie\"   NaN  23.4500   \n",
       "889                              Behr, Mr. Karl Howell  26.0  30.0000   \n",
       "890                                Dooley, Mr. Patrick  32.0   7.7500   \n",
       "\n",
       "               Ticket Embarked  \n",
       "0           A/5 21171        S  \n",
       "1            PC 17599        C  \n",
       "2    STON/O2. 3101282        S  \n",
       "3              113803        S  \n",
       "4              373450        S  \n",
       "..                ...      ...  \n",
       "886            211536        S  \n",
       "887            112053        S  \n",
       "888        W./C. 6607        S  \n",
       "889            111369        C  \n",
       "890            370376        Q  \n",
       "\n",
       "[891 rows x 5 columns]"
      ]
     },
     "execution_count": 4,
     "metadata": {},
     "output_type": "execute_result"
    }
   ],
   "source": [
    "a = df[[\"Name\",\"Age\", \"Fare\", \"Ticket\", \"Embarked\"]]\n",
    "a"
   ]
  },
  {
   "cell_type": "code",
   "execution_count": 5,
   "id": "996597c7",
   "metadata": {},
   "outputs": [
    {
     "data": {
      "application/vnd.microsoft.datawrangler.viewer.v0+json": {
       "columns": [
        {
         "name": "index",
         "rawType": "int64",
         "type": "integer"
        },
        {
         "name": "Name",
         "rawType": "object",
         "type": "string"
        },
        {
         "name": "Survived",
         "rawType": "int64",
         "type": "integer"
        }
       ],
       "ref": "8f660845-754f-43fe-8cd4-dc966b9856bb",
       "rows": [
        [
         "0",
         "Braund, Mr. Owen Harris",
         "0"
        ],
        [
         "1",
         "Cumings, Mrs. John Bradley (Florence Briggs Thayer)",
         "1"
        ],
        [
         "2",
         "Heikkinen, Miss. Laina",
         "1"
        ],
        [
         "3",
         "Futrelle, Mrs. Jacques Heath (Lily May Peel)",
         "1"
        ],
        [
         "4",
         "Allen, Mr. William Henry",
         "0"
        ],
        [
         "5",
         "Moran, Mr. James",
         "0"
        ],
        [
         "6",
         "McCarthy, Mr. Timothy J",
         "0"
        ],
        [
         "7",
         "Palsson, Master. Gosta Leonard",
         "0"
        ],
        [
         "8",
         "Johnson, Mrs. Oscar W (Elisabeth Vilhelmina Berg)",
         "1"
        ],
        [
         "9",
         "Nasser, Mrs. Nicholas (Adele Achem)",
         "1"
        ],
        [
         "10",
         "Sandstrom, Miss. Marguerite Rut",
         "1"
        ],
        [
         "11",
         "Bonnell, Miss. Elizabeth",
         "1"
        ],
        [
         "12",
         "Saundercock, Mr. William Henry",
         "0"
        ],
        [
         "13",
         "Andersson, Mr. Anders Johan",
         "0"
        ],
        [
         "14",
         "Vestrom, Miss. Hulda Amanda Adolfina",
         "0"
        ],
        [
         "15",
         "Hewlett, Mrs. (Mary D Kingcome) ",
         "1"
        ],
        [
         "16",
         "Rice, Master. Eugene",
         "0"
        ],
        [
         "17",
         "Williams, Mr. Charles Eugene",
         "1"
        ],
        [
         "18",
         "Vander Planke, Mrs. Julius (Emelia Maria Vandemoortele)",
         "0"
        ],
        [
         "19",
         "Masselmani, Mrs. Fatima",
         "1"
        ],
        [
         "20",
         "Fynney, Mr. Joseph J",
         "0"
        ],
        [
         "21",
         "Beesley, Mr. Lawrence",
         "1"
        ],
        [
         "22",
         "McGowan, Miss. Anna \"Annie\"",
         "1"
        ],
        [
         "23",
         "Sloper, Mr. William Thompson",
         "1"
        ],
        [
         "24",
         "Palsson, Miss. Torborg Danira",
         "0"
        ],
        [
         "25",
         "Asplund, Mrs. Carl Oscar (Selma Augusta Emilia Johansson)",
         "1"
        ],
        [
         "26",
         "Emir, Mr. Farred Chehab",
         "0"
        ],
        [
         "27",
         "Fortune, Mr. Charles Alexander",
         "0"
        ],
        [
         "28",
         "O'Dwyer, Miss. Ellen \"Nellie\"",
         "1"
        ],
        [
         "29",
         "Todoroff, Mr. Lalio",
         "0"
        ],
        [
         "30",
         "Uruchurtu, Don. Manuel E",
         "0"
        ],
        [
         "31",
         "Spencer, Mrs. William Augustus (Marie Eugenie)",
         "1"
        ],
        [
         "32",
         "Glynn, Miss. Mary Agatha",
         "1"
        ],
        [
         "33",
         "Wheadon, Mr. Edward H",
         "0"
        ],
        [
         "34",
         "Meyer, Mr. Edgar Joseph",
         "0"
        ],
        [
         "35",
         "Holverson, Mr. Alexander Oskar",
         "0"
        ],
        [
         "36",
         "Mamee, Mr. Hanna",
         "1"
        ],
        [
         "37",
         "Cann, Mr. Ernest Charles",
         "0"
        ],
        [
         "38",
         "Vander Planke, Miss. Augusta Maria",
         "0"
        ],
        [
         "39",
         "Nicola-Yarred, Miss. Jamila",
         "1"
        ],
        [
         "40",
         "Ahlin, Mrs. Johan (Johanna Persdotter Larsson)",
         "0"
        ],
        [
         "41",
         "Turpin, Mrs. William John Robert (Dorothy Ann Wonnacott)",
         "0"
        ],
        [
         "42",
         "Kraeff, Mr. Theodor",
         "0"
        ],
        [
         "43",
         "Laroche, Miss. Simonne Marie Anne Andree",
         "1"
        ],
        [
         "44",
         "Devaney, Miss. Margaret Delia",
         "1"
        ],
        [
         "45",
         "Rogers, Mr. William John",
         "0"
        ],
        [
         "46",
         "Lennon, Mr. Denis",
         "0"
        ],
        [
         "47",
         "O'Driscoll, Miss. Bridget",
         "1"
        ],
        [
         "48",
         "Samaan, Mr. Youssef",
         "0"
        ],
        [
         "49",
         "Arnold-Franchi, Mrs. Josef (Josefine Franchi)",
         "0"
        ]
       ],
       "shape": {
        "columns": 2,
        "rows": 891
       }
      },
      "text/html": [
       "<div>\n",
       "<style scoped>\n",
       "    .dataframe tbody tr th:only-of-type {\n",
       "        vertical-align: middle;\n",
       "    }\n",
       "\n",
       "    .dataframe tbody tr th {\n",
       "        vertical-align: top;\n",
       "    }\n",
       "\n",
       "    .dataframe thead th {\n",
       "        text-align: right;\n",
       "    }\n",
       "</style>\n",
       "<table border=\"1\" class=\"dataframe\">\n",
       "  <thead>\n",
       "    <tr style=\"text-align: right;\">\n",
       "      <th></th>\n",
       "      <th>Name</th>\n",
       "      <th>Survived</th>\n",
       "    </tr>\n",
       "  </thead>\n",
       "  <tbody>\n",
       "    <tr>\n",
       "      <th>0</th>\n",
       "      <td>Braund, Mr. Owen Harris</td>\n",
       "      <td>0</td>\n",
       "    </tr>\n",
       "    <tr>\n",
       "      <th>1</th>\n",
       "      <td>Cumings, Mrs. John Bradley (Florence Briggs Th...</td>\n",
       "      <td>1</td>\n",
       "    </tr>\n",
       "    <tr>\n",
       "      <th>2</th>\n",
       "      <td>Heikkinen, Miss. Laina</td>\n",
       "      <td>1</td>\n",
       "    </tr>\n",
       "    <tr>\n",
       "      <th>3</th>\n",
       "      <td>Futrelle, Mrs. Jacques Heath (Lily May Peel)</td>\n",
       "      <td>1</td>\n",
       "    </tr>\n",
       "    <tr>\n",
       "      <th>4</th>\n",
       "      <td>Allen, Mr. William Henry</td>\n",
       "      <td>0</td>\n",
       "    </tr>\n",
       "    <tr>\n",
       "      <th>...</th>\n",
       "      <td>...</td>\n",
       "      <td>...</td>\n",
       "    </tr>\n",
       "    <tr>\n",
       "      <th>886</th>\n",
       "      <td>Montvila, Rev. Juozas</td>\n",
       "      <td>0</td>\n",
       "    </tr>\n",
       "    <tr>\n",
       "      <th>887</th>\n",
       "      <td>Graham, Miss. Margaret Edith</td>\n",
       "      <td>1</td>\n",
       "    </tr>\n",
       "    <tr>\n",
       "      <th>888</th>\n",
       "      <td>Johnston, Miss. Catherine Helen \"Carrie\"</td>\n",
       "      <td>0</td>\n",
       "    </tr>\n",
       "    <tr>\n",
       "      <th>889</th>\n",
       "      <td>Behr, Mr. Karl Howell</td>\n",
       "      <td>1</td>\n",
       "    </tr>\n",
       "    <tr>\n",
       "      <th>890</th>\n",
       "      <td>Dooley, Mr. Patrick</td>\n",
       "      <td>0</td>\n",
       "    </tr>\n",
       "  </tbody>\n",
       "</table>\n",
       "<p>891 rows × 2 columns</p>\n",
       "</div>"
      ],
      "text/plain": [
       "                                                  Name  Survived\n",
       "0                              Braund, Mr. Owen Harris         0\n",
       "1    Cumings, Mrs. John Bradley (Florence Briggs Th...         1\n",
       "2                               Heikkinen, Miss. Laina         1\n",
       "3         Futrelle, Mrs. Jacques Heath (Lily May Peel)         1\n",
       "4                             Allen, Mr. William Henry         0\n",
       "..                                                 ...       ...\n",
       "886                              Montvila, Rev. Juozas         0\n",
       "887                       Graham, Miss. Margaret Edith         1\n",
       "888           Johnston, Miss. Catherine Helen \"Carrie\"         0\n",
       "889                              Behr, Mr. Karl Howell         1\n",
       "890                                Dooley, Mr. Patrick         0\n",
       "\n",
       "[891 rows x 2 columns]"
      ]
     },
     "execution_count": 5,
     "metadata": {},
     "output_type": "execute_result"
    }
   ],
   "source": [
    "df[[\"Name\",\"Survived\"]]"
   ]
  },
  {
   "cell_type": "code",
   "execution_count": 6,
   "id": "70842fbb",
   "metadata": {},
   "outputs": [
    {
     "data": {
      "application/vnd.microsoft.datawrangler.viewer.v0+json": {
       "columns": [
        {
         "name": "index",
         "rawType": "int64",
         "type": "integer"
        },
        {
         "name": "Name",
         "rawType": "object",
         "type": "string"
        },
        {
         "name": "Age",
         "rawType": "float64",
         "type": "float"
        },
        {
         "name": "Fare",
         "rawType": "float64",
         "type": "float"
        }
       ],
       "ref": "7cd7589a-f06c-4d5a-8716-8d92e322c537",
       "rows": [
        [
         "0",
         "Braund, Mr. Owen Harris",
         "22.0",
         "7.25"
        ],
        [
         "1",
         "Cumings, Mrs. John Bradley (Florence Briggs Thayer)",
         "38.0",
         "71.2833"
        ],
        [
         "2",
         "Heikkinen, Miss. Laina",
         "26.0",
         "7.925"
        ],
        [
         "3",
         "Futrelle, Mrs. Jacques Heath (Lily May Peel)",
         "35.0",
         "53.1"
        ],
        [
         "4",
         "Allen, Mr. William Henry",
         "35.0",
         "8.05"
        ],
        [
         "5",
         "Moran, Mr. James",
         null,
         "8.4583"
        ],
        [
         "6",
         "McCarthy, Mr. Timothy J",
         "54.0",
         "51.8625"
        ],
        [
         "7",
         "Palsson, Master. Gosta Leonard",
         "2.0",
         "21.075"
        ],
        [
         "8",
         "Johnson, Mrs. Oscar W (Elisabeth Vilhelmina Berg)",
         "27.0",
         "11.1333"
        ],
        [
         "9",
         "Nasser, Mrs. Nicholas (Adele Achem)",
         "14.0",
         "30.0708"
        ],
        [
         "10",
         "Sandstrom, Miss. Marguerite Rut",
         "4.0",
         "16.7"
        ],
        [
         "11",
         "Bonnell, Miss. Elizabeth",
         "58.0",
         "26.55"
        ],
        [
         "12",
         "Saundercock, Mr. William Henry",
         "20.0",
         "8.05"
        ],
        [
         "13",
         "Andersson, Mr. Anders Johan",
         "39.0",
         "31.275"
        ],
        [
         "14",
         "Vestrom, Miss. Hulda Amanda Adolfina",
         "14.0",
         "7.8542"
        ],
        [
         "15",
         "Hewlett, Mrs. (Mary D Kingcome) ",
         "55.0",
         "16.0"
        ],
        [
         "16",
         "Rice, Master. Eugene",
         "2.0",
         "29.125"
        ],
        [
         "17",
         "Williams, Mr. Charles Eugene",
         null,
         "13.0"
        ],
        [
         "18",
         "Vander Planke, Mrs. Julius (Emelia Maria Vandemoortele)",
         "31.0",
         "18.0"
        ],
        [
         "19",
         "Masselmani, Mrs. Fatima",
         null,
         "7.225"
        ],
        [
         "20",
         "Fynney, Mr. Joseph J",
         "35.0",
         "26.0"
        ],
        [
         "21",
         "Beesley, Mr. Lawrence",
         "34.0",
         "13.0"
        ],
        [
         "22",
         "McGowan, Miss. Anna \"Annie\"",
         "15.0",
         "8.0292"
        ],
        [
         "23",
         "Sloper, Mr. William Thompson",
         "28.0",
         "35.5"
        ],
        [
         "24",
         "Palsson, Miss. Torborg Danira",
         "8.0",
         "21.075"
        ],
        [
         "25",
         "Asplund, Mrs. Carl Oscar (Selma Augusta Emilia Johansson)",
         "38.0",
         "31.3875"
        ],
        [
         "26",
         "Emir, Mr. Farred Chehab",
         null,
         "7.225"
        ],
        [
         "27",
         "Fortune, Mr. Charles Alexander",
         "19.0",
         "263.0"
        ],
        [
         "28",
         "O'Dwyer, Miss. Ellen \"Nellie\"",
         null,
         "7.8792"
        ],
        [
         "29",
         "Todoroff, Mr. Lalio",
         null,
         "7.8958"
        ],
        [
         "30",
         "Uruchurtu, Don. Manuel E",
         "40.0",
         "27.7208"
        ],
        [
         "31",
         "Spencer, Mrs. William Augustus (Marie Eugenie)",
         null,
         "146.5208"
        ],
        [
         "32",
         "Glynn, Miss. Mary Agatha",
         null,
         "7.75"
        ],
        [
         "33",
         "Wheadon, Mr. Edward H",
         "66.0",
         "10.5"
        ],
        [
         "34",
         "Meyer, Mr. Edgar Joseph",
         "28.0",
         "82.1708"
        ],
        [
         "35",
         "Holverson, Mr. Alexander Oskar",
         "42.0",
         "52.0"
        ],
        [
         "36",
         "Mamee, Mr. Hanna",
         null,
         "7.2292"
        ],
        [
         "37",
         "Cann, Mr. Ernest Charles",
         "21.0",
         "8.05"
        ],
        [
         "38",
         "Vander Planke, Miss. Augusta Maria",
         "18.0",
         "18.0"
        ],
        [
         "39",
         "Nicola-Yarred, Miss. Jamila",
         "14.0",
         "11.2417"
        ],
        [
         "40",
         "Ahlin, Mrs. Johan (Johanna Persdotter Larsson)",
         "40.0",
         "9.475"
        ],
        [
         "41",
         "Turpin, Mrs. William John Robert (Dorothy Ann Wonnacott)",
         "27.0",
         "21.0"
        ],
        [
         "42",
         "Kraeff, Mr. Theodor",
         null,
         "7.8958"
        ],
        [
         "43",
         "Laroche, Miss. Simonne Marie Anne Andree",
         "3.0",
         "41.5792"
        ],
        [
         "44",
         "Devaney, Miss. Margaret Delia",
         "19.0",
         "7.8792"
        ],
        [
         "45",
         "Rogers, Mr. William John",
         null,
         "8.05"
        ],
        [
         "46",
         "Lennon, Mr. Denis",
         null,
         "15.5"
        ],
        [
         "47",
         "O'Driscoll, Miss. Bridget",
         null,
         "7.75"
        ],
        [
         "48",
         "Samaan, Mr. Youssef",
         null,
         "21.6792"
        ],
        [
         "49",
         "Arnold-Franchi, Mrs. Josef (Josefine Franchi)",
         "18.0",
         "17.8"
        ]
       ],
       "shape": {
        "columns": 3,
        "rows": 891
       }
      },
      "text/html": [
       "<div>\n",
       "<style scoped>\n",
       "    .dataframe tbody tr th:only-of-type {\n",
       "        vertical-align: middle;\n",
       "    }\n",
       "\n",
       "    .dataframe tbody tr th {\n",
       "        vertical-align: top;\n",
       "    }\n",
       "\n",
       "    .dataframe thead th {\n",
       "        text-align: right;\n",
       "    }\n",
       "</style>\n",
       "<table border=\"1\" class=\"dataframe\">\n",
       "  <thead>\n",
       "    <tr style=\"text-align: right;\">\n",
       "      <th></th>\n",
       "      <th>Name</th>\n",
       "      <th>Age</th>\n",
       "      <th>Fare</th>\n",
       "    </tr>\n",
       "  </thead>\n",
       "  <tbody>\n",
       "    <tr>\n",
       "      <th>0</th>\n",
       "      <td>Braund, Mr. Owen Harris</td>\n",
       "      <td>22.0</td>\n",
       "      <td>7.2500</td>\n",
       "    </tr>\n",
       "    <tr>\n",
       "      <th>1</th>\n",
       "      <td>Cumings, Mrs. John Bradley (Florence Briggs Th...</td>\n",
       "      <td>38.0</td>\n",
       "      <td>71.2833</td>\n",
       "    </tr>\n",
       "    <tr>\n",
       "      <th>2</th>\n",
       "      <td>Heikkinen, Miss. Laina</td>\n",
       "      <td>26.0</td>\n",
       "      <td>7.9250</td>\n",
       "    </tr>\n",
       "    <tr>\n",
       "      <th>3</th>\n",
       "      <td>Futrelle, Mrs. Jacques Heath (Lily May Peel)</td>\n",
       "      <td>35.0</td>\n",
       "      <td>53.1000</td>\n",
       "    </tr>\n",
       "    <tr>\n",
       "      <th>4</th>\n",
       "      <td>Allen, Mr. William Henry</td>\n",
       "      <td>35.0</td>\n",
       "      <td>8.0500</td>\n",
       "    </tr>\n",
       "    <tr>\n",
       "      <th>...</th>\n",
       "      <td>...</td>\n",
       "      <td>...</td>\n",
       "      <td>...</td>\n",
       "    </tr>\n",
       "    <tr>\n",
       "      <th>886</th>\n",
       "      <td>Montvila, Rev. Juozas</td>\n",
       "      <td>27.0</td>\n",
       "      <td>13.0000</td>\n",
       "    </tr>\n",
       "    <tr>\n",
       "      <th>887</th>\n",
       "      <td>Graham, Miss. Margaret Edith</td>\n",
       "      <td>19.0</td>\n",
       "      <td>30.0000</td>\n",
       "    </tr>\n",
       "    <tr>\n",
       "      <th>888</th>\n",
       "      <td>Johnston, Miss. Catherine Helen \"Carrie\"</td>\n",
       "      <td>NaN</td>\n",
       "      <td>23.4500</td>\n",
       "    </tr>\n",
       "    <tr>\n",
       "      <th>889</th>\n",
       "      <td>Behr, Mr. Karl Howell</td>\n",
       "      <td>26.0</td>\n",
       "      <td>30.0000</td>\n",
       "    </tr>\n",
       "    <tr>\n",
       "      <th>890</th>\n",
       "      <td>Dooley, Mr. Patrick</td>\n",
       "      <td>32.0</td>\n",
       "      <td>7.7500</td>\n",
       "    </tr>\n",
       "  </tbody>\n",
       "</table>\n",
       "<p>891 rows × 3 columns</p>\n",
       "</div>"
      ],
      "text/plain": [
       "                                                  Name   Age     Fare\n",
       "0                              Braund, Mr. Owen Harris  22.0   7.2500\n",
       "1    Cumings, Mrs. John Bradley (Florence Briggs Th...  38.0  71.2833\n",
       "2                               Heikkinen, Miss. Laina  26.0   7.9250\n",
       "3         Futrelle, Mrs. Jacques Heath (Lily May Peel)  35.0  53.1000\n",
       "4                             Allen, Mr. William Henry  35.0   8.0500\n",
       "..                                                 ...   ...      ...\n",
       "886                              Montvila, Rev. Juozas  27.0  13.0000\n",
       "887                       Graham, Miss. Margaret Edith  19.0  30.0000\n",
       "888           Johnston, Miss. Catherine Helen \"Carrie\"   NaN  23.4500\n",
       "889                              Behr, Mr. Karl Howell  26.0  30.0000\n",
       "890                                Dooley, Mr. Patrick  32.0   7.7500\n",
       "\n",
       "[891 rows x 3 columns]"
      ]
     },
     "execution_count": 6,
     "metadata": {},
     "output_type": "execute_result"
    }
   ],
   "source": [
    "df[[\"Name\",\"Age\",\"Fare\"]]"
   ]
  },
  {
   "cell_type": "code",
   "execution_count": 7,
   "id": "8c391aa1",
   "metadata": {},
   "outputs": [
    {
     "data": {
      "application/vnd.microsoft.datawrangler.viewer.v0+json": {
       "columns": [
        {
         "name": "index",
         "rawType": "int64",
         "type": "integer"
        },
        {
         "name": "Name",
         "rawType": "object",
         "type": "string"
        },
        {
         "name": "Ticket",
         "rawType": "object",
         "type": "string"
        }
       ],
       "ref": "aff144ff-ef7c-4164-a953-46a33b2af75e",
       "rows": [
        [
         "0",
         "Braund, Mr. Owen Harris",
         "A/5 21171"
        ],
        [
         "1",
         "Cumings, Mrs. John Bradley (Florence Briggs Thayer)",
         "PC 17599"
        ],
        [
         "2",
         "Heikkinen, Miss. Laina",
         "STON/O2. 3101282"
        ],
        [
         "3",
         "Futrelle, Mrs. Jacques Heath (Lily May Peel)",
         "113803"
        ],
        [
         "4",
         "Allen, Mr. William Henry",
         "373450"
        ],
        [
         "5",
         "Moran, Mr. James",
         "330877"
        ],
        [
         "6",
         "McCarthy, Mr. Timothy J",
         "17463"
        ],
        [
         "7",
         "Palsson, Master. Gosta Leonard",
         "349909"
        ],
        [
         "8",
         "Johnson, Mrs. Oscar W (Elisabeth Vilhelmina Berg)",
         "347742"
        ],
        [
         "9",
         "Nasser, Mrs. Nicholas (Adele Achem)",
         "237736"
        ],
        [
         "10",
         "Sandstrom, Miss. Marguerite Rut",
         "PP 9549"
        ],
        [
         "11",
         "Bonnell, Miss. Elizabeth",
         "113783"
        ],
        [
         "12",
         "Saundercock, Mr. William Henry",
         "A/5. 2151"
        ],
        [
         "13",
         "Andersson, Mr. Anders Johan",
         "347082"
        ],
        [
         "14",
         "Vestrom, Miss. Hulda Amanda Adolfina",
         "350406"
        ],
        [
         "15",
         "Hewlett, Mrs. (Mary D Kingcome) ",
         "248706"
        ],
        [
         "16",
         "Rice, Master. Eugene",
         "382652"
        ],
        [
         "17",
         "Williams, Mr. Charles Eugene",
         "244373"
        ],
        [
         "18",
         "Vander Planke, Mrs. Julius (Emelia Maria Vandemoortele)",
         "345763"
        ],
        [
         "19",
         "Masselmani, Mrs. Fatima",
         "2649"
        ],
        [
         "20",
         "Fynney, Mr. Joseph J",
         "239865"
        ],
        [
         "21",
         "Beesley, Mr. Lawrence",
         "248698"
        ],
        [
         "22",
         "McGowan, Miss. Anna \"Annie\"",
         "330923"
        ],
        [
         "23",
         "Sloper, Mr. William Thompson",
         "113788"
        ],
        [
         "24",
         "Palsson, Miss. Torborg Danira",
         "349909"
        ],
        [
         "25",
         "Asplund, Mrs. Carl Oscar (Selma Augusta Emilia Johansson)",
         "347077"
        ],
        [
         "26",
         "Emir, Mr. Farred Chehab",
         "2631"
        ],
        [
         "27",
         "Fortune, Mr. Charles Alexander",
         "19950"
        ],
        [
         "28",
         "O'Dwyer, Miss. Ellen \"Nellie\"",
         "330959"
        ],
        [
         "29",
         "Todoroff, Mr. Lalio",
         "349216"
        ],
        [
         "30",
         "Uruchurtu, Don. Manuel E",
         "PC 17601"
        ],
        [
         "31",
         "Spencer, Mrs. William Augustus (Marie Eugenie)",
         "PC 17569"
        ],
        [
         "32",
         "Glynn, Miss. Mary Agatha",
         "335677"
        ],
        [
         "33",
         "Wheadon, Mr. Edward H",
         "C.A. 24579"
        ],
        [
         "34",
         "Meyer, Mr. Edgar Joseph",
         "PC 17604"
        ],
        [
         "35",
         "Holverson, Mr. Alexander Oskar",
         "113789"
        ],
        [
         "36",
         "Mamee, Mr. Hanna",
         "2677"
        ],
        [
         "37",
         "Cann, Mr. Ernest Charles",
         "A./5. 2152"
        ],
        [
         "38",
         "Vander Planke, Miss. Augusta Maria",
         "345764"
        ],
        [
         "39",
         "Nicola-Yarred, Miss. Jamila",
         "2651"
        ],
        [
         "40",
         "Ahlin, Mrs. Johan (Johanna Persdotter Larsson)",
         "7546"
        ],
        [
         "41",
         "Turpin, Mrs. William John Robert (Dorothy Ann Wonnacott)",
         "11668"
        ],
        [
         "42",
         "Kraeff, Mr. Theodor",
         "349253"
        ],
        [
         "43",
         "Laroche, Miss. Simonne Marie Anne Andree",
         "SC/Paris 2123"
        ],
        [
         "44",
         "Devaney, Miss. Margaret Delia",
         "330958"
        ],
        [
         "45",
         "Rogers, Mr. William John",
         "S.C./A.4. 23567"
        ],
        [
         "46",
         "Lennon, Mr. Denis",
         "370371"
        ],
        [
         "47",
         "O'Driscoll, Miss. Bridget",
         "14311"
        ],
        [
         "48",
         "Samaan, Mr. Youssef",
         "2662"
        ],
        [
         "49",
         "Arnold-Franchi, Mrs. Josef (Josefine Franchi)",
         "349237"
        ]
       ],
       "shape": {
        "columns": 2,
        "rows": 891
       }
      },
      "text/html": [
       "<div>\n",
       "<style scoped>\n",
       "    .dataframe tbody tr th:only-of-type {\n",
       "        vertical-align: middle;\n",
       "    }\n",
       "\n",
       "    .dataframe tbody tr th {\n",
       "        vertical-align: top;\n",
       "    }\n",
       "\n",
       "    .dataframe thead th {\n",
       "        text-align: right;\n",
       "    }\n",
       "</style>\n",
       "<table border=\"1\" class=\"dataframe\">\n",
       "  <thead>\n",
       "    <tr style=\"text-align: right;\">\n",
       "      <th></th>\n",
       "      <th>Name</th>\n",
       "      <th>Ticket</th>\n",
       "    </tr>\n",
       "  </thead>\n",
       "  <tbody>\n",
       "    <tr>\n",
       "      <th>0</th>\n",
       "      <td>Braund, Mr. Owen Harris</td>\n",
       "      <td>A/5 21171</td>\n",
       "    </tr>\n",
       "    <tr>\n",
       "      <th>1</th>\n",
       "      <td>Cumings, Mrs. John Bradley (Florence Briggs Th...</td>\n",
       "      <td>PC 17599</td>\n",
       "    </tr>\n",
       "    <tr>\n",
       "      <th>2</th>\n",
       "      <td>Heikkinen, Miss. Laina</td>\n",
       "      <td>STON/O2. 3101282</td>\n",
       "    </tr>\n",
       "    <tr>\n",
       "      <th>3</th>\n",
       "      <td>Futrelle, Mrs. Jacques Heath (Lily May Peel)</td>\n",
       "      <td>113803</td>\n",
       "    </tr>\n",
       "    <tr>\n",
       "      <th>4</th>\n",
       "      <td>Allen, Mr. William Henry</td>\n",
       "      <td>373450</td>\n",
       "    </tr>\n",
       "    <tr>\n",
       "      <th>...</th>\n",
       "      <td>...</td>\n",
       "      <td>...</td>\n",
       "    </tr>\n",
       "    <tr>\n",
       "      <th>886</th>\n",
       "      <td>Montvila, Rev. Juozas</td>\n",
       "      <td>211536</td>\n",
       "    </tr>\n",
       "    <tr>\n",
       "      <th>887</th>\n",
       "      <td>Graham, Miss. Margaret Edith</td>\n",
       "      <td>112053</td>\n",
       "    </tr>\n",
       "    <tr>\n",
       "      <th>888</th>\n",
       "      <td>Johnston, Miss. Catherine Helen \"Carrie\"</td>\n",
       "      <td>W./C. 6607</td>\n",
       "    </tr>\n",
       "    <tr>\n",
       "      <th>889</th>\n",
       "      <td>Behr, Mr. Karl Howell</td>\n",
       "      <td>111369</td>\n",
       "    </tr>\n",
       "    <tr>\n",
       "      <th>890</th>\n",
       "      <td>Dooley, Mr. Patrick</td>\n",
       "      <td>370376</td>\n",
       "    </tr>\n",
       "  </tbody>\n",
       "</table>\n",
       "<p>891 rows × 2 columns</p>\n",
       "</div>"
      ],
      "text/plain": [
       "                                                  Name            Ticket\n",
       "0                              Braund, Mr. Owen Harris         A/5 21171\n",
       "1    Cumings, Mrs. John Bradley (Florence Briggs Th...          PC 17599\n",
       "2                               Heikkinen, Miss. Laina  STON/O2. 3101282\n",
       "3         Futrelle, Mrs. Jacques Heath (Lily May Peel)            113803\n",
       "4                             Allen, Mr. William Henry            373450\n",
       "..                                                 ...               ...\n",
       "886                              Montvila, Rev. Juozas            211536\n",
       "887                       Graham, Miss. Margaret Edith            112053\n",
       "888           Johnston, Miss. Catherine Helen \"Carrie\"        W./C. 6607\n",
       "889                              Behr, Mr. Karl Howell            111369\n",
       "890                                Dooley, Mr. Patrick            370376\n",
       "\n",
       "[891 rows x 2 columns]"
      ]
     },
     "execution_count": 7,
     "metadata": {},
     "output_type": "execute_result"
    }
   ],
   "source": [
    "df[[\"Name\",\"Ticket\"]]"
   ]
  },
  {
   "cell_type": "code",
   "execution_count": 8,
   "id": "089fa830",
   "metadata": {},
   "outputs": [
    {
     "data": {
      "application/vnd.microsoft.datawrangler.viewer.v0+json": {
       "columns": [
        {
         "name": "index",
         "rawType": "int64",
         "type": "integer"
        },
        {
         "name": "Name",
         "rawType": "object",
         "type": "string"
        },
        {
         "name": "Sex",
         "rawType": "object",
         "type": "string"
        }
       ],
       "ref": "fffda993-fe7d-4a23-af99-60c758d1c4ef",
       "rows": [
        [
         "0",
         "Braund, Mr. Owen Harris",
         "male"
        ],
        [
         "1",
         "Cumings, Mrs. John Bradley (Florence Briggs Thayer)",
         "female"
        ],
        [
         "2",
         "Heikkinen, Miss. Laina",
         "female"
        ],
        [
         "3",
         "Futrelle, Mrs. Jacques Heath (Lily May Peel)",
         "female"
        ],
        [
         "4",
         "Allen, Mr. William Henry",
         "male"
        ],
        [
         "5",
         "Moran, Mr. James",
         "male"
        ],
        [
         "6",
         "McCarthy, Mr. Timothy J",
         "male"
        ],
        [
         "7",
         "Palsson, Master. Gosta Leonard",
         "male"
        ],
        [
         "8",
         "Johnson, Mrs. Oscar W (Elisabeth Vilhelmina Berg)",
         "female"
        ],
        [
         "9",
         "Nasser, Mrs. Nicholas (Adele Achem)",
         "female"
        ],
        [
         "10",
         "Sandstrom, Miss. Marguerite Rut",
         "female"
        ],
        [
         "11",
         "Bonnell, Miss. Elizabeth",
         "female"
        ],
        [
         "12",
         "Saundercock, Mr. William Henry",
         "male"
        ],
        [
         "13",
         "Andersson, Mr. Anders Johan",
         "male"
        ],
        [
         "14",
         "Vestrom, Miss. Hulda Amanda Adolfina",
         "female"
        ],
        [
         "15",
         "Hewlett, Mrs. (Mary D Kingcome) ",
         "female"
        ],
        [
         "16",
         "Rice, Master. Eugene",
         "male"
        ],
        [
         "17",
         "Williams, Mr. Charles Eugene",
         "male"
        ],
        [
         "18",
         "Vander Planke, Mrs. Julius (Emelia Maria Vandemoortele)",
         "female"
        ],
        [
         "19",
         "Masselmani, Mrs. Fatima",
         "female"
        ],
        [
         "20",
         "Fynney, Mr. Joseph J",
         "male"
        ],
        [
         "21",
         "Beesley, Mr. Lawrence",
         "male"
        ],
        [
         "22",
         "McGowan, Miss. Anna \"Annie\"",
         "female"
        ],
        [
         "23",
         "Sloper, Mr. William Thompson",
         "male"
        ],
        [
         "24",
         "Palsson, Miss. Torborg Danira",
         "female"
        ],
        [
         "25",
         "Asplund, Mrs. Carl Oscar (Selma Augusta Emilia Johansson)",
         "female"
        ],
        [
         "26",
         "Emir, Mr. Farred Chehab",
         "male"
        ],
        [
         "27",
         "Fortune, Mr. Charles Alexander",
         "male"
        ],
        [
         "28",
         "O'Dwyer, Miss. Ellen \"Nellie\"",
         "female"
        ],
        [
         "29",
         "Todoroff, Mr. Lalio",
         "male"
        ],
        [
         "30",
         "Uruchurtu, Don. Manuel E",
         "male"
        ],
        [
         "31",
         "Spencer, Mrs. William Augustus (Marie Eugenie)",
         "female"
        ],
        [
         "32",
         "Glynn, Miss. Mary Agatha",
         "female"
        ],
        [
         "33",
         "Wheadon, Mr. Edward H",
         "male"
        ],
        [
         "34",
         "Meyer, Mr. Edgar Joseph",
         "male"
        ],
        [
         "35",
         "Holverson, Mr. Alexander Oskar",
         "male"
        ],
        [
         "36",
         "Mamee, Mr. Hanna",
         "male"
        ],
        [
         "37",
         "Cann, Mr. Ernest Charles",
         "male"
        ],
        [
         "38",
         "Vander Planke, Miss. Augusta Maria",
         "female"
        ],
        [
         "39",
         "Nicola-Yarred, Miss. Jamila",
         "female"
        ],
        [
         "40",
         "Ahlin, Mrs. Johan (Johanna Persdotter Larsson)",
         "female"
        ],
        [
         "41",
         "Turpin, Mrs. William John Robert (Dorothy Ann Wonnacott)",
         "female"
        ],
        [
         "42",
         "Kraeff, Mr. Theodor",
         "male"
        ],
        [
         "43",
         "Laroche, Miss. Simonne Marie Anne Andree",
         "female"
        ],
        [
         "44",
         "Devaney, Miss. Margaret Delia",
         "female"
        ],
        [
         "45",
         "Rogers, Mr. William John",
         "male"
        ],
        [
         "46",
         "Lennon, Mr. Denis",
         "male"
        ],
        [
         "47",
         "O'Driscoll, Miss. Bridget",
         "female"
        ],
        [
         "48",
         "Samaan, Mr. Youssef",
         "male"
        ],
        [
         "49",
         "Arnold-Franchi, Mrs. Josef (Josefine Franchi)",
         "female"
        ]
       ],
       "shape": {
        "columns": 2,
        "rows": 891
       }
      },
      "text/html": [
       "<div>\n",
       "<style scoped>\n",
       "    .dataframe tbody tr th:only-of-type {\n",
       "        vertical-align: middle;\n",
       "    }\n",
       "\n",
       "    .dataframe tbody tr th {\n",
       "        vertical-align: top;\n",
       "    }\n",
       "\n",
       "    .dataframe thead th {\n",
       "        text-align: right;\n",
       "    }\n",
       "</style>\n",
       "<table border=\"1\" class=\"dataframe\">\n",
       "  <thead>\n",
       "    <tr style=\"text-align: right;\">\n",
       "      <th></th>\n",
       "      <th>Name</th>\n",
       "      <th>Sex</th>\n",
       "    </tr>\n",
       "  </thead>\n",
       "  <tbody>\n",
       "    <tr>\n",
       "      <th>0</th>\n",
       "      <td>Braund, Mr. Owen Harris</td>\n",
       "      <td>male</td>\n",
       "    </tr>\n",
       "    <tr>\n",
       "      <th>1</th>\n",
       "      <td>Cumings, Mrs. John Bradley (Florence Briggs Th...</td>\n",
       "      <td>female</td>\n",
       "    </tr>\n",
       "    <tr>\n",
       "      <th>2</th>\n",
       "      <td>Heikkinen, Miss. Laina</td>\n",
       "      <td>female</td>\n",
       "    </tr>\n",
       "    <tr>\n",
       "      <th>3</th>\n",
       "      <td>Futrelle, Mrs. Jacques Heath (Lily May Peel)</td>\n",
       "      <td>female</td>\n",
       "    </tr>\n",
       "    <tr>\n",
       "      <th>4</th>\n",
       "      <td>Allen, Mr. William Henry</td>\n",
       "      <td>male</td>\n",
       "    </tr>\n",
       "    <tr>\n",
       "      <th>...</th>\n",
       "      <td>...</td>\n",
       "      <td>...</td>\n",
       "    </tr>\n",
       "    <tr>\n",
       "      <th>886</th>\n",
       "      <td>Montvila, Rev. Juozas</td>\n",
       "      <td>male</td>\n",
       "    </tr>\n",
       "    <tr>\n",
       "      <th>887</th>\n",
       "      <td>Graham, Miss. Margaret Edith</td>\n",
       "      <td>female</td>\n",
       "    </tr>\n",
       "    <tr>\n",
       "      <th>888</th>\n",
       "      <td>Johnston, Miss. Catherine Helen \"Carrie\"</td>\n",
       "      <td>female</td>\n",
       "    </tr>\n",
       "    <tr>\n",
       "      <th>889</th>\n",
       "      <td>Behr, Mr. Karl Howell</td>\n",
       "      <td>male</td>\n",
       "    </tr>\n",
       "    <tr>\n",
       "      <th>890</th>\n",
       "      <td>Dooley, Mr. Patrick</td>\n",
       "      <td>male</td>\n",
       "    </tr>\n",
       "  </tbody>\n",
       "</table>\n",
       "<p>891 rows × 2 columns</p>\n",
       "</div>"
      ],
      "text/plain": [
       "                                                  Name     Sex\n",
       "0                              Braund, Mr. Owen Harris    male\n",
       "1    Cumings, Mrs. John Bradley (Florence Briggs Th...  female\n",
       "2                               Heikkinen, Miss. Laina  female\n",
       "3         Futrelle, Mrs. Jacques Heath (Lily May Peel)  female\n",
       "4                             Allen, Mr. William Henry    male\n",
       "..                                                 ...     ...\n",
       "886                              Montvila, Rev. Juozas    male\n",
       "887                       Graham, Miss. Margaret Edith  female\n",
       "888           Johnston, Miss. Catherine Helen \"Carrie\"  female\n",
       "889                              Behr, Mr. Karl Howell    male\n",
       "890                                Dooley, Mr. Patrick    male\n",
       "\n",
       "[891 rows x 2 columns]"
      ]
     },
     "execution_count": 8,
     "metadata": {},
     "output_type": "execute_result"
    }
   ],
   "source": [
    "df[[\"Name\",\"Sex\"]]"
   ]
  },
  {
   "cell_type": "code",
   "execution_count": 9,
   "id": "3b996dfd",
   "metadata": {},
   "outputs": [
    {
     "data": {
      "application/vnd.microsoft.datawrangler.viewer.v0+json": {
       "columns": [
        {
         "name": "index",
         "rawType": "int64",
         "type": "integer"
        },
        {
         "name": "Sex",
         "rawType": "object",
         "type": "string"
        },
        {
         "name": "Survived",
         "rawType": "int64",
         "type": "integer"
        }
       ],
       "ref": "7270e844-4fdd-47a4-b463-8bc87500b764",
       "rows": [
        [
         "0",
         "male",
         "0"
        ],
        [
         "1",
         "female",
         "1"
        ],
        [
         "2",
         "female",
         "1"
        ],
        [
         "3",
         "female",
         "1"
        ],
        [
         "4",
         "male",
         "0"
        ],
        [
         "5",
         "male",
         "0"
        ],
        [
         "6",
         "male",
         "0"
        ],
        [
         "7",
         "male",
         "0"
        ],
        [
         "8",
         "female",
         "1"
        ],
        [
         "9",
         "female",
         "1"
        ],
        [
         "10",
         "female",
         "1"
        ],
        [
         "11",
         "female",
         "1"
        ],
        [
         "12",
         "male",
         "0"
        ],
        [
         "13",
         "male",
         "0"
        ],
        [
         "14",
         "female",
         "0"
        ],
        [
         "15",
         "female",
         "1"
        ],
        [
         "16",
         "male",
         "0"
        ],
        [
         "17",
         "male",
         "1"
        ],
        [
         "18",
         "female",
         "0"
        ],
        [
         "19",
         "female",
         "1"
        ],
        [
         "20",
         "male",
         "0"
        ],
        [
         "21",
         "male",
         "1"
        ],
        [
         "22",
         "female",
         "1"
        ],
        [
         "23",
         "male",
         "1"
        ],
        [
         "24",
         "female",
         "0"
        ],
        [
         "25",
         "female",
         "1"
        ],
        [
         "26",
         "male",
         "0"
        ],
        [
         "27",
         "male",
         "0"
        ],
        [
         "28",
         "female",
         "1"
        ],
        [
         "29",
         "male",
         "0"
        ],
        [
         "30",
         "male",
         "0"
        ],
        [
         "31",
         "female",
         "1"
        ],
        [
         "32",
         "female",
         "1"
        ],
        [
         "33",
         "male",
         "0"
        ],
        [
         "34",
         "male",
         "0"
        ],
        [
         "35",
         "male",
         "0"
        ],
        [
         "36",
         "male",
         "1"
        ],
        [
         "37",
         "male",
         "0"
        ],
        [
         "38",
         "female",
         "0"
        ],
        [
         "39",
         "female",
         "1"
        ],
        [
         "40",
         "female",
         "0"
        ],
        [
         "41",
         "female",
         "0"
        ],
        [
         "42",
         "male",
         "0"
        ],
        [
         "43",
         "female",
         "1"
        ],
        [
         "44",
         "female",
         "1"
        ],
        [
         "45",
         "male",
         "0"
        ],
        [
         "46",
         "male",
         "0"
        ],
        [
         "47",
         "female",
         "1"
        ],
        [
         "48",
         "male",
         "0"
        ],
        [
         "49",
         "female",
         "0"
        ]
       ],
       "shape": {
        "columns": 2,
        "rows": 891
       }
      },
      "text/html": [
       "<div>\n",
       "<style scoped>\n",
       "    .dataframe tbody tr th:only-of-type {\n",
       "        vertical-align: middle;\n",
       "    }\n",
       "\n",
       "    .dataframe tbody tr th {\n",
       "        vertical-align: top;\n",
       "    }\n",
       "\n",
       "    .dataframe thead th {\n",
       "        text-align: right;\n",
       "    }\n",
       "</style>\n",
       "<table border=\"1\" class=\"dataframe\">\n",
       "  <thead>\n",
       "    <tr style=\"text-align: right;\">\n",
       "      <th></th>\n",
       "      <th>Sex</th>\n",
       "      <th>Survived</th>\n",
       "    </tr>\n",
       "  </thead>\n",
       "  <tbody>\n",
       "    <tr>\n",
       "      <th>0</th>\n",
       "      <td>male</td>\n",
       "      <td>0</td>\n",
       "    </tr>\n",
       "    <tr>\n",
       "      <th>1</th>\n",
       "      <td>female</td>\n",
       "      <td>1</td>\n",
       "    </tr>\n",
       "    <tr>\n",
       "      <th>2</th>\n",
       "      <td>female</td>\n",
       "      <td>1</td>\n",
       "    </tr>\n",
       "    <tr>\n",
       "      <th>3</th>\n",
       "      <td>female</td>\n",
       "      <td>1</td>\n",
       "    </tr>\n",
       "    <tr>\n",
       "      <th>4</th>\n",
       "      <td>male</td>\n",
       "      <td>0</td>\n",
       "    </tr>\n",
       "    <tr>\n",
       "      <th>...</th>\n",
       "      <td>...</td>\n",
       "      <td>...</td>\n",
       "    </tr>\n",
       "    <tr>\n",
       "      <th>886</th>\n",
       "      <td>male</td>\n",
       "      <td>0</td>\n",
       "    </tr>\n",
       "    <tr>\n",
       "      <th>887</th>\n",
       "      <td>female</td>\n",
       "      <td>1</td>\n",
       "    </tr>\n",
       "    <tr>\n",
       "      <th>888</th>\n",
       "      <td>female</td>\n",
       "      <td>0</td>\n",
       "    </tr>\n",
       "    <tr>\n",
       "      <th>889</th>\n",
       "      <td>male</td>\n",
       "      <td>1</td>\n",
       "    </tr>\n",
       "    <tr>\n",
       "      <th>890</th>\n",
       "      <td>male</td>\n",
       "      <td>0</td>\n",
       "    </tr>\n",
       "  </tbody>\n",
       "</table>\n",
       "<p>891 rows × 2 columns</p>\n",
       "</div>"
      ],
      "text/plain": [
       "        Sex  Survived\n",
       "0      male         0\n",
       "1    female         1\n",
       "2    female         1\n",
       "3    female         1\n",
       "4      male         0\n",
       "..      ...       ...\n",
       "886    male         0\n",
       "887  female         1\n",
       "888  female         0\n",
       "889    male         1\n",
       "890    male         0\n",
       "\n",
       "[891 rows x 2 columns]"
      ]
     },
     "execution_count": 9,
     "metadata": {},
     "output_type": "execute_result"
    }
   ],
   "source": [
    "df[[\"Sex\",\"Survived\"]]"
   ]
  },
  {
   "cell_type": "code",
   "execution_count": 10,
   "id": "039fc3a1",
   "metadata": {},
   "outputs": [
    {
     "data": {
      "text/plain": [
       "array([0, 1])"
      ]
     },
     "execution_count": 10,
     "metadata": {},
     "output_type": "execute_result"
    }
   ],
   "source": [
    "df[\"Survived\"].unique()"
   ]
  },
  {
   "cell_type": "code",
   "execution_count": 11,
   "id": "38882bd1",
   "metadata": {},
   "outputs": [
    {
     "data": {
      "text/plain": [
       "array([0, 1])"
      ]
     },
     "execution_count": 11,
     "metadata": {},
     "output_type": "execute_result"
    }
   ],
   "source": [
    "df[\"Survived\"].unique()"
   ]
  },
  {
   "cell_type": "code",
   "execution_count": 12,
   "id": "b2eed956",
   "metadata": {},
   "outputs": [
    {
     "data": {
      "application/vnd.microsoft.datawrangler.viewer.v0+json": {
       "columns": [
        {
         "name": "Survived",
         "rawType": "int64",
         "type": "integer"
        },
        {
         "name": "count",
         "rawType": "int64",
         "type": "integer"
        }
       ],
       "ref": "a182f7ba-5469-4c7d-86e6-dc4da7d694f9",
       "rows": [
        [
         "0",
         "549"
        ],
        [
         "1",
         "342"
        ]
       ],
       "shape": {
        "columns": 1,
        "rows": 2
       }
      },
      "text/plain": [
       "Survived\n",
       "0    549\n",
       "1    342\n",
       "Name: count, dtype: int64"
      ]
     },
     "execution_count": 12,
     "metadata": {},
     "output_type": "execute_result"
    }
   ],
   "source": [
    "df[\"Survived\"].value_counts()"
   ]
  },
  {
   "cell_type": "code",
   "execution_count": 13,
   "id": "e82f62de",
   "metadata": {},
   "outputs": [
    {
     "data": {
      "application/vnd.microsoft.datawrangler.viewer.v0+json": {
       "columns": [
        {
         "name": "Sex",
         "rawType": "object",
         "type": "string"
        },
        {
         "name": "count",
         "rawType": "int64",
         "type": "integer"
        }
       ],
       "ref": "065ca044-6f61-420b-bce7-30ce0558f5db",
       "rows": [
        [
         "male",
         "577"
        ],
        [
         "female",
         "314"
        ]
       ],
       "shape": {
        "columns": 1,
        "rows": 2
       }
      },
      "text/plain": [
       "Sex\n",
       "male      577\n",
       "female    314\n",
       "Name: count, dtype: int64"
      ]
     },
     "execution_count": 13,
     "metadata": {},
     "output_type": "execute_result"
    }
   ],
   "source": [
    "df[\"Sex\"].value_counts()"
   ]
  },
  {
   "cell_type": "code",
   "execution_count": 14,
   "id": "76690df0",
   "metadata": {},
   "outputs": [
    {
     "data": {
      "application/vnd.microsoft.datawrangler.viewer.v0+json": {
       "columns": [
        {
         "name": "Embarked",
         "rawType": "object",
         "type": "string"
        },
        {
         "name": "count",
         "rawType": "int64",
         "type": "integer"
        }
       ],
       "ref": "8cc2a126-523d-41ce-b820-3367a437da5a",
       "rows": [
        [
         "S",
         "644"
        ],
        [
         "C",
         "168"
        ],
        [
         "Q",
         "77"
        ]
       ],
       "shape": {
        "columns": 1,
        "rows": 3
       }
      },
      "text/plain": [
       "Embarked\n",
       "S    644\n",
       "C    168\n",
       "Q     77\n",
       "Name: count, dtype: int64"
      ]
     },
     "execution_count": 14,
     "metadata": {},
     "output_type": "execute_result"
    }
   ],
   "source": [
    "df[\"Embarked\"].value_counts()"
   ]
  },
  {
   "cell_type": "code",
   "execution_count": 15,
   "id": "a2edcdbd",
   "metadata": {},
   "outputs": [
    {
     "data": {
      "text/plain": [
       "28693.9493"
      ]
     },
     "execution_count": 15,
     "metadata": {},
     "output_type": "execute_result"
    }
   ],
   "source": [
    "sum(df[\"Fare\"])"
   ]
  },
  {
   "cell_type": "code",
   "execution_count": 16,
   "id": "0bc8a3b0",
   "metadata": {},
   "outputs": [
    {
     "data": {
      "text/plain": [
       "0.0"
      ]
     },
     "execution_count": 16,
     "metadata": {},
     "output_type": "execute_result"
    }
   ],
   "source": [
    "min(df[\"Fare\"])"
   ]
  },
  {
   "cell_type": "code",
   "execution_count": 17,
   "id": "c55bfe08",
   "metadata": {},
   "outputs": [
    {
     "data": {
      "text/plain": [
       "512.3292"
      ]
     },
     "execution_count": 17,
     "metadata": {},
     "output_type": "execute_result"
    }
   ],
   "source": [
    "max(df[\"Fare\"])"
   ]
  },
  {
   "cell_type": "code",
   "execution_count": 18,
   "id": "b0dc4cd0",
   "metadata": {},
   "outputs": [
    {
     "name": "stdout",
     "output_type": "stream",
     "text": [
      "18177.412499999984\n"
     ]
    }
   ],
   "source": [
    "a = df[\"Pclass\"]\n",
    "c = df[\"Fare\"]\n",
    "b =[]\n",
    "for i,j in enumerate(a):\n",
    "    if a[i] == 1 : b.append(c[i])\n",
    "print(sum(b))"
   ]
  },
  {
   "cell_type": "code",
   "execution_count": 19,
   "id": "9566368c",
   "metadata": {},
   "outputs": [
    {
     "data": {
      "text/plain": [
       "18177.4125"
      ]
     },
     "execution_count": 19,
     "metadata": {},
     "output_type": "execute_result"
    }
   ],
   "source": [
    "sum(df[df[\"Pclass\"]==1][\"Fare\"])"
   ]
  },
  {
   "cell_type": "code",
   "execution_count": 20,
   "id": "48496ee3",
   "metadata": {},
   "outputs": [
    {
     "data": {
      "text/plain": [
       "512.3292"
      ]
     },
     "execution_count": 20,
     "metadata": {},
     "output_type": "execute_result"
    }
   ],
   "source": [
    "max(df[df[\"Pclass\"]==1][\"Fare\"])"
   ]
  },
  {
   "cell_type": "code",
   "execution_count": 21,
   "id": "e9ca045a",
   "metadata": {},
   "outputs": [
    {
     "data": {
      "text/plain": [
       "0.0"
      ]
     },
     "execution_count": 21,
     "metadata": {},
     "output_type": "execute_result"
    }
   ],
   "source": [
    "min(df[df[\"Pclass\"]==1][\"Fare\"])"
   ]
  },
  {
   "cell_type": "markdown",
   "id": "9aabe2f4",
   "metadata": {},
   "source": [
    "pclass 1 2 3\n",
    "\n",
    "2nd highest and lowest\n",
    "3rd highest and lowest"
   ]
  },
  {
   "cell_type": "code",
   "execution_count": 22,
   "id": "95680cbd",
   "metadata": {},
   "outputs": [
    {
     "name": "stdout",
     "output_type": "stream",
     "text": [
      "512.3292 263.0 71.2833\n"
     ]
    }
   ],
   "source": [
    "class1 = df[df[\"Pclass\"]==1][\"Fare\"]\n",
    "highest = 0\n",
    "second = 0\n",
    "third = 0\n",
    "for i,j in enumerate(class1):\n",
    "    if j > highest:\n",
    "        third = second\n",
    "        second = highest\n",
    "        highest = j\n",
    "    else:\n",
    "        pass\n",
    "print(highest,second,third)"
   ]
  },
  {
   "cell_type": "code",
   "execution_count": 23,
   "id": "a8022f4e",
   "metadata": {},
   "outputs": [
    {
     "name": "stdout",
     "output_type": "stream",
     "text": [
      "73.5 41.5792 30.0708\n"
     ]
    }
   ],
   "source": [
    "class1 = df[df[\"Pclass\"]==2][\"Fare\"]\n",
    "highest = 0\n",
    "second = 0\n",
    "third = 0\n",
    "for i,j in enumerate(class1):\n",
    "    if j > highest:\n",
    "        third = second\n",
    "        second = highest\n",
    "        highest = j\n",
    "    else:\n",
    "        pass\n",
    "print(highest,second,third)"
   ]
  },
  {
   "cell_type": "code",
   "execution_count": 24,
   "id": "92395fb3",
   "metadata": {},
   "outputs": [
    {
     "name": "stdout",
     "output_type": "stream",
     "text": [
      "69.55 56.4958 46.9\n"
     ]
    }
   ],
   "source": [
    "class1 = df[df[\"Pclass\"]==3][\"Fare\"]\n",
    "highest = 0\n",
    "second = 0\n",
    "third = 0\n",
    "for i,j in enumerate(class1):\n",
    "    if j > highest:\n",
    "        third = second\n",
    "        second = highest\n",
    "        highest = j\n",
    "    else:\n",
    "        pass\n",
    "print(highest,second,third)"
   ]
  },
  {
   "cell_type": "markdown",
   "id": "7bd7bfb7",
   "metadata": {},
   "source": [
    "lowest for 1"
   ]
  },
  {
   "cell_type": "code",
   "execution_count": 25,
   "id": "7cbcd758",
   "metadata": {},
   "outputs": [
    {
     "name": "stdout",
     "output_type": "stream",
     "text": [
      "0.0 0.0 0.0\n"
     ]
    }
   ],
   "source": [
    "class1 = df[df[\"Pclass\"]==1][\"Fare\"]\n",
    "lowest = 1000000000000000000\n",
    "second = 1000000000000000000\n",
    "third =  1000000000000000000\n",
    "\n",
    "for j in class1:\n",
    "    if j < lowest:\n",
    "        third = second\n",
    "        second = lowest\n",
    "        lowest = j\n",
    "    elif j < second:\n",
    "        third = second\n",
    "        second = j\n",
    "    elif j < third:\n",
    "        third = j\n",
    "\n",
    "print(lowest, second, third)"
   ]
  },
  {
   "cell_type": "code",
   "execution_count": 26,
   "id": "faa01fe1",
   "metadata": {},
   "outputs": [
    {
     "name": "stdout",
     "output_type": "stream",
     "text": [
      "0.0 0.0 0.0\n"
     ]
    }
   ],
   "source": [
    "# Assuming df is the DataFrame and class1 is the Series you're working with\n",
    "class1 = df[df[\"Pclass\"] == 1][\"Fare\"]\n",
    "\n",
    "# Use nsmallest to find the three lowest fares\n",
    "lowest, second, third = class1.nsmallest(3)\n",
    "\n",
    "print(lowest, second, third)"
   ]
  },
  {
   "cell_type": "code",
   "execution_count": null,
   "id": "d52ea54f",
   "metadata": {},
   "outputs": [],
   "source": []
  },
  {
   "cell_type": "code",
   "execution_count": 27,
   "id": "dd230eb2",
   "metadata": {},
   "outputs": [
    {
     "data": {
      "application/vnd.microsoft.datawrangler.viewer.v0+json": {
       "columns": [
        {
         "name": "index",
         "rawType": "int64",
         "type": "integer"
        },
        {
         "name": "PassengerId",
         "rawType": "int64",
         "type": "integer"
        },
        {
         "name": "Survived",
         "rawType": "int64",
         "type": "integer"
        },
        {
         "name": "Pclass",
         "rawType": "int64",
         "type": "integer"
        },
        {
         "name": "Name",
         "rawType": "object",
         "type": "string"
        },
        {
         "name": "Sex",
         "rawType": "object",
         "type": "string"
        },
        {
         "name": "Age",
         "rawType": "float64",
         "type": "float"
        },
        {
         "name": "SibSp",
         "rawType": "int64",
         "type": "integer"
        },
        {
         "name": "Parch",
         "rawType": "int64",
         "type": "integer"
        },
        {
         "name": "Ticket",
         "rawType": "object",
         "type": "string"
        },
        {
         "name": "Fare",
         "rawType": "float64",
         "type": "float"
        },
        {
         "name": "Cabin",
         "rawType": "object",
         "type": "unknown"
        },
        {
         "name": "Embarked",
         "rawType": "object",
         "type": "string"
        }
       ],
       "ref": "639f7c95-b884-4b8b-8386-1227eb191c96",
       "rows": [
        [
         "0",
         "1",
         "0",
         "3",
         "Braund, Mr. Owen Harris",
         "male",
         "22.0",
         "1",
         "0",
         "A/5 21171",
         "7.25",
         null,
         "S"
        ],
        [
         "1",
         "2",
         "1",
         "1",
         "Cumings, Mrs. John Bradley (Florence Briggs Thayer)",
         "female",
         "38.0",
         "1",
         "0",
         "PC 17599",
         "71.2833",
         "C85",
         "C"
        ],
        [
         "2",
         "3",
         "1",
         "3",
         "Heikkinen, Miss. Laina",
         "female",
         "26.0",
         "0",
         "0",
         "STON/O2. 3101282",
         "7.925",
         null,
         "S"
        ],
        [
         "3",
         "4",
         "1",
         "1",
         "Futrelle, Mrs. Jacques Heath (Lily May Peel)",
         "female",
         "35.0",
         "1",
         "0",
         "113803",
         "53.1",
         "C123",
         "S"
        ],
        [
         "4",
         "5",
         "0",
         "3",
         "Allen, Mr. William Henry",
         "male",
         "35.0",
         "0",
         "0",
         "373450",
         "8.05",
         null,
         "S"
        ]
       ],
       "shape": {
        "columns": 12,
        "rows": 5
       }
      },
      "text/html": [
       "<div>\n",
       "<style scoped>\n",
       "    .dataframe tbody tr th:only-of-type {\n",
       "        vertical-align: middle;\n",
       "    }\n",
       "\n",
       "    .dataframe tbody tr th {\n",
       "        vertical-align: top;\n",
       "    }\n",
       "\n",
       "    .dataframe thead th {\n",
       "        text-align: right;\n",
       "    }\n",
       "</style>\n",
       "<table border=\"1\" class=\"dataframe\">\n",
       "  <thead>\n",
       "    <tr style=\"text-align: right;\">\n",
       "      <th></th>\n",
       "      <th>PassengerId</th>\n",
       "      <th>Survived</th>\n",
       "      <th>Pclass</th>\n",
       "      <th>Name</th>\n",
       "      <th>Sex</th>\n",
       "      <th>Age</th>\n",
       "      <th>SibSp</th>\n",
       "      <th>Parch</th>\n",
       "      <th>Ticket</th>\n",
       "      <th>Fare</th>\n",
       "      <th>Cabin</th>\n",
       "      <th>Embarked</th>\n",
       "    </tr>\n",
       "  </thead>\n",
       "  <tbody>\n",
       "    <tr>\n",
       "      <th>0</th>\n",
       "      <td>1</td>\n",
       "      <td>0</td>\n",
       "      <td>3</td>\n",
       "      <td>Braund, Mr. Owen Harris</td>\n",
       "      <td>male</td>\n",
       "      <td>22.0</td>\n",
       "      <td>1</td>\n",
       "      <td>0</td>\n",
       "      <td>A/5 21171</td>\n",
       "      <td>7.2500</td>\n",
       "      <td>NaN</td>\n",
       "      <td>S</td>\n",
       "    </tr>\n",
       "    <tr>\n",
       "      <th>1</th>\n",
       "      <td>2</td>\n",
       "      <td>1</td>\n",
       "      <td>1</td>\n",
       "      <td>Cumings, Mrs. John Bradley (Florence Briggs Th...</td>\n",
       "      <td>female</td>\n",
       "      <td>38.0</td>\n",
       "      <td>1</td>\n",
       "      <td>0</td>\n",
       "      <td>PC 17599</td>\n",
       "      <td>71.2833</td>\n",
       "      <td>C85</td>\n",
       "      <td>C</td>\n",
       "    </tr>\n",
       "    <tr>\n",
       "      <th>2</th>\n",
       "      <td>3</td>\n",
       "      <td>1</td>\n",
       "      <td>3</td>\n",
       "      <td>Heikkinen, Miss. Laina</td>\n",
       "      <td>female</td>\n",
       "      <td>26.0</td>\n",
       "      <td>0</td>\n",
       "      <td>0</td>\n",
       "      <td>STON/O2. 3101282</td>\n",
       "      <td>7.9250</td>\n",
       "      <td>NaN</td>\n",
       "      <td>S</td>\n",
       "    </tr>\n",
       "    <tr>\n",
       "      <th>3</th>\n",
       "      <td>4</td>\n",
       "      <td>1</td>\n",
       "      <td>1</td>\n",
       "      <td>Futrelle, Mrs. Jacques Heath (Lily May Peel)</td>\n",
       "      <td>female</td>\n",
       "      <td>35.0</td>\n",
       "      <td>1</td>\n",
       "      <td>0</td>\n",
       "      <td>113803</td>\n",
       "      <td>53.1000</td>\n",
       "      <td>C123</td>\n",
       "      <td>S</td>\n",
       "    </tr>\n",
       "    <tr>\n",
       "      <th>4</th>\n",
       "      <td>5</td>\n",
       "      <td>0</td>\n",
       "      <td>3</td>\n",
       "      <td>Allen, Mr. William Henry</td>\n",
       "      <td>male</td>\n",
       "      <td>35.0</td>\n",
       "      <td>0</td>\n",
       "      <td>0</td>\n",
       "      <td>373450</td>\n",
       "      <td>8.0500</td>\n",
       "      <td>NaN</td>\n",
       "      <td>S</td>\n",
       "    </tr>\n",
       "  </tbody>\n",
       "</table>\n",
       "</div>"
      ],
      "text/plain": [
       "   PassengerId  Survived  Pclass  \\\n",
       "0            1         0       3   \n",
       "1            2         1       1   \n",
       "2            3         1       3   \n",
       "3            4         1       1   \n",
       "4            5         0       3   \n",
       "\n",
       "                                                Name     Sex   Age  SibSp  \\\n",
       "0                            Braund, Mr. Owen Harris    male  22.0      1   \n",
       "1  Cumings, Mrs. John Bradley (Florence Briggs Th...  female  38.0      1   \n",
       "2                             Heikkinen, Miss. Laina  female  26.0      0   \n",
       "3       Futrelle, Mrs. Jacques Heath (Lily May Peel)  female  35.0      1   \n",
       "4                           Allen, Mr. William Henry    male  35.0      0   \n",
       "\n",
       "   Parch            Ticket     Fare Cabin Embarked  \n",
       "0      0         A/5 21171   7.2500   NaN        S  \n",
       "1      0          PC 17599  71.2833   C85        C  \n",
       "2      0  STON/O2. 3101282   7.9250   NaN        S  \n",
       "3      0            113803  53.1000  C123        S  \n",
       "4      0            373450   8.0500   NaN        S  "
      ]
     },
     "execution_count": 27,
     "metadata": {},
     "output_type": "execute_result"
    }
   ],
   "source": [
    "df.head()"
   ]
  },
  {
   "cell_type": "code",
   "execution_count": 28,
   "id": "98e91f59",
   "metadata": {},
   "outputs": [
    {
     "data": {
      "application/vnd.microsoft.datawrangler.viewer.v0+json": {
       "columns": [
        {
         "name": "index",
         "rawType": "int64",
         "type": "integer"
        },
        {
         "name": "PassengerId",
         "rawType": "int64",
         "type": "integer"
        },
        {
         "name": "Survived",
         "rawType": "int64",
         "type": "integer"
        },
        {
         "name": "Pclass",
         "rawType": "int64",
         "type": "integer"
        },
        {
         "name": "Name",
         "rawType": "object",
         "type": "string"
        },
        {
         "name": "Sex",
         "rawType": "object",
         "type": "string"
        },
        {
         "name": "Age",
         "rawType": "float64",
         "type": "float"
        },
        {
         "name": "SibSp",
         "rawType": "int64",
         "type": "integer"
        },
        {
         "name": "Parch",
         "rawType": "int64",
         "type": "integer"
        },
        {
         "name": "Ticket",
         "rawType": "object",
         "type": "string"
        },
        {
         "name": "Fare",
         "rawType": "float64",
         "type": "float"
        },
        {
         "name": "Cabin",
         "rawType": "object",
         "type": "unknown"
        },
        {
         "name": "Embarked",
         "rawType": "object",
         "type": "string"
        }
       ],
       "ref": "e756a620-a7cb-45cf-865e-fa18b03f7206",
       "rows": [
        [
         "886",
         "887",
         "0",
         "2",
         "Montvila, Rev. Juozas",
         "male",
         "27.0",
         "0",
         "0",
         "211536",
         "13.0",
         null,
         "S"
        ],
        [
         "887",
         "888",
         "1",
         "1",
         "Graham, Miss. Margaret Edith",
         "female",
         "19.0",
         "0",
         "0",
         "112053",
         "30.0",
         "B42",
         "S"
        ],
        [
         "888",
         "889",
         "0",
         "3",
         "Johnston, Miss. Catherine Helen \"Carrie\"",
         "female",
         null,
         "1",
         "2",
         "W./C. 6607",
         "23.45",
         null,
         "S"
        ],
        [
         "889",
         "890",
         "1",
         "1",
         "Behr, Mr. Karl Howell",
         "male",
         "26.0",
         "0",
         "0",
         "111369",
         "30.0",
         "C148",
         "C"
        ],
        [
         "890",
         "891",
         "0",
         "3",
         "Dooley, Mr. Patrick",
         "male",
         "32.0",
         "0",
         "0",
         "370376",
         "7.75",
         null,
         "Q"
        ]
       ],
       "shape": {
        "columns": 12,
        "rows": 5
       }
      },
      "text/html": [
       "<div>\n",
       "<style scoped>\n",
       "    .dataframe tbody tr th:only-of-type {\n",
       "        vertical-align: middle;\n",
       "    }\n",
       "\n",
       "    .dataframe tbody tr th {\n",
       "        vertical-align: top;\n",
       "    }\n",
       "\n",
       "    .dataframe thead th {\n",
       "        text-align: right;\n",
       "    }\n",
       "</style>\n",
       "<table border=\"1\" class=\"dataframe\">\n",
       "  <thead>\n",
       "    <tr style=\"text-align: right;\">\n",
       "      <th></th>\n",
       "      <th>PassengerId</th>\n",
       "      <th>Survived</th>\n",
       "      <th>Pclass</th>\n",
       "      <th>Name</th>\n",
       "      <th>Sex</th>\n",
       "      <th>Age</th>\n",
       "      <th>SibSp</th>\n",
       "      <th>Parch</th>\n",
       "      <th>Ticket</th>\n",
       "      <th>Fare</th>\n",
       "      <th>Cabin</th>\n",
       "      <th>Embarked</th>\n",
       "    </tr>\n",
       "  </thead>\n",
       "  <tbody>\n",
       "    <tr>\n",
       "      <th>886</th>\n",
       "      <td>887</td>\n",
       "      <td>0</td>\n",
       "      <td>2</td>\n",
       "      <td>Montvila, Rev. Juozas</td>\n",
       "      <td>male</td>\n",
       "      <td>27.0</td>\n",
       "      <td>0</td>\n",
       "      <td>0</td>\n",
       "      <td>211536</td>\n",
       "      <td>13.00</td>\n",
       "      <td>NaN</td>\n",
       "      <td>S</td>\n",
       "    </tr>\n",
       "    <tr>\n",
       "      <th>887</th>\n",
       "      <td>888</td>\n",
       "      <td>1</td>\n",
       "      <td>1</td>\n",
       "      <td>Graham, Miss. Margaret Edith</td>\n",
       "      <td>female</td>\n",
       "      <td>19.0</td>\n",
       "      <td>0</td>\n",
       "      <td>0</td>\n",
       "      <td>112053</td>\n",
       "      <td>30.00</td>\n",
       "      <td>B42</td>\n",
       "      <td>S</td>\n",
       "    </tr>\n",
       "    <tr>\n",
       "      <th>888</th>\n",
       "      <td>889</td>\n",
       "      <td>0</td>\n",
       "      <td>3</td>\n",
       "      <td>Johnston, Miss. Catherine Helen \"Carrie\"</td>\n",
       "      <td>female</td>\n",
       "      <td>NaN</td>\n",
       "      <td>1</td>\n",
       "      <td>2</td>\n",
       "      <td>W./C. 6607</td>\n",
       "      <td>23.45</td>\n",
       "      <td>NaN</td>\n",
       "      <td>S</td>\n",
       "    </tr>\n",
       "    <tr>\n",
       "      <th>889</th>\n",
       "      <td>890</td>\n",
       "      <td>1</td>\n",
       "      <td>1</td>\n",
       "      <td>Behr, Mr. Karl Howell</td>\n",
       "      <td>male</td>\n",
       "      <td>26.0</td>\n",
       "      <td>0</td>\n",
       "      <td>0</td>\n",
       "      <td>111369</td>\n",
       "      <td>30.00</td>\n",
       "      <td>C148</td>\n",
       "      <td>C</td>\n",
       "    </tr>\n",
       "    <tr>\n",
       "      <th>890</th>\n",
       "      <td>891</td>\n",
       "      <td>0</td>\n",
       "      <td>3</td>\n",
       "      <td>Dooley, Mr. Patrick</td>\n",
       "      <td>male</td>\n",
       "      <td>32.0</td>\n",
       "      <td>0</td>\n",
       "      <td>0</td>\n",
       "      <td>370376</td>\n",
       "      <td>7.75</td>\n",
       "      <td>NaN</td>\n",
       "      <td>Q</td>\n",
       "    </tr>\n",
       "  </tbody>\n",
       "</table>\n",
       "</div>"
      ],
      "text/plain": [
       "     PassengerId  Survived  Pclass                                      Name  \\\n",
       "886          887         0       2                     Montvila, Rev. Juozas   \n",
       "887          888         1       1              Graham, Miss. Margaret Edith   \n",
       "888          889         0       3  Johnston, Miss. Catherine Helen \"Carrie\"   \n",
       "889          890         1       1                     Behr, Mr. Karl Howell   \n",
       "890          891         0       3                       Dooley, Mr. Patrick   \n",
       "\n",
       "        Sex   Age  SibSp  Parch      Ticket   Fare Cabin Embarked  \n",
       "886    male  27.0      0      0      211536  13.00   NaN        S  \n",
       "887  female  19.0      0      0      112053  30.00   B42        S  \n",
       "888  female   NaN      1      2  W./C. 6607  23.45   NaN        S  \n",
       "889    male  26.0      0      0      111369  30.00  C148        C  \n",
       "890    male  32.0      0      0      370376   7.75   NaN        Q  "
      ]
     },
     "execution_count": 28,
     "metadata": {},
     "output_type": "execute_result"
    }
   ],
   "source": [
    "df.tail()"
   ]
  },
  {
   "cell_type": "code",
   "execution_count": 29,
   "id": "064cf48e",
   "metadata": {},
   "outputs": [
    {
     "data": {
      "text/plain": [
       "(891, 12)"
      ]
     },
     "execution_count": 29,
     "metadata": {},
     "output_type": "execute_result"
    }
   ],
   "source": [
    "# returns rows and columns\n",
    "df.shape"
   ]
  },
  {
   "cell_type": "code",
   "execution_count": 30,
   "id": "5e828e76",
   "metadata": {},
   "outputs": [
    {
     "name": "stdout",
     "output_type": "stream",
     "text": [
      "<class 'pandas.core.frame.DataFrame'>\n",
      "RangeIndex: 891 entries, 0 to 890\n",
      "Data columns (total 12 columns):\n",
      " #   Column       Non-Null Count  Dtype  \n",
      "---  ------       --------------  -----  \n",
      " 0   PassengerId  891 non-null    int64  \n",
      " 1   Survived     891 non-null    int64  \n",
      " 2   Pclass       891 non-null    int64  \n",
      " 3   Name         891 non-null    object \n",
      " 4   Sex          891 non-null    object \n",
      " 5   Age          714 non-null    float64\n",
      " 6   SibSp        891 non-null    int64  \n",
      " 7   Parch        891 non-null    int64  \n",
      " 8   Ticket       891 non-null    object \n",
      " 9   Fare         891 non-null    float64\n",
      " 10  Cabin        204 non-null    object \n",
      " 11  Embarked     889 non-null    object \n",
      "dtypes: float64(2), int64(5), object(5)\n",
      "memory usage: 83.7+ KB\n"
     ]
    }
   ],
   "source": [
    "df.info()"
   ]
  },
  {
   "cell_type": "code",
   "execution_count": 31,
   "id": "35d34a75",
   "metadata": {},
   "outputs": [
    {
     "data": {
      "application/vnd.microsoft.datawrangler.viewer.v0+json": {
       "columns": [
        {
         "name": "index",
         "rawType": "object",
         "type": "string"
        },
        {
         "name": "PassengerId",
         "rawType": "float64",
         "type": "float"
        },
        {
         "name": "Survived",
         "rawType": "float64",
         "type": "float"
        },
        {
         "name": "Pclass",
         "rawType": "float64",
         "type": "float"
        },
        {
         "name": "Age",
         "rawType": "float64",
         "type": "float"
        },
        {
         "name": "SibSp",
         "rawType": "float64",
         "type": "float"
        },
        {
         "name": "Parch",
         "rawType": "float64",
         "type": "float"
        },
        {
         "name": "Fare",
         "rawType": "float64",
         "type": "float"
        }
       ],
       "ref": "2f2f32bc-359c-4c2d-9187-8cc11b331335",
       "rows": [
        [
         "count",
         "891.0",
         "891.0",
         "891.0",
         "714.0",
         "891.0",
         "891.0",
         "891.0"
        ],
        [
         "mean",
         "446.0",
         "0.3838383838383838",
         "2.308641975308642",
         "29.69911764705882",
         "0.5230078563411896",
         "0.38159371492704824",
         "32.204207968574636"
        ],
        [
         "std",
         "257.3538420152301",
         "0.4865924542648575",
         "0.836071240977049",
         "14.526497332334042",
         "1.1027434322934317",
         "0.8060572211299483",
         "49.6934285971809"
        ],
        [
         "min",
         "1.0",
         "0.0",
         "1.0",
         "0.42",
         "0.0",
         "0.0",
         "0.0"
        ],
        [
         "25%",
         "223.5",
         "0.0",
         "2.0",
         "20.125",
         "0.0",
         "0.0",
         "7.9104"
        ],
        [
         "50%",
         "446.0",
         "0.0",
         "3.0",
         "28.0",
         "0.0",
         "0.0",
         "14.4542"
        ],
        [
         "75%",
         "668.5",
         "1.0",
         "3.0",
         "38.0",
         "1.0",
         "0.0",
         "31.0"
        ],
        [
         "max",
         "891.0",
         "1.0",
         "3.0",
         "80.0",
         "8.0",
         "6.0",
         "512.3292"
        ]
       ],
       "shape": {
        "columns": 7,
        "rows": 8
       }
      },
      "text/html": [
       "<div>\n",
       "<style scoped>\n",
       "    .dataframe tbody tr th:only-of-type {\n",
       "        vertical-align: middle;\n",
       "    }\n",
       "\n",
       "    .dataframe tbody tr th {\n",
       "        vertical-align: top;\n",
       "    }\n",
       "\n",
       "    .dataframe thead th {\n",
       "        text-align: right;\n",
       "    }\n",
       "</style>\n",
       "<table border=\"1\" class=\"dataframe\">\n",
       "  <thead>\n",
       "    <tr style=\"text-align: right;\">\n",
       "      <th></th>\n",
       "      <th>PassengerId</th>\n",
       "      <th>Survived</th>\n",
       "      <th>Pclass</th>\n",
       "      <th>Age</th>\n",
       "      <th>SibSp</th>\n",
       "      <th>Parch</th>\n",
       "      <th>Fare</th>\n",
       "    </tr>\n",
       "  </thead>\n",
       "  <tbody>\n",
       "    <tr>\n",
       "      <th>count</th>\n",
       "      <td>891.000000</td>\n",
       "      <td>891.000000</td>\n",
       "      <td>891.000000</td>\n",
       "      <td>714.000000</td>\n",
       "      <td>891.000000</td>\n",
       "      <td>891.000000</td>\n",
       "      <td>891.000000</td>\n",
       "    </tr>\n",
       "    <tr>\n",
       "      <th>mean</th>\n",
       "      <td>446.000000</td>\n",
       "      <td>0.383838</td>\n",
       "      <td>2.308642</td>\n",
       "      <td>29.699118</td>\n",
       "      <td>0.523008</td>\n",
       "      <td>0.381594</td>\n",
       "      <td>32.204208</td>\n",
       "    </tr>\n",
       "    <tr>\n",
       "      <th>std</th>\n",
       "      <td>257.353842</td>\n",
       "      <td>0.486592</td>\n",
       "      <td>0.836071</td>\n",
       "      <td>14.526497</td>\n",
       "      <td>1.102743</td>\n",
       "      <td>0.806057</td>\n",
       "      <td>49.693429</td>\n",
       "    </tr>\n",
       "    <tr>\n",
       "      <th>min</th>\n",
       "      <td>1.000000</td>\n",
       "      <td>0.000000</td>\n",
       "      <td>1.000000</td>\n",
       "      <td>0.420000</td>\n",
       "      <td>0.000000</td>\n",
       "      <td>0.000000</td>\n",
       "      <td>0.000000</td>\n",
       "    </tr>\n",
       "    <tr>\n",
       "      <th>25%</th>\n",
       "      <td>223.500000</td>\n",
       "      <td>0.000000</td>\n",
       "      <td>2.000000</td>\n",
       "      <td>20.125000</td>\n",
       "      <td>0.000000</td>\n",
       "      <td>0.000000</td>\n",
       "      <td>7.910400</td>\n",
       "    </tr>\n",
       "    <tr>\n",
       "      <th>50%</th>\n",
       "      <td>446.000000</td>\n",
       "      <td>0.000000</td>\n",
       "      <td>3.000000</td>\n",
       "      <td>28.000000</td>\n",
       "      <td>0.000000</td>\n",
       "      <td>0.000000</td>\n",
       "      <td>14.454200</td>\n",
       "    </tr>\n",
       "    <tr>\n",
       "      <th>75%</th>\n",
       "      <td>668.500000</td>\n",
       "      <td>1.000000</td>\n",
       "      <td>3.000000</td>\n",
       "      <td>38.000000</td>\n",
       "      <td>1.000000</td>\n",
       "      <td>0.000000</td>\n",
       "      <td>31.000000</td>\n",
       "    </tr>\n",
       "    <tr>\n",
       "      <th>max</th>\n",
       "      <td>891.000000</td>\n",
       "      <td>1.000000</td>\n",
       "      <td>3.000000</td>\n",
       "      <td>80.000000</td>\n",
       "      <td>8.000000</td>\n",
       "      <td>6.000000</td>\n",
       "      <td>512.329200</td>\n",
       "    </tr>\n",
       "  </tbody>\n",
       "</table>\n",
       "</div>"
      ],
      "text/plain": [
       "       PassengerId    Survived      Pclass         Age       SibSp  \\\n",
       "count   891.000000  891.000000  891.000000  714.000000  891.000000   \n",
       "mean    446.000000    0.383838    2.308642   29.699118    0.523008   \n",
       "std     257.353842    0.486592    0.836071   14.526497    1.102743   \n",
       "min       1.000000    0.000000    1.000000    0.420000    0.000000   \n",
       "25%     223.500000    0.000000    2.000000   20.125000    0.000000   \n",
       "50%     446.000000    0.000000    3.000000   28.000000    0.000000   \n",
       "75%     668.500000    1.000000    3.000000   38.000000    1.000000   \n",
       "max     891.000000    1.000000    3.000000   80.000000    8.000000   \n",
       "\n",
       "            Parch        Fare  \n",
       "count  891.000000  891.000000  \n",
       "mean     0.381594   32.204208  \n",
       "std      0.806057   49.693429  \n",
       "min      0.000000    0.000000  \n",
       "25%      0.000000    7.910400  \n",
       "50%      0.000000   14.454200  \n",
       "75%      0.000000   31.000000  \n",
       "max      6.000000  512.329200  "
      ]
     },
     "execution_count": 31,
     "metadata": {},
     "output_type": "execute_result"
    }
   ],
   "source": [
    "df.describe()"
   ]
  },
  {
   "cell_type": "code",
   "execution_count": 32,
   "id": "c168ae73",
   "metadata": {},
   "outputs": [
    {
     "data": {
      "text/plain": [
       "Index(['PassengerId', 'Survived', 'Pclass', 'Name', 'Sex', 'Age', 'SibSp',\n",
       "       'Parch', 'Ticket', 'Fare', 'Cabin', 'Embarked'],\n",
       "      dtype='object')"
      ]
     },
     "execution_count": 32,
     "metadata": {},
     "output_type": "execute_result"
    }
   ],
   "source": [
    "df.columns"
   ]
  },
  {
   "cell_type": "code",
   "execution_count": 33,
   "id": "df4bf982",
   "metadata": {},
   "outputs": [
    {
     "data": {
      "text/plain": [
       "RangeIndex(start=0, stop=891, step=1)"
      ]
     },
     "execution_count": 33,
     "metadata": {},
     "output_type": "execute_result"
    }
   ],
   "source": [
    "df.index"
   ]
  },
  {
   "cell_type": "code",
   "execution_count": 34,
   "id": "7b150389",
   "metadata": {},
   "outputs": [
    {
     "data": {
      "application/vnd.microsoft.datawrangler.viewer.v0+json": {
       "columns": [
        {
         "name": "index",
         "rawType": "int64",
         "type": "integer"
        },
        {
         "name": "Name",
         "rawType": "object",
         "type": "string"
        }
       ],
       "ref": "36398586-b30c-43b1-b783-e087f59227a4",
       "rows": [
        [
         "0",
         "Braund, Mr. Owen Harris"
        ],
        [
         "1",
         "Cumings, Mrs. John Bradley (Florence Briggs Thayer)"
        ],
        [
         "2",
         "Heikkinen, Miss. Laina"
        ],
        [
         "3",
         "Futrelle, Mrs. Jacques Heath (Lily May Peel)"
        ],
        [
         "4",
         "Allen, Mr. William Henry"
        ],
        [
         "5",
         "Moran, Mr. James"
        ],
        [
         "6",
         "McCarthy, Mr. Timothy J"
        ],
        [
         "7",
         "Palsson, Master. Gosta Leonard"
        ],
        [
         "8",
         "Johnson, Mrs. Oscar W (Elisabeth Vilhelmina Berg)"
        ],
        [
         "9",
         "Nasser, Mrs. Nicholas (Adele Achem)"
        ],
        [
         "10",
         "Sandstrom, Miss. Marguerite Rut"
        ],
        [
         "11",
         "Bonnell, Miss. Elizabeth"
        ],
        [
         "12",
         "Saundercock, Mr. William Henry"
        ],
        [
         "13",
         "Andersson, Mr. Anders Johan"
        ],
        [
         "14",
         "Vestrom, Miss. Hulda Amanda Adolfina"
        ],
        [
         "15",
         "Hewlett, Mrs. (Mary D Kingcome) "
        ],
        [
         "16",
         "Rice, Master. Eugene"
        ],
        [
         "17",
         "Williams, Mr. Charles Eugene"
        ],
        [
         "18",
         "Vander Planke, Mrs. Julius (Emelia Maria Vandemoortele)"
        ],
        [
         "19",
         "Masselmani, Mrs. Fatima"
        ],
        [
         "20",
         "Fynney, Mr. Joseph J"
        ],
        [
         "21",
         "Beesley, Mr. Lawrence"
        ],
        [
         "22",
         "McGowan, Miss. Anna \"Annie\""
        ],
        [
         "23",
         "Sloper, Mr. William Thompson"
        ],
        [
         "24",
         "Palsson, Miss. Torborg Danira"
        ],
        [
         "25",
         "Asplund, Mrs. Carl Oscar (Selma Augusta Emilia Johansson)"
        ],
        [
         "26",
         "Emir, Mr. Farred Chehab"
        ],
        [
         "27",
         "Fortune, Mr. Charles Alexander"
        ],
        [
         "28",
         "O'Dwyer, Miss. Ellen \"Nellie\""
        ],
        [
         "29",
         "Todoroff, Mr. Lalio"
        ],
        [
         "30",
         "Uruchurtu, Don. Manuel E"
        ],
        [
         "31",
         "Spencer, Mrs. William Augustus (Marie Eugenie)"
        ],
        [
         "32",
         "Glynn, Miss. Mary Agatha"
        ],
        [
         "33",
         "Wheadon, Mr. Edward H"
        ],
        [
         "34",
         "Meyer, Mr. Edgar Joseph"
        ],
        [
         "35",
         "Holverson, Mr. Alexander Oskar"
        ],
        [
         "36",
         "Mamee, Mr. Hanna"
        ],
        [
         "37",
         "Cann, Mr. Ernest Charles"
        ],
        [
         "38",
         "Vander Planke, Miss. Augusta Maria"
        ],
        [
         "39",
         "Nicola-Yarred, Miss. Jamila"
        ],
        [
         "40",
         "Ahlin, Mrs. Johan (Johanna Persdotter Larsson)"
        ],
        [
         "41",
         "Turpin, Mrs. William John Robert (Dorothy Ann Wonnacott)"
        ],
        [
         "42",
         "Kraeff, Mr. Theodor"
        ],
        [
         "43",
         "Laroche, Miss. Simonne Marie Anne Andree"
        ],
        [
         "44",
         "Devaney, Miss. Margaret Delia"
        ],
        [
         "45",
         "Rogers, Mr. William John"
        ],
        [
         "46",
         "Lennon, Mr. Denis"
        ],
        [
         "47",
         "O'Driscoll, Miss. Bridget"
        ],
        [
         "48",
         "Samaan, Mr. Youssef"
        ],
        [
         "49",
         "Arnold-Franchi, Mrs. Josef (Josefine Franchi)"
        ]
       ],
       "shape": {
        "columns": 1,
        "rows": 891
       }
      },
      "text/plain": [
       "0                                Braund, Mr. Owen Harris\n",
       "1      Cumings, Mrs. John Bradley (Florence Briggs Th...\n",
       "2                                 Heikkinen, Miss. Laina\n",
       "3           Futrelle, Mrs. Jacques Heath (Lily May Peel)\n",
       "4                               Allen, Mr. William Henry\n",
       "                             ...                        \n",
       "886                                Montvila, Rev. Juozas\n",
       "887                         Graham, Miss. Margaret Edith\n",
       "888             Johnston, Miss. Catherine Helen \"Carrie\"\n",
       "889                                Behr, Mr. Karl Howell\n",
       "890                                  Dooley, Mr. Patrick\n",
       "Name: Name, Length: 891, dtype: object"
      ]
     },
     "execution_count": 34,
     "metadata": {},
     "output_type": "execute_result"
    }
   ],
   "source": [
    "df[\"Name\"]"
   ]
  },
  {
   "cell_type": "code",
   "execution_count": 35,
   "id": "775969a8",
   "metadata": {},
   "outputs": [
    {
     "data": {
      "application/vnd.microsoft.datawrangler.viewer.v0+json": {
       "columns": [
        {
         "name": "index",
         "rawType": "int64",
         "type": "integer"
        },
        {
         "name": "Age",
         "rawType": "float64",
         "type": "float"
        }
       ],
       "ref": "bf607f02-1372-4293-88b2-a52d0636c20f",
       "rows": [
        [
         "0",
         "22.0"
        ],
        [
         "1",
         "38.0"
        ],
        [
         "2",
         "26.0"
        ],
        [
         "3",
         "35.0"
        ],
        [
         "4",
         "35.0"
        ],
        [
         "5",
         null
        ],
        [
         "6",
         "54.0"
        ],
        [
         "7",
         "2.0"
        ],
        [
         "8",
         "27.0"
        ],
        [
         "9",
         "14.0"
        ],
        [
         "10",
         "4.0"
        ],
        [
         "11",
         "58.0"
        ],
        [
         "12",
         "20.0"
        ],
        [
         "13",
         "39.0"
        ],
        [
         "14",
         "14.0"
        ],
        [
         "15",
         "55.0"
        ],
        [
         "16",
         "2.0"
        ],
        [
         "17",
         null
        ],
        [
         "18",
         "31.0"
        ],
        [
         "19",
         null
        ],
        [
         "20",
         "35.0"
        ],
        [
         "21",
         "34.0"
        ],
        [
         "22",
         "15.0"
        ],
        [
         "23",
         "28.0"
        ],
        [
         "24",
         "8.0"
        ],
        [
         "25",
         "38.0"
        ],
        [
         "26",
         null
        ],
        [
         "27",
         "19.0"
        ],
        [
         "28",
         null
        ],
        [
         "29",
         null
        ],
        [
         "30",
         "40.0"
        ],
        [
         "31",
         null
        ],
        [
         "32",
         null
        ],
        [
         "33",
         "66.0"
        ],
        [
         "34",
         "28.0"
        ],
        [
         "35",
         "42.0"
        ],
        [
         "36",
         null
        ],
        [
         "37",
         "21.0"
        ],
        [
         "38",
         "18.0"
        ],
        [
         "39",
         "14.0"
        ],
        [
         "40",
         "40.0"
        ],
        [
         "41",
         "27.0"
        ],
        [
         "42",
         null
        ],
        [
         "43",
         "3.0"
        ],
        [
         "44",
         "19.0"
        ],
        [
         "45",
         null
        ],
        [
         "46",
         null
        ],
        [
         "47",
         null
        ],
        [
         "48",
         null
        ],
        [
         "49",
         "18.0"
        ]
       ],
       "shape": {
        "columns": 1,
        "rows": 891
       }
      },
      "text/plain": [
       "0      22.0\n",
       "1      38.0\n",
       "2      26.0\n",
       "3      35.0\n",
       "4      35.0\n",
       "       ... \n",
       "886    27.0\n",
       "887    19.0\n",
       "888     NaN\n",
       "889    26.0\n",
       "890    32.0\n",
       "Name: Age, Length: 891, dtype: float64"
      ]
     },
     "execution_count": 35,
     "metadata": {},
     "output_type": "execute_result"
    }
   ],
   "source": [
    "df.Age"
   ]
  },
  {
   "cell_type": "code",
   "execution_count": 36,
   "id": "0a226b84",
   "metadata": {},
   "outputs": [
    {
     "data": {
      "application/vnd.microsoft.datawrangler.viewer.v0+json": {
       "columns": [
        {
         "name": "index",
         "rawType": "int64",
         "type": "integer"
        },
        {
         "name": "Age",
         "rawType": "float64",
         "type": "float"
        },
        {
         "name": "Sex",
         "rawType": "object",
         "type": "string"
        }
       ],
       "ref": "8192c872-a7b5-4bde-9a21-2cdb07f4bc5e",
       "rows": [
        [
         "0",
         "22.0",
         "male"
        ],
        [
         "1",
         "38.0",
         "female"
        ],
        [
         "2",
         "26.0",
         "female"
        ],
        [
         "3",
         "35.0",
         "female"
        ],
        [
         "4",
         "35.0",
         "male"
        ],
        [
         "5",
         null,
         "male"
        ],
        [
         "6",
         "54.0",
         "male"
        ],
        [
         "7",
         "2.0",
         "male"
        ],
        [
         "8",
         "27.0",
         "female"
        ],
        [
         "9",
         "14.0",
         "female"
        ],
        [
         "10",
         "4.0",
         "female"
        ],
        [
         "11",
         "58.0",
         "female"
        ],
        [
         "12",
         "20.0",
         "male"
        ],
        [
         "13",
         "39.0",
         "male"
        ],
        [
         "14",
         "14.0",
         "female"
        ],
        [
         "15",
         "55.0",
         "female"
        ],
        [
         "16",
         "2.0",
         "male"
        ],
        [
         "17",
         null,
         "male"
        ],
        [
         "18",
         "31.0",
         "female"
        ],
        [
         "19",
         null,
         "female"
        ],
        [
         "20",
         "35.0",
         "male"
        ],
        [
         "21",
         "34.0",
         "male"
        ],
        [
         "22",
         "15.0",
         "female"
        ],
        [
         "23",
         "28.0",
         "male"
        ],
        [
         "24",
         "8.0",
         "female"
        ],
        [
         "25",
         "38.0",
         "female"
        ],
        [
         "26",
         null,
         "male"
        ],
        [
         "27",
         "19.0",
         "male"
        ],
        [
         "28",
         null,
         "female"
        ],
        [
         "29",
         null,
         "male"
        ],
        [
         "30",
         "40.0",
         "male"
        ],
        [
         "31",
         null,
         "female"
        ],
        [
         "32",
         null,
         "female"
        ],
        [
         "33",
         "66.0",
         "male"
        ],
        [
         "34",
         "28.0",
         "male"
        ],
        [
         "35",
         "42.0",
         "male"
        ],
        [
         "36",
         null,
         "male"
        ],
        [
         "37",
         "21.0",
         "male"
        ],
        [
         "38",
         "18.0",
         "female"
        ],
        [
         "39",
         "14.0",
         "female"
        ],
        [
         "40",
         "40.0",
         "female"
        ],
        [
         "41",
         "27.0",
         "female"
        ],
        [
         "42",
         null,
         "male"
        ],
        [
         "43",
         "3.0",
         "female"
        ],
        [
         "44",
         "19.0",
         "female"
        ],
        [
         "45",
         null,
         "male"
        ],
        [
         "46",
         null,
         "male"
        ],
        [
         "47",
         null,
         "female"
        ],
        [
         "48",
         null,
         "male"
        ],
        [
         "49",
         "18.0",
         "female"
        ]
       ],
       "shape": {
        "columns": 2,
        "rows": 891
       }
      },
      "text/html": [
       "<div>\n",
       "<style scoped>\n",
       "    .dataframe tbody tr th:only-of-type {\n",
       "        vertical-align: middle;\n",
       "    }\n",
       "\n",
       "    .dataframe tbody tr th {\n",
       "        vertical-align: top;\n",
       "    }\n",
       "\n",
       "    .dataframe thead th {\n",
       "        text-align: right;\n",
       "    }\n",
       "</style>\n",
       "<table border=\"1\" class=\"dataframe\">\n",
       "  <thead>\n",
       "    <tr style=\"text-align: right;\">\n",
       "      <th></th>\n",
       "      <th>Age</th>\n",
       "      <th>Sex</th>\n",
       "    </tr>\n",
       "  </thead>\n",
       "  <tbody>\n",
       "    <tr>\n",
       "      <th>0</th>\n",
       "      <td>22.0</td>\n",
       "      <td>male</td>\n",
       "    </tr>\n",
       "    <tr>\n",
       "      <th>1</th>\n",
       "      <td>38.0</td>\n",
       "      <td>female</td>\n",
       "    </tr>\n",
       "    <tr>\n",
       "      <th>2</th>\n",
       "      <td>26.0</td>\n",
       "      <td>female</td>\n",
       "    </tr>\n",
       "    <tr>\n",
       "      <th>3</th>\n",
       "      <td>35.0</td>\n",
       "      <td>female</td>\n",
       "    </tr>\n",
       "    <tr>\n",
       "      <th>4</th>\n",
       "      <td>35.0</td>\n",
       "      <td>male</td>\n",
       "    </tr>\n",
       "    <tr>\n",
       "      <th>...</th>\n",
       "      <td>...</td>\n",
       "      <td>...</td>\n",
       "    </tr>\n",
       "    <tr>\n",
       "      <th>886</th>\n",
       "      <td>27.0</td>\n",
       "      <td>male</td>\n",
       "    </tr>\n",
       "    <tr>\n",
       "      <th>887</th>\n",
       "      <td>19.0</td>\n",
       "      <td>female</td>\n",
       "    </tr>\n",
       "    <tr>\n",
       "      <th>888</th>\n",
       "      <td>NaN</td>\n",
       "      <td>female</td>\n",
       "    </tr>\n",
       "    <tr>\n",
       "      <th>889</th>\n",
       "      <td>26.0</td>\n",
       "      <td>male</td>\n",
       "    </tr>\n",
       "    <tr>\n",
       "      <th>890</th>\n",
       "      <td>32.0</td>\n",
       "      <td>male</td>\n",
       "    </tr>\n",
       "  </tbody>\n",
       "</table>\n",
       "<p>891 rows × 2 columns</p>\n",
       "</div>"
      ],
      "text/plain": [
       "      Age     Sex\n",
       "0    22.0    male\n",
       "1    38.0  female\n",
       "2    26.0  female\n",
       "3    35.0  female\n",
       "4    35.0    male\n",
       "..    ...     ...\n",
       "886  27.0    male\n",
       "887  19.0  female\n",
       "888   NaN  female\n",
       "889  26.0    male\n",
       "890  32.0    male\n",
       "\n",
       "[891 rows x 2 columns]"
      ]
     },
     "execution_count": 36,
     "metadata": {},
     "output_type": "execute_result"
    }
   ],
   "source": [
    "df[[\"Age\", \"Sex\"]]"
   ]
  },
  {
   "cell_type": "code",
   "execution_count": 37,
   "id": "3d73efed",
   "metadata": {},
   "outputs": [
    {
     "data": {
      "application/vnd.microsoft.datawrangler.viewer.v0+json": {
       "columns": [
        {
         "name": "index",
         "rawType": "int64",
         "type": "integer"
        },
        {
         "name": "PassengerId",
         "rawType": "int64",
         "type": "integer"
        },
        {
         "name": "Survived",
         "rawType": "int64",
         "type": "integer"
        },
        {
         "name": "Pclass",
         "rawType": "int64",
         "type": "integer"
        },
        {
         "name": "Name",
         "rawType": "object",
         "type": "string"
        },
        {
         "name": "Sex",
         "rawType": "object",
         "type": "string"
        },
        {
         "name": "Age",
         "rawType": "float64",
         "type": "float"
        },
        {
         "name": "SibSp",
         "rawType": "int64",
         "type": "integer"
        },
        {
         "name": "Parch",
         "rawType": "int64",
         "type": "integer"
        },
        {
         "name": "Ticket",
         "rawType": "object",
         "type": "string"
        },
        {
         "name": "Fare",
         "rawType": "float64",
         "type": "float"
        },
        {
         "name": "Cabin",
         "rawType": "object",
         "type": "unknown"
        },
        {
         "name": "Embarked",
         "rawType": "object",
         "type": "string"
        }
       ],
       "ref": "cc3c3ec8-3be4-432c-a454-73ccc95804ba",
       "rows": [
        [
         "2",
         "3",
         "1",
         "3",
         "Heikkinen, Miss. Laina",
         "female",
         "26.0",
         "0",
         "0",
         "STON/O2. 3101282",
         "7.925",
         null,
         "S"
        ],
        [
         "8",
         "9",
         "1",
         "3",
         "Johnson, Mrs. Oscar W (Elisabeth Vilhelmina Berg)",
         "female",
         "27.0",
         "0",
         "2",
         "347742",
         "11.1333",
         null,
         "S"
        ],
        [
         "9",
         "10",
         "1",
         "2",
         "Nasser, Mrs. Nicholas (Adele Achem)",
         "female",
         "14.0",
         "1",
         "0",
         "237736",
         "30.0708",
         null,
         "C"
        ],
        [
         "10",
         "11",
         "1",
         "3",
         "Sandstrom, Miss. Marguerite Rut",
         "female",
         "4.0",
         "1",
         "1",
         "PP 9549",
         "16.7",
         "G6",
         "S"
        ],
        [
         "14",
         "15",
         "0",
         "3",
         "Vestrom, Miss. Hulda Amanda Adolfina",
         "female",
         "14.0",
         "0",
         "0",
         "350406",
         "7.8542",
         null,
         "S"
        ],
        [
         "22",
         "23",
         "1",
         "3",
         "McGowan, Miss. Anna \"Annie\"",
         "female",
         "15.0",
         "0",
         "0",
         "330923",
         "8.0292",
         null,
         "Q"
        ],
        [
         "24",
         "25",
         "0",
         "3",
         "Palsson, Miss. Torborg Danira",
         "female",
         "8.0",
         "3",
         "1",
         "349909",
         "21.075",
         null,
         "S"
        ],
        [
         "38",
         "39",
         "0",
         "3",
         "Vander Planke, Miss. Augusta Maria",
         "female",
         "18.0",
         "2",
         "0",
         "345764",
         "18.0",
         null,
         "S"
        ],
        [
         "39",
         "40",
         "1",
         "3",
         "Nicola-Yarred, Miss. Jamila",
         "female",
         "14.0",
         "1",
         "0",
         "2651",
         "11.2417",
         null,
         "C"
        ],
        [
         "41",
         "42",
         "0",
         "2",
         "Turpin, Mrs. William John Robert (Dorothy Ann Wonnacott)",
         "female",
         "27.0",
         "1",
         "0",
         "11668",
         "21.0",
         null,
         "S"
        ],
        [
         "43",
         "44",
         "1",
         "2",
         "Laroche, Miss. Simonne Marie Anne Andree",
         "female",
         "3.0",
         "1",
         "2",
         "SC/Paris 2123",
         "41.5792",
         null,
         "C"
        ],
        [
         "44",
         "45",
         "1",
         "3",
         "Devaney, Miss. Margaret Delia",
         "female",
         "19.0",
         "0",
         "0",
         "330958",
         "7.8792",
         null,
         "Q"
        ],
        [
         "49",
         "50",
         "0",
         "3",
         "Arnold-Franchi, Mrs. Josef (Josefine Franchi)",
         "female",
         "18.0",
         "1",
         "0",
         "349237",
         "17.8",
         null,
         "S"
        ],
        [
         "53",
         "54",
         "1",
         "2",
         "Faunthorpe, Mrs. Lizzie (Elizabeth Anne Wilkinson)",
         "female",
         "29.0",
         "1",
         "0",
         "2926",
         "26.0",
         null,
         "S"
        ],
        [
         "56",
         "57",
         "1",
         "2",
         "Rugg, Miss. Emily",
         "female",
         "21.0",
         "0",
         "0",
         "C.A. 31026",
         "10.5",
         null,
         "S"
        ],
        [
         "58",
         "59",
         "1",
         "2",
         "West, Miss. Constance Mirium",
         "female",
         "5.0",
         "1",
         "2",
         "C.A. 34651",
         "27.75",
         null,
         "S"
        ],
        [
         "66",
         "67",
         "1",
         "2",
         "Nye, Mrs. (Elizabeth Ramell)",
         "female",
         "29.0",
         "0",
         "0",
         "C.A. 29395",
         "10.5",
         "F33",
         "S"
        ],
        [
         "68",
         "69",
         "1",
         "3",
         "Andersson, Miss. Erna Alexandra",
         "female",
         "17.0",
         "4",
         "2",
         "3101281",
         "7.925",
         null,
         "S"
        ],
        [
         "71",
         "72",
         "0",
         "3",
         "Goodwin, Miss. Lillian Amy",
         "female",
         "16.0",
         "5",
         "2",
         "CA 2144",
         "46.9",
         null,
         "S"
        ],
        [
         "84",
         "85",
         "1",
         "2",
         "Ilett, Miss. Bertha",
         "female",
         "17.0",
         "0",
         "0",
         "SO/C 14885",
         "10.5",
         null,
         "S"
        ],
        [
         "88",
         "89",
         "1",
         "1",
         "Fortune, Miss. Mabel Helen",
         "female",
         "23.0",
         "3",
         "2",
         "19950",
         "263.0",
         "C23 C25 C27",
         "S"
        ],
        [
         "100",
         "101",
         "0",
         "3",
         "Petranec, Miss. Matilda",
         "female",
         "28.0",
         "0",
         "0",
         "349245",
         "7.8958",
         null,
         "S"
        ],
        [
         "106",
         "107",
         "1",
         "3",
         "Salkjelsvik, Miss. Anna Kristine",
         "female",
         "21.0",
         "0",
         "0",
         "343120",
         "7.65",
         null,
         "S"
        ],
        [
         "111",
         "112",
         "0",
         "3",
         "Zabour, Miss. Hileni",
         "female",
         "14.5",
         "1",
         "0",
         "2665",
         "14.4542",
         null,
         "C"
        ],
        [
         "113",
         "114",
         "0",
         "3",
         "Jussila, Miss. Katriina",
         "female",
         "20.0",
         "1",
         "0",
         "4136",
         "9.825",
         null,
         "S"
        ],
        [
         "114",
         "115",
         "0",
         "3",
         "Attalah, Miss. Malake",
         "female",
         "17.0",
         "0",
         "0",
         "2627",
         "14.4583",
         null,
         "C"
        ],
        [
         "119",
         "120",
         "0",
         "3",
         "Andersson, Miss. Ellis Anna Maria",
         "female",
         "2.0",
         "4",
         "2",
         "347082",
         "31.275",
         null,
         "S"
        ],
        [
         "133",
         "134",
         "1",
         "2",
         "Weisz, Mrs. Leopold (Mathilde Francoise Pede)",
         "female",
         "29.0",
         "1",
         "0",
         "228414",
         "26.0",
         null,
         "S"
        ],
        [
         "136",
         "137",
         "1",
         "1",
         "Newsom, Miss. Helen Monypeny",
         "female",
         "19.0",
         "0",
         "2",
         "11752",
         "26.2833",
         "D47",
         "S"
        ],
        [
         "141",
         "142",
         "1",
         "3",
         "Nysten, Miss. Anna Sofia",
         "female",
         "22.0",
         "0",
         "0",
         "347081",
         "7.75",
         null,
         "S"
        ],
        [
         "142",
         "143",
         "1",
         "3",
         "Hakkarainen, Mrs. Pekka Pietari (Elin Matilda Dolck)",
         "female",
         "24.0",
         "1",
         "0",
         "STON/O2. 3101279",
         "15.85",
         null,
         "S"
        ],
        [
         "147",
         "148",
         "0",
         "3",
         "Ford, Miss. Robina Maggie \"Ruby\"",
         "female",
         "9.0",
         "2",
         "2",
         "W./C. 6608",
         "34.375",
         null,
         "S"
        ],
        [
         "151",
         "152",
         "1",
         "1",
         "Pears, Mrs. Thomas (Edith Wearne)",
         "female",
         "22.0",
         "1",
         "0",
         "113776",
         "66.6",
         "C2",
         "S"
        ],
        [
         "156",
         "157",
         "1",
         "3",
         "Gilnagh, Miss. Katherine \"Katie\"",
         "female",
         "16.0",
         "0",
         "0",
         "35851",
         "7.7333",
         null,
         "Q"
        ],
        [
         "172",
         "173",
         "1",
         "3",
         "Johnson, Miss. Eleanor Ileen",
         "female",
         "1.0",
         "1",
         "1",
         "347742",
         "11.1333",
         null,
         "S"
        ],
        [
         "184",
         "185",
         "1",
         "3",
         "Kink-Heilmann, Miss. Luise Gretchen",
         "female",
         "4.0",
         "0",
         "2",
         "315153",
         "22.025",
         null,
         "S"
        ],
        [
         "192",
         "193",
         "1",
         "3",
         "Andersen-Jensen, Miss. Carla Christine Nielsine",
         "female",
         "19.0",
         "1",
         "0",
         "350046",
         "7.8542",
         null,
         "S"
        ],
        [
         "199",
         "200",
         "0",
         "2",
         "Yrois, Miss. Henriette (\"Mrs Harbeck\")",
         "female",
         "24.0",
         "0",
         "0",
         "248747",
         "13.0",
         null,
         "S"
        ],
        [
         "205",
         "206",
         "0",
         "3",
         "Strom, Miss. Telma Matilda",
         "female",
         "2.0",
         "0",
         "1",
         "347054",
         "10.4625",
         "G6",
         "S"
        ],
        [
         "208",
         "209",
         "1",
         "3",
         "Carr, Miss. Helen \"Ellen\"",
         "female",
         "16.0",
         "0",
         "0",
         "367231",
         "7.75",
         null,
         "Q"
        ],
        [
         "216",
         "217",
         "1",
         "3",
         "Honkanen, Miss. Eliina",
         "female",
         "27.0",
         "0",
         "0",
         "STON/O2. 3101283",
         "7.925",
         null,
         "S"
        ],
        [
         "233",
         "234",
         "1",
         "3",
         "Asplund, Miss. Lillian Gertrud",
         "female",
         "5.0",
         "4",
         "2",
         "347077",
         "31.3875",
         null,
         "S"
        ],
        [
         "237",
         "238",
         "1",
         "2",
         "Collyer, Miss. Marjorie \"Lottie\"",
         "female",
         "8.0",
         "0",
         "2",
         "C.A. 31921",
         "26.25",
         null,
         "S"
        ],
        [
         "246",
         "247",
         "0",
         "3",
         "Lindahl, Miss. Agda Thorilda Viktoria",
         "female",
         "25.0",
         "0",
         "0",
         "347071",
         "7.775",
         null,
         "S"
        ],
        [
         "247",
         "248",
         "1",
         "2",
         "Hamalainen, Mrs. William (Anna)",
         "female",
         "24.0",
         "0",
         "2",
         "250649",
         "14.5",
         null,
         "S"
        ],
        [
         "251",
         "252",
         "0",
         "3",
         "Strom, Mrs. Wilhelm (Elna Matilda Persson)",
         "female",
         "29.0",
         "1",
         "1",
         "347054",
         "10.4625",
         "G6",
         "S"
        ],
        [
         "255",
         "256",
         "1",
         "3",
         "Touma, Mrs. Darwis (Hanne Youssef Razi)",
         "female",
         "29.0",
         "0",
         "2",
         "2650",
         "15.2458",
         null,
         "C"
        ],
        [
         "289",
         "290",
         "1",
         "3",
         "Connolly, Miss. Kate",
         "female",
         "22.0",
         "0",
         "0",
         "370373",
         "7.75",
         null,
         "Q"
        ],
        [
         "290",
         "291",
         "1",
         "1",
         "Barber, Miss. Ellen \"Nellie\"",
         "female",
         "26.0",
         "0",
         "0",
         "19877",
         "78.85",
         null,
         "S"
        ],
        [
         "291",
         "292",
         "1",
         "1",
         "Bishop, Mrs. Dickinson H (Helen Walton)",
         "female",
         "19.0",
         "1",
         "0",
         "11967",
         "91.0792",
         "B49",
         "C"
        ]
       ],
       "shape": {
        "columns": 12,
        "rows": 147
       }
      },
      "text/html": [
       "<div>\n",
       "<style scoped>\n",
       "    .dataframe tbody tr th:only-of-type {\n",
       "        vertical-align: middle;\n",
       "    }\n",
       "\n",
       "    .dataframe tbody tr th {\n",
       "        vertical-align: top;\n",
       "    }\n",
       "\n",
       "    .dataframe thead th {\n",
       "        text-align: right;\n",
       "    }\n",
       "</style>\n",
       "<table border=\"1\" class=\"dataframe\">\n",
       "  <thead>\n",
       "    <tr style=\"text-align: right;\">\n",
       "      <th></th>\n",
       "      <th>PassengerId</th>\n",
       "      <th>Survived</th>\n",
       "      <th>Pclass</th>\n",
       "      <th>Name</th>\n",
       "      <th>Sex</th>\n",
       "      <th>Age</th>\n",
       "      <th>SibSp</th>\n",
       "      <th>Parch</th>\n",
       "      <th>Ticket</th>\n",
       "      <th>Fare</th>\n",
       "      <th>Cabin</th>\n",
       "      <th>Embarked</th>\n",
       "    </tr>\n",
       "  </thead>\n",
       "  <tbody>\n",
       "    <tr>\n",
       "      <th>2</th>\n",
       "      <td>3</td>\n",
       "      <td>1</td>\n",
       "      <td>3</td>\n",
       "      <td>Heikkinen, Miss. Laina</td>\n",
       "      <td>female</td>\n",
       "      <td>26.0</td>\n",
       "      <td>0</td>\n",
       "      <td>0</td>\n",
       "      <td>STON/O2. 3101282</td>\n",
       "      <td>7.9250</td>\n",
       "      <td>NaN</td>\n",
       "      <td>S</td>\n",
       "    </tr>\n",
       "    <tr>\n",
       "      <th>8</th>\n",
       "      <td>9</td>\n",
       "      <td>1</td>\n",
       "      <td>3</td>\n",
       "      <td>Johnson, Mrs. Oscar W (Elisabeth Vilhelmina Berg)</td>\n",
       "      <td>female</td>\n",
       "      <td>27.0</td>\n",
       "      <td>0</td>\n",
       "      <td>2</td>\n",
       "      <td>347742</td>\n",
       "      <td>11.1333</td>\n",
       "      <td>NaN</td>\n",
       "      <td>S</td>\n",
       "    </tr>\n",
       "    <tr>\n",
       "      <th>9</th>\n",
       "      <td>10</td>\n",
       "      <td>1</td>\n",
       "      <td>2</td>\n",
       "      <td>Nasser, Mrs. Nicholas (Adele Achem)</td>\n",
       "      <td>female</td>\n",
       "      <td>14.0</td>\n",
       "      <td>1</td>\n",
       "      <td>0</td>\n",
       "      <td>237736</td>\n",
       "      <td>30.0708</td>\n",
       "      <td>NaN</td>\n",
       "      <td>C</td>\n",
       "    </tr>\n",
       "    <tr>\n",
       "      <th>10</th>\n",
       "      <td>11</td>\n",
       "      <td>1</td>\n",
       "      <td>3</td>\n",
       "      <td>Sandstrom, Miss. Marguerite Rut</td>\n",
       "      <td>female</td>\n",
       "      <td>4.0</td>\n",
       "      <td>1</td>\n",
       "      <td>1</td>\n",
       "      <td>PP 9549</td>\n",
       "      <td>16.7000</td>\n",
       "      <td>G6</td>\n",
       "      <td>S</td>\n",
       "    </tr>\n",
       "    <tr>\n",
       "      <th>14</th>\n",
       "      <td>15</td>\n",
       "      <td>0</td>\n",
       "      <td>3</td>\n",
       "      <td>Vestrom, Miss. Hulda Amanda Adolfina</td>\n",
       "      <td>female</td>\n",
       "      <td>14.0</td>\n",
       "      <td>0</td>\n",
       "      <td>0</td>\n",
       "      <td>350406</td>\n",
       "      <td>7.8542</td>\n",
       "      <td>NaN</td>\n",
       "      <td>S</td>\n",
       "    </tr>\n",
       "    <tr>\n",
       "      <th>...</th>\n",
       "      <td>...</td>\n",
       "      <td>...</td>\n",
       "      <td>...</td>\n",
       "      <td>...</td>\n",
       "      <td>...</td>\n",
       "      <td>...</td>\n",
       "      <td>...</td>\n",
       "      <td>...</td>\n",
       "      <td>...</td>\n",
       "      <td>...</td>\n",
       "      <td>...</td>\n",
       "      <td>...</td>\n",
       "    </tr>\n",
       "    <tr>\n",
       "      <th>874</th>\n",
       "      <td>875</td>\n",
       "      <td>1</td>\n",
       "      <td>2</td>\n",
       "      <td>Abelson, Mrs. Samuel (Hannah Wizosky)</td>\n",
       "      <td>female</td>\n",
       "      <td>28.0</td>\n",
       "      <td>1</td>\n",
       "      <td>0</td>\n",
       "      <td>P/PP 3381</td>\n",
       "      <td>24.0000</td>\n",
       "      <td>NaN</td>\n",
       "      <td>C</td>\n",
       "    </tr>\n",
       "    <tr>\n",
       "      <th>875</th>\n",
       "      <td>876</td>\n",
       "      <td>1</td>\n",
       "      <td>3</td>\n",
       "      <td>Najib, Miss. Adele Kiamie \"Jane\"</td>\n",
       "      <td>female</td>\n",
       "      <td>15.0</td>\n",
       "      <td>0</td>\n",
       "      <td>0</td>\n",
       "      <td>2667</td>\n",
       "      <td>7.2250</td>\n",
       "      <td>NaN</td>\n",
       "      <td>C</td>\n",
       "    </tr>\n",
       "    <tr>\n",
       "      <th>880</th>\n",
       "      <td>881</td>\n",
       "      <td>1</td>\n",
       "      <td>2</td>\n",
       "      <td>Shelley, Mrs. William (Imanita Parrish Hall)</td>\n",
       "      <td>female</td>\n",
       "      <td>25.0</td>\n",
       "      <td>0</td>\n",
       "      <td>1</td>\n",
       "      <td>230433</td>\n",
       "      <td>26.0000</td>\n",
       "      <td>NaN</td>\n",
       "      <td>S</td>\n",
       "    </tr>\n",
       "    <tr>\n",
       "      <th>882</th>\n",
       "      <td>883</td>\n",
       "      <td>0</td>\n",
       "      <td>3</td>\n",
       "      <td>Dahlberg, Miss. Gerda Ulrika</td>\n",
       "      <td>female</td>\n",
       "      <td>22.0</td>\n",
       "      <td>0</td>\n",
       "      <td>0</td>\n",
       "      <td>7552</td>\n",
       "      <td>10.5167</td>\n",
       "      <td>NaN</td>\n",
       "      <td>S</td>\n",
       "    </tr>\n",
       "    <tr>\n",
       "      <th>887</th>\n",
       "      <td>888</td>\n",
       "      <td>1</td>\n",
       "      <td>1</td>\n",
       "      <td>Graham, Miss. Margaret Edith</td>\n",
       "      <td>female</td>\n",
       "      <td>19.0</td>\n",
       "      <td>0</td>\n",
       "      <td>0</td>\n",
       "      <td>112053</td>\n",
       "      <td>30.0000</td>\n",
       "      <td>B42</td>\n",
       "      <td>S</td>\n",
       "    </tr>\n",
       "  </tbody>\n",
       "</table>\n",
       "<p>147 rows × 12 columns</p>\n",
       "</div>"
      ],
      "text/plain": [
       "     PassengerId  Survived  Pclass  \\\n",
       "2              3         1       3   \n",
       "8              9         1       3   \n",
       "9             10         1       2   \n",
       "10            11         1       3   \n",
       "14            15         0       3   \n",
       "..           ...       ...     ...   \n",
       "874          875         1       2   \n",
       "875          876         1       3   \n",
       "880          881         1       2   \n",
       "882          883         0       3   \n",
       "887          888         1       1   \n",
       "\n",
       "                                                  Name     Sex   Age  SibSp  \\\n",
       "2                               Heikkinen, Miss. Laina  female  26.0      0   \n",
       "8    Johnson, Mrs. Oscar W (Elisabeth Vilhelmina Berg)  female  27.0      0   \n",
       "9                  Nasser, Mrs. Nicholas (Adele Achem)  female  14.0      1   \n",
       "10                     Sandstrom, Miss. Marguerite Rut  female   4.0      1   \n",
       "14                Vestrom, Miss. Hulda Amanda Adolfina  female  14.0      0   \n",
       "..                                                 ...     ...   ...    ...   \n",
       "874              Abelson, Mrs. Samuel (Hannah Wizosky)  female  28.0      1   \n",
       "875                   Najib, Miss. Adele Kiamie \"Jane\"  female  15.0      0   \n",
       "880       Shelley, Mrs. William (Imanita Parrish Hall)  female  25.0      0   \n",
       "882                       Dahlberg, Miss. Gerda Ulrika  female  22.0      0   \n",
       "887                       Graham, Miss. Margaret Edith  female  19.0      0   \n",
       "\n",
       "     Parch            Ticket     Fare Cabin Embarked  \n",
       "2        0  STON/O2. 3101282   7.9250   NaN        S  \n",
       "8        2            347742  11.1333   NaN        S  \n",
       "9        0            237736  30.0708   NaN        C  \n",
       "10       1           PP 9549  16.7000    G6        S  \n",
       "14       0            350406   7.8542   NaN        S  \n",
       "..     ...               ...      ...   ...      ...  \n",
       "874      0         P/PP 3381  24.0000   NaN        C  \n",
       "875      0              2667   7.2250   NaN        C  \n",
       "880      1            230433  26.0000   NaN        S  \n",
       "882      0              7552  10.5167   NaN        S  \n",
       "887      0            112053  30.0000   B42        S  \n",
       "\n",
       "[147 rows x 12 columns]"
      ]
     },
     "execution_count": 37,
     "metadata": {},
     "output_type": "execute_result"
    }
   ],
   "source": [
    "df.loc[(df[\"Age\"] < 30) & (df[\"Sex\"] == \"female\")]"
   ]
  },
  {
   "cell_type": "code",
   "execution_count": 38,
   "id": "e013e084",
   "metadata": {},
   "outputs": [
    {
     "data": {
      "text/plain": [
       "19"
      ]
     },
     "execution_count": 38,
     "metadata": {},
     "output_type": "execute_result"
    }
   ],
   "source": [
    "len(df.loc[(df[\"Age\"] > 60) & (df[\"Sex\"] == \"male\")])"
   ]
  },
  {
   "cell_type": "code",
   "execution_count": 39,
   "id": "984e7443",
   "metadata": {},
   "outputs": [
    {
     "data": {
      "application/vnd.microsoft.datawrangler.viewer.v0+json": {
       "columns": [
        {
         "name": "index",
         "rawType": "int64",
         "type": "integer"
        },
        {
         "name": "Name",
         "rawType": "object",
         "type": "string"
        }
       ],
       "ref": "82f16d11-e9f0-45ff-a700-3b1c13faf5f9",
       "rows": [
        [
         "6",
         "McCarthy, Mr. Timothy J"
        ],
        [
         "33",
         "Wheadon, Mr. Edward H"
        ],
        [
         "54",
         "Ostby, Mr. Engelhart Cornelius"
        ],
        [
         "94",
         "Coxon, Mr. Daniel"
        ],
        [
         "96",
         "Goldschmidt, Mr. George B"
        ],
        [
         "116",
         "Connors, Mr. Patrick"
        ],
        [
         "124",
         "White, Mr. Percival Wayland"
        ],
        [
         "150",
         "Bateman, Rev. Robert James"
        ],
        [
         "152",
         "Meo, Mr. Alfonzo"
        ],
        [
         "155",
         "Williams, Mr. Charles Duane"
        ],
        [
         "170",
         "Van der hoef, Mr. Wyckoff"
        ],
        [
         "174",
         "Smith, Mr. James Clinch"
        ],
        [
         "177",
         "Isham, Miss. Ann Elizabeth"
        ],
        [
         "222",
         "Green, Mr. George Henry"
        ],
        [
         "232",
         "Sjostedt, Mr. Ernst Adolf"
        ],
        [
         "249",
         "Carter, Rev. Ernest Courtenay"
        ],
        [
         "252",
         "Stead, Mr. William Thomas"
        ],
        [
         "262",
         "Taussig, Mr. Emil"
        ],
        [
         "280",
         "Duane, Mr. Frank"
        ],
        [
         "317",
         "Moraweck, Dr. Ernest"
        ],
        [
         "326",
         "Nysveen, Mr. Johan Hansen"
        ],
        [
         "406",
         "Widegren, Mr. Carl/Charles Peter"
        ],
        [
         "434",
         "Silvey, Mr. William Baird"
        ],
        [
         "438",
         "Fortune, Mr. Mark"
        ],
        [
         "456",
         "Millet, Mr. Francis Davis"
        ],
        [
         "467",
         "Smart, Mr. John Montgomery"
        ],
        [
         "482",
         "Rouse, Mr. Richard Henry"
        ],
        [
         "487",
         "Kent, Mr. Edward Austin"
        ],
        [
         "492",
         "Molson, Mr. Harry Markland"
        ],
        [
         "493",
         "Artagaveytia, Mr. Ramon"
        ],
        [
         "544",
         "Douglas, Mr. Walter Donald"
        ],
        [
         "545",
         "Nicholson, Mr. Arthur Ernest"
        ],
        [
         "555",
         "Wright, Mr. George"
        ],
        [
         "582",
         "Downton, Mr. William James"
        ],
        [
         "625",
         "Sutton, Mr. Frederick"
        ],
        [
         "626",
         "Kirkland, Rev. Charles Leonard"
        ],
        [
         "631",
         "Lundahl, Mr. Johan Svensson"
        ],
        [
         "659",
         "Newell, Mr. Arthur Webster"
        ],
        [
         "672",
         "Mitchell, Mr. Henry Michael"
        ],
        [
         "684",
         "Brown, Mr. Thomas William Solomon"
        ],
        [
         "694",
         "Weir, Col. John"
        ],
        [
         "695",
         "Chapman, Mr. Charles Henry"
        ],
        [
         "714",
         "Greenberg, Mr. Samuel"
        ],
        [
         "723",
         "Hodges, Mr. Henry Price"
        ],
        [
         "745",
         "Crosby, Capt. Edward Gifford"
        ],
        [
         "772",
         "Mack, Mrs. (Mary)"
        ],
        [
         "851",
         "Svensson, Mr. Johan"
        ]
       ],
       "shape": {
        "columns": 1,
        "rows": 47
       }
      },
      "text/plain": [
       "6                McCarthy, Mr. Timothy J\n",
       "33                 Wheadon, Mr. Edward H\n",
       "54        Ostby, Mr. Engelhart Cornelius\n",
       "94                     Coxon, Mr. Daniel\n",
       "96             Goldschmidt, Mr. George B\n",
       "116                 Connors, Mr. Patrick\n",
       "124          White, Mr. Percival Wayland\n",
       "150           Bateman, Rev. Robert James\n",
       "152                     Meo, Mr. Alfonzo\n",
       "155          Williams, Mr. Charles Duane\n",
       "170            Van der hoef, Mr. Wyckoff\n",
       "174              Smith, Mr. James Clinch\n",
       "177           Isham, Miss. Ann Elizabeth\n",
       "222              Green, Mr. George Henry\n",
       "232            Sjostedt, Mr. Ernst Adolf\n",
       "249        Carter, Rev. Ernest Courtenay\n",
       "252            Stead, Mr. William Thomas\n",
       "262                    Taussig, Mr. Emil\n",
       "280                     Duane, Mr. Frank\n",
       "317                 Moraweck, Dr. Ernest\n",
       "326            Nysveen, Mr. Johan Hansen\n",
       "406     Widegren, Mr. Carl/Charles Peter\n",
       "434            Silvey, Mr. William Baird\n",
       "438                    Fortune, Mr. Mark\n",
       "456            Millet, Mr. Francis Davis\n",
       "467           Smart, Mr. John Montgomery\n",
       "482             Rouse, Mr. Richard Henry\n",
       "487              Kent, Mr. Edward Austin\n",
       "492           Molson, Mr. Harry Markland\n",
       "493              Artagaveytia, Mr. Ramon\n",
       "544           Douglas, Mr. Walter Donald\n",
       "545         Nicholson, Mr. Arthur Ernest\n",
       "555                   Wright, Mr. George\n",
       "582           Downton, Mr. William James\n",
       "625                Sutton, Mr. Frederick\n",
       "626       Kirkland, Rev. Charles Leonard\n",
       "631          Lundahl, Mr. Johan Svensson\n",
       "659           Newell, Mr. Arthur Webster\n",
       "672          Mitchell, Mr. Henry Michael\n",
       "684    Brown, Mr. Thomas William Solomon\n",
       "694                      Weir, Col. John\n",
       "695           Chapman, Mr. Charles Henry\n",
       "714                Greenberg, Mr. Samuel\n",
       "723              Hodges, Mr. Henry Price\n",
       "745         Crosby, Capt. Edward Gifford\n",
       "772                    Mack, Mrs. (Mary)\n",
       "851                  Svensson, Mr. Johan\n",
       "Name: Name, dtype: object"
      ]
     },
     "execution_count": 39,
     "metadata": {},
     "output_type": "execute_result"
    }
   ],
   "source": [
    "df.loc[(df[\"Survived\"] == 0) & (df[\"Age\"] >= 50)][\"Name\"]"
   ]
  },
  {
   "cell_type": "code",
   "execution_count": 40,
   "id": "b13dad41",
   "metadata": {},
   "outputs": [
    {
     "data": {
      "application/vnd.microsoft.datawrangler.viewer.v0+json": {
       "columns": [
        {
         "name": "index",
         "rawType": "int64",
         "type": "integer"
        },
        {
         "name": "Age",
         "rawType": "float64",
         "type": "float"
        },
        {
         "name": "SibSp",
         "rawType": "int64",
         "type": "integer"
        },
        {
         "name": "Parch",
         "rawType": "int64",
         "type": "integer"
        }
       ],
       "ref": "4ec03bfd-42ec-40bc-91ce-e9b4c3eb0fc1",
       "rows": [
        [
         "0",
         "22.0",
         "1",
         "0"
        ],
        [
         "1",
         "38.0",
         "1",
         "0"
        ],
        [
         "2",
         "26.0",
         "0",
         "0"
        ],
        [
         "3",
         "35.0",
         "1",
         "0"
        ],
        [
         "4",
         "35.0",
         "0",
         "0"
        ],
        [
         "5",
         null,
         "0",
         "0"
        ],
        [
         "6",
         "54.0",
         "0",
         "0"
        ],
        [
         "7",
         "2.0",
         "3",
         "1"
        ],
        [
         "8",
         "27.0",
         "0",
         "2"
        ],
        [
         "9",
         "14.0",
         "1",
         "0"
        ]
       ],
       "shape": {
        "columns": 3,
        "rows": 10
       }
      },
      "text/html": [
       "<div>\n",
       "<style scoped>\n",
       "    .dataframe tbody tr th:only-of-type {\n",
       "        vertical-align: middle;\n",
       "    }\n",
       "\n",
       "    .dataframe tbody tr th {\n",
       "        vertical-align: top;\n",
       "    }\n",
       "\n",
       "    .dataframe thead th {\n",
       "        text-align: right;\n",
       "    }\n",
       "</style>\n",
       "<table border=\"1\" class=\"dataframe\">\n",
       "  <thead>\n",
       "    <tr style=\"text-align: right;\">\n",
       "      <th></th>\n",
       "      <th>Age</th>\n",
       "      <th>SibSp</th>\n",
       "      <th>Parch</th>\n",
       "    </tr>\n",
       "  </thead>\n",
       "  <tbody>\n",
       "    <tr>\n",
       "      <th>0</th>\n",
       "      <td>22.0</td>\n",
       "      <td>1</td>\n",
       "      <td>0</td>\n",
       "    </tr>\n",
       "    <tr>\n",
       "      <th>1</th>\n",
       "      <td>38.0</td>\n",
       "      <td>1</td>\n",
       "      <td>0</td>\n",
       "    </tr>\n",
       "    <tr>\n",
       "      <th>2</th>\n",
       "      <td>26.0</td>\n",
       "      <td>0</td>\n",
       "      <td>0</td>\n",
       "    </tr>\n",
       "    <tr>\n",
       "      <th>3</th>\n",
       "      <td>35.0</td>\n",
       "      <td>1</td>\n",
       "      <td>0</td>\n",
       "    </tr>\n",
       "    <tr>\n",
       "      <th>4</th>\n",
       "      <td>35.0</td>\n",
       "      <td>0</td>\n",
       "      <td>0</td>\n",
       "    </tr>\n",
       "    <tr>\n",
       "      <th>5</th>\n",
       "      <td>NaN</td>\n",
       "      <td>0</td>\n",
       "      <td>0</td>\n",
       "    </tr>\n",
       "    <tr>\n",
       "      <th>6</th>\n",
       "      <td>54.0</td>\n",
       "      <td>0</td>\n",
       "      <td>0</td>\n",
       "    </tr>\n",
       "    <tr>\n",
       "      <th>7</th>\n",
       "      <td>2.0</td>\n",
       "      <td>3</td>\n",
       "      <td>1</td>\n",
       "    </tr>\n",
       "    <tr>\n",
       "      <th>8</th>\n",
       "      <td>27.0</td>\n",
       "      <td>0</td>\n",
       "      <td>2</td>\n",
       "    </tr>\n",
       "    <tr>\n",
       "      <th>9</th>\n",
       "      <td>14.0</td>\n",
       "      <td>1</td>\n",
       "      <td>0</td>\n",
       "    </tr>\n",
       "  </tbody>\n",
       "</table>\n",
       "</div>"
      ],
      "text/plain": [
       "    Age  SibSp  Parch\n",
       "0  22.0      1      0\n",
       "1  38.0      1      0\n",
       "2  26.0      0      0\n",
       "3  35.0      1      0\n",
       "4  35.0      0      0\n",
       "5   NaN      0      0\n",
       "6  54.0      0      0\n",
       "7   2.0      3      1\n",
       "8  27.0      0      2\n",
       "9  14.0      1      0"
      ]
     },
     "execution_count": 40,
     "metadata": {},
     "output_type": "execute_result"
    }
   ],
   "source": [
    "df.iloc[5] # returns n row\n",
    "\n",
    "df.iloc[0:10,5] # row 3-10 and 5th column\n",
    "df.iloc[0:10,[5,6,7]] # row 3-10 and 5th 6th and 7th column"
   ]
  },
  {
   "cell_type": "code",
   "execution_count": 41,
   "id": "62f904a3",
   "metadata": {},
   "outputs": [
    {
     "data": {
      "application/vnd.microsoft.datawrangler.viewer.v0+json": {
       "columns": [
        {
         "name": "index",
         "rawType": "int64",
         "type": "integer"
        },
        {
         "name": "PassengerId",
         "rawType": "int64",
         "type": "integer"
        },
        {
         "name": "Survived",
         "rawType": "int64",
         "type": "integer"
        },
        {
         "name": "Pclass",
         "rawType": "int64",
         "type": "integer"
        },
        {
         "name": "Name",
         "rawType": "object",
         "type": "string"
        },
        {
         "name": "Sex",
         "rawType": "object",
         "type": "string"
        },
        {
         "name": "Age",
         "rawType": "float64",
         "type": "float"
        },
        {
         "name": "SibSp",
         "rawType": "int64",
         "type": "integer"
        },
        {
         "name": "Parch",
         "rawType": "int64",
         "type": "integer"
        },
        {
         "name": "Ticket",
         "rawType": "object",
         "type": "string"
        },
        {
         "name": "Fare",
         "rawType": "float64",
         "type": "float"
        },
        {
         "name": "Cabin",
         "rawType": "object",
         "type": "unknown"
        },
        {
         "name": "Embarked",
         "rawType": "object",
         "type": "unknown"
        }
       ],
       "ref": "b6b6d92f-e211-4ef1-ae4b-f0f3aea5156d",
       "rows": [
        [
         "803",
         "804",
         "1",
         "3",
         "Thomas, Master. Assad Alexander",
         "male",
         "0.42",
         "0",
         "1",
         "2625",
         "8.5167",
         null,
         "C"
        ],
        [
         "755",
         "756",
         "1",
         "2",
         "Hamalainen, Master. Viljo",
         "male",
         "0.67",
         "1",
         "1",
         "250649",
         "14.5",
         null,
         "S"
        ],
        [
         "644",
         "645",
         "1",
         "3",
         "Baclini, Miss. Eugenie",
         "female",
         "0.75",
         "2",
         "1",
         "2666",
         "19.2583",
         null,
         "C"
        ],
        [
         "469",
         "470",
         "1",
         "3",
         "Baclini, Miss. Helene Barbara",
         "female",
         "0.75",
         "2",
         "1",
         "2666",
         "19.2583",
         null,
         "C"
        ],
        [
         "78",
         "79",
         "1",
         "2",
         "Caldwell, Master. Alden Gates",
         "male",
         "0.83",
         "0",
         "2",
         "248738",
         "29.0",
         null,
         "S"
        ],
        [
         "831",
         "832",
         "1",
         "2",
         "Richards, Master. George Sibley",
         "male",
         "0.83",
         "1",
         "1",
         "29106",
         "18.75",
         null,
         "S"
        ],
        [
         "305",
         "306",
         "1",
         "1",
         "Allison, Master. Hudson Trevor",
         "male",
         "0.92",
         "1",
         "2",
         "113781",
         "151.55",
         "C22 C26",
         "S"
        ],
        [
         "386",
         "387",
         "0",
         "3",
         "Goodwin, Master. Sidney Leonard",
         "male",
         "1.0",
         "5",
         "2",
         "CA 2144",
         "46.9",
         null,
         "S"
        ],
        [
         "172",
         "173",
         "1",
         "3",
         "Johnson, Miss. Eleanor Ileen",
         "female",
         "1.0",
         "1",
         "1",
         "347742",
         "11.1333",
         null,
         "S"
        ],
        [
         "183",
         "184",
         "1",
         "2",
         "Becker, Master. Richard F",
         "male",
         "1.0",
         "2",
         "1",
         "230136",
         "39.0",
         "F4",
         "S"
        ],
        [
         "164",
         "165",
         "0",
         "3",
         "Panula, Master. Eino Viljami",
         "male",
         "1.0",
         "4",
         "1",
         "3101295",
         "39.6875",
         null,
         "S"
        ],
        [
         "827",
         "828",
         "1",
         "2",
         "Mallet, Master. Andre",
         "male",
         "1.0",
         "0",
         "2",
         "S.C./PARIS 2079",
         "37.0042",
         null,
         "C"
        ],
        [
         "788",
         "789",
         "1",
         "3",
         "Dean, Master. Bertram Vere",
         "male",
         "1.0",
         "1",
         "2",
         "C.A. 2315",
         "20.575",
         null,
         "S"
        ],
        [
         "381",
         "382",
         "1",
         "3",
         "Nakid, Miss. Maria (\"Mary\")",
         "female",
         "1.0",
         "0",
         "2",
         "2653",
         "15.7417",
         null,
         "C"
        ],
        [
         "642",
         "643",
         "0",
         "3",
         "Skoog, Miss. Margit Elizabeth",
         "female",
         "2.0",
         "3",
         "2",
         "347088",
         "27.9",
         null,
         "S"
        ],
        [
         "119",
         "120",
         "0",
         "3",
         "Andersson, Miss. Ellis Anna Maria",
         "female",
         "2.0",
         "4",
         "2",
         "347082",
         "31.275",
         null,
         "S"
        ],
        [
         "479",
         "480",
         "1",
         "3",
         "Hirvonen, Miss. Hildur E",
         "female",
         "2.0",
         "0",
         "1",
         "3101298",
         "12.2875",
         null,
         "S"
        ],
        [
         "205",
         "206",
         "0",
         "3",
         "Strom, Miss. Telma Matilda",
         "female",
         "2.0",
         "0",
         "1",
         "347054",
         "10.4625",
         "G6",
         "S"
        ],
        [
         "16",
         "17",
         "0",
         "3",
         "Rice, Master. Eugene",
         "male",
         "2.0",
         "4",
         "1",
         "382652",
         "29.125",
         null,
         "Q"
        ],
        [
         "340",
         "341",
         "1",
         "2",
         "Navratil, Master. Edmond Roger",
         "male",
         "2.0",
         "1",
         "1",
         "230080",
         "26.0",
         "F2",
         "S"
        ],
        [
         "7",
         "8",
         "0",
         "3",
         "Palsson, Master. Gosta Leonard",
         "male",
         "2.0",
         "3",
         "1",
         "349909",
         "21.075",
         null,
         "S"
        ],
        [
         "824",
         "825",
         "0",
         "3",
         "Panula, Master. Urho Abraham",
         "male",
         "2.0",
         "4",
         "1",
         "3101295",
         "39.6875",
         null,
         "S"
        ],
        [
         "297",
         "298",
         "0",
         "1",
         "Allison, Miss. Helen Loraine",
         "female",
         "2.0",
         "1",
         "2",
         "113781",
         "151.55",
         "C22 C26",
         "S"
        ],
        [
         "530",
         "531",
         "1",
         "2",
         "Quick, Miss. Phyllis May",
         "female",
         "2.0",
         "1",
         "1",
         "26360",
         "26.0",
         null,
         "S"
        ],
        [
         "348",
         "349",
         "1",
         "3",
         "Coutts, Master. William Loch \"William\"",
         "male",
         "3.0",
         "1",
         "1",
         "C.A. 37671",
         "15.9",
         null,
         "S"
        ],
        [
         "261",
         "262",
         "1",
         "3",
         "Asplund, Master. Edvin Rojj Felix",
         "male",
         "3.0",
         "4",
         "2",
         "347077",
         "31.3875",
         null,
         "S"
        ],
        [
         "374",
         "375",
         "0",
         "3",
         "Palsson, Miss. Stina Viola",
         "female",
         "3.0",
         "3",
         "1",
         "349909",
         "21.075",
         null,
         "S"
        ],
        [
         "193",
         "194",
         "1",
         "2",
         "Navratil, Master. Michel M",
         "male",
         "3.0",
         "1",
         "1",
         "230080",
         "26.0",
         "F2",
         "S"
        ],
        [
         "407",
         "408",
         "1",
         "2",
         "Richards, Master. William Rowe",
         "male",
         "3.0",
         "1",
         "1",
         "29106",
         "18.75",
         null,
         "S"
        ],
        [
         "43",
         "44",
         "1",
         "2",
         "Laroche, Miss. Simonne Marie Anne Andree",
         "female",
         "3.0",
         "1",
         "2",
         "SC/Paris 2123",
         "41.5792",
         null,
         "C"
        ],
        [
         "750",
         "751",
         "1",
         "2",
         "Wells, Miss. Joan",
         "female",
         "4.0",
         "1",
         "1",
         "29103",
         "23.0",
         null,
         "S"
        ],
        [
         "63",
         "64",
         "0",
         "3",
         "Skoog, Master. Harald",
         "male",
         "4.0",
         "3",
         "2",
         "347088",
         "27.9",
         null,
         "S"
        ],
        [
         "691",
         "692",
         "1",
         "3",
         "Karun, Miss. Manca",
         "female",
         "4.0",
         "0",
         "1",
         "349256",
         "13.4167",
         null,
         "C"
        ],
        [
         "171",
         "172",
         "0",
         "3",
         "Rice, Master. Arthur",
         "male",
         "4.0",
         "4",
         "1",
         "382652",
         "29.125",
         null,
         "Q"
        ],
        [
         "184",
         "185",
         "1",
         "3",
         "Kink-Heilmann, Miss. Luise Gretchen",
         "female",
         "4.0",
         "0",
         "2",
         "315153",
         "22.025",
         null,
         "S"
        ],
        [
         "869",
         "870",
         "1",
         "3",
         "Johnson, Master. Harold Theodor",
         "male",
         "4.0",
         "1",
         "1",
         "347742",
         "11.1333",
         null,
         "S"
        ],
        [
         "445",
         "446",
         "1",
         "1",
         "Dodge, Master. Washington",
         "male",
         "4.0",
         "0",
         "2",
         "33638",
         "81.8583",
         "A34",
         "S"
        ],
        [
         "850",
         "851",
         "0",
         "3",
         "Andersson, Master. Sigvard Harald Elias",
         "male",
         "4.0",
         "4",
         "2",
         "347082",
         "31.275",
         null,
         "S"
        ],
        [
         "10",
         "11",
         "1",
         "3",
         "Sandstrom, Miss. Marguerite Rut",
         "female",
         "4.0",
         "1",
         "1",
         "PP 9549",
         "16.7",
         "G6",
         "S"
        ],
        [
         "618",
         "619",
         "1",
         "2",
         "Becker, Miss. Marion Louise",
         "female",
         "4.0",
         "2",
         "1",
         "230136",
         "39.0",
         "F4",
         "S"
        ],
        [
         "448",
         "449",
         "1",
         "3",
         "Baclini, Miss. Marie Catherine",
         "female",
         "5.0",
         "2",
         "1",
         "2666",
         "19.2583",
         null,
         "C"
        ],
        [
         "58",
         "59",
         "1",
         "2",
         "West, Miss. Constance Mirium",
         "female",
         "5.0",
         "1",
         "2",
         "C.A. 34651",
         "27.75",
         null,
         "S"
        ],
        [
         "233",
         "234",
         "1",
         "3",
         "Asplund, Miss. Lillian Gertrud",
         "female",
         "5.0",
         "4",
         "2",
         "347077",
         "31.3875",
         null,
         "S"
        ],
        [
         "777",
         "778",
         "1",
         "3",
         "Emanuel, Miss. Virginia Ethel",
         "female",
         "5.0",
         "0",
         "0",
         "364516",
         "12.475",
         null,
         "S"
        ],
        [
         "813",
         "814",
         "0",
         "3",
         "Andersson, Miss. Ebba Iris Alfrida",
         "female",
         "6.0",
         "4",
         "2",
         "347082",
         "31.275",
         null,
         "S"
        ],
        [
         "751",
         "752",
         "1",
         "3",
         "Moor, Master. Meier",
         "male",
         "6.0",
         "0",
         "1",
         "392096",
         "12.475",
         "E121",
         "S"
        ],
        [
         "720",
         "721",
         "1",
         "2",
         "Harper, Miss. Annie Jessie \"Nina\"",
         "female",
         "6.0",
         "0",
         "1",
         "248727",
         "33.0",
         null,
         "S"
        ],
        [
         "278",
         "279",
         "0",
         "3",
         "Rice, Master. Eric",
         "male",
         "7.0",
         "4",
         "1",
         "382652",
         "29.125",
         null,
         "Q"
        ],
        [
         "535",
         "536",
         "1",
         "2",
         "Hart, Miss. Eva Miriam",
         "female",
         "7.0",
         "0",
         "2",
         "F.C.C. 13529",
         "26.25",
         null,
         "S"
        ],
        [
         "50",
         "51",
         "0",
         "3",
         "Panula, Master. Juha Niilo",
         "male",
         "7.0",
         "4",
         "1",
         "3101295",
         "39.6875",
         null,
         "S"
        ]
       ],
       "shape": {
        "columns": 12,
        "rows": 891
       }
      },
      "text/html": [
       "<div>\n",
       "<style scoped>\n",
       "    .dataframe tbody tr th:only-of-type {\n",
       "        vertical-align: middle;\n",
       "    }\n",
       "\n",
       "    .dataframe tbody tr th {\n",
       "        vertical-align: top;\n",
       "    }\n",
       "\n",
       "    .dataframe thead th {\n",
       "        text-align: right;\n",
       "    }\n",
       "</style>\n",
       "<table border=\"1\" class=\"dataframe\">\n",
       "  <thead>\n",
       "    <tr style=\"text-align: right;\">\n",
       "      <th></th>\n",
       "      <th>PassengerId</th>\n",
       "      <th>Survived</th>\n",
       "      <th>Pclass</th>\n",
       "      <th>Name</th>\n",
       "      <th>Sex</th>\n",
       "      <th>Age</th>\n",
       "      <th>SibSp</th>\n",
       "      <th>Parch</th>\n",
       "      <th>Ticket</th>\n",
       "      <th>Fare</th>\n",
       "      <th>Cabin</th>\n",
       "      <th>Embarked</th>\n",
       "    </tr>\n",
       "  </thead>\n",
       "  <tbody>\n",
       "    <tr>\n",
       "      <th>803</th>\n",
       "      <td>804</td>\n",
       "      <td>1</td>\n",
       "      <td>3</td>\n",
       "      <td>Thomas, Master. Assad Alexander</td>\n",
       "      <td>male</td>\n",
       "      <td>0.42</td>\n",
       "      <td>0</td>\n",
       "      <td>1</td>\n",
       "      <td>2625</td>\n",
       "      <td>8.5167</td>\n",
       "      <td>NaN</td>\n",
       "      <td>C</td>\n",
       "    </tr>\n",
       "    <tr>\n",
       "      <th>755</th>\n",
       "      <td>756</td>\n",
       "      <td>1</td>\n",
       "      <td>2</td>\n",
       "      <td>Hamalainen, Master. Viljo</td>\n",
       "      <td>male</td>\n",
       "      <td>0.67</td>\n",
       "      <td>1</td>\n",
       "      <td>1</td>\n",
       "      <td>250649</td>\n",
       "      <td>14.5000</td>\n",
       "      <td>NaN</td>\n",
       "      <td>S</td>\n",
       "    </tr>\n",
       "    <tr>\n",
       "      <th>644</th>\n",
       "      <td>645</td>\n",
       "      <td>1</td>\n",
       "      <td>3</td>\n",
       "      <td>Baclini, Miss. Eugenie</td>\n",
       "      <td>female</td>\n",
       "      <td>0.75</td>\n",
       "      <td>2</td>\n",
       "      <td>1</td>\n",
       "      <td>2666</td>\n",
       "      <td>19.2583</td>\n",
       "      <td>NaN</td>\n",
       "      <td>C</td>\n",
       "    </tr>\n",
       "    <tr>\n",
       "      <th>469</th>\n",
       "      <td>470</td>\n",
       "      <td>1</td>\n",
       "      <td>3</td>\n",
       "      <td>Baclini, Miss. Helene Barbara</td>\n",
       "      <td>female</td>\n",
       "      <td>0.75</td>\n",
       "      <td>2</td>\n",
       "      <td>1</td>\n",
       "      <td>2666</td>\n",
       "      <td>19.2583</td>\n",
       "      <td>NaN</td>\n",
       "      <td>C</td>\n",
       "    </tr>\n",
       "    <tr>\n",
       "      <th>78</th>\n",
       "      <td>79</td>\n",
       "      <td>1</td>\n",
       "      <td>2</td>\n",
       "      <td>Caldwell, Master. Alden Gates</td>\n",
       "      <td>male</td>\n",
       "      <td>0.83</td>\n",
       "      <td>0</td>\n",
       "      <td>2</td>\n",
       "      <td>248738</td>\n",
       "      <td>29.0000</td>\n",
       "      <td>NaN</td>\n",
       "      <td>S</td>\n",
       "    </tr>\n",
       "    <tr>\n",
       "      <th>...</th>\n",
       "      <td>...</td>\n",
       "      <td>...</td>\n",
       "      <td>...</td>\n",
       "      <td>...</td>\n",
       "      <td>...</td>\n",
       "      <td>...</td>\n",
       "      <td>...</td>\n",
       "      <td>...</td>\n",
       "      <td>...</td>\n",
       "      <td>...</td>\n",
       "      <td>...</td>\n",
       "      <td>...</td>\n",
       "    </tr>\n",
       "    <tr>\n",
       "      <th>859</th>\n",
       "      <td>860</td>\n",
       "      <td>0</td>\n",
       "      <td>3</td>\n",
       "      <td>Razi, Mr. Raihed</td>\n",
       "      <td>male</td>\n",
       "      <td>NaN</td>\n",
       "      <td>0</td>\n",
       "      <td>0</td>\n",
       "      <td>2629</td>\n",
       "      <td>7.2292</td>\n",
       "      <td>NaN</td>\n",
       "      <td>C</td>\n",
       "    </tr>\n",
       "    <tr>\n",
       "      <th>863</th>\n",
       "      <td>864</td>\n",
       "      <td>0</td>\n",
       "      <td>3</td>\n",
       "      <td>Sage, Miss. Dorothy Edith \"Dolly\"</td>\n",
       "      <td>female</td>\n",
       "      <td>NaN</td>\n",
       "      <td>8</td>\n",
       "      <td>2</td>\n",
       "      <td>CA. 2343</td>\n",
       "      <td>69.5500</td>\n",
       "      <td>NaN</td>\n",
       "      <td>S</td>\n",
       "    </tr>\n",
       "    <tr>\n",
       "      <th>868</th>\n",
       "      <td>869</td>\n",
       "      <td>0</td>\n",
       "      <td>3</td>\n",
       "      <td>van Melkebeke, Mr. Philemon</td>\n",
       "      <td>male</td>\n",
       "      <td>NaN</td>\n",
       "      <td>0</td>\n",
       "      <td>0</td>\n",
       "      <td>345777</td>\n",
       "      <td>9.5000</td>\n",
       "      <td>NaN</td>\n",
       "      <td>S</td>\n",
       "    </tr>\n",
       "    <tr>\n",
       "      <th>878</th>\n",
       "      <td>879</td>\n",
       "      <td>0</td>\n",
       "      <td>3</td>\n",
       "      <td>Laleff, Mr. Kristo</td>\n",
       "      <td>male</td>\n",
       "      <td>NaN</td>\n",
       "      <td>0</td>\n",
       "      <td>0</td>\n",
       "      <td>349217</td>\n",
       "      <td>7.8958</td>\n",
       "      <td>NaN</td>\n",
       "      <td>S</td>\n",
       "    </tr>\n",
       "    <tr>\n",
       "      <th>888</th>\n",
       "      <td>889</td>\n",
       "      <td>0</td>\n",
       "      <td>3</td>\n",
       "      <td>Johnston, Miss. Catherine Helen \"Carrie\"</td>\n",
       "      <td>female</td>\n",
       "      <td>NaN</td>\n",
       "      <td>1</td>\n",
       "      <td>2</td>\n",
       "      <td>W./C. 6607</td>\n",
       "      <td>23.4500</td>\n",
       "      <td>NaN</td>\n",
       "      <td>S</td>\n",
       "    </tr>\n",
       "  </tbody>\n",
       "</table>\n",
       "<p>891 rows × 12 columns</p>\n",
       "</div>"
      ],
      "text/plain": [
       "     PassengerId  Survived  Pclass                                      Name  \\\n",
       "803          804         1       3           Thomas, Master. Assad Alexander   \n",
       "755          756         1       2                 Hamalainen, Master. Viljo   \n",
       "644          645         1       3                    Baclini, Miss. Eugenie   \n",
       "469          470         1       3             Baclini, Miss. Helene Barbara   \n",
       "78            79         1       2             Caldwell, Master. Alden Gates   \n",
       "..           ...       ...     ...                                       ...   \n",
       "859          860         0       3                          Razi, Mr. Raihed   \n",
       "863          864         0       3         Sage, Miss. Dorothy Edith \"Dolly\"   \n",
       "868          869         0       3               van Melkebeke, Mr. Philemon   \n",
       "878          879         0       3                        Laleff, Mr. Kristo   \n",
       "888          889         0       3  Johnston, Miss. Catherine Helen \"Carrie\"   \n",
       "\n",
       "        Sex   Age  SibSp  Parch      Ticket     Fare Cabin Embarked  \n",
       "803    male  0.42      0      1        2625   8.5167   NaN        C  \n",
       "755    male  0.67      1      1      250649  14.5000   NaN        S  \n",
       "644  female  0.75      2      1        2666  19.2583   NaN        C  \n",
       "469  female  0.75      2      1        2666  19.2583   NaN        C  \n",
       "78     male  0.83      0      2      248738  29.0000   NaN        S  \n",
       "..      ...   ...    ...    ...         ...      ...   ...      ...  \n",
       "859    male   NaN      0      0        2629   7.2292   NaN        C  \n",
       "863  female   NaN      8      2    CA. 2343  69.5500   NaN        S  \n",
       "868    male   NaN      0      0      345777   9.5000   NaN        S  \n",
       "878    male   NaN      0      0      349217   7.8958   NaN        S  \n",
       "888  female   NaN      1      2  W./C. 6607  23.4500   NaN        S  \n",
       "\n",
       "[891 rows x 12 columns]"
      ]
     },
     "execution_count": 41,
     "metadata": {},
     "output_type": "execute_result"
    }
   ],
   "source": [
    "df.sort_values(by=\"Age\")"
   ]
  },
  {
   "cell_type": "code",
   "execution_count": 42,
   "id": "27b7ff66",
   "metadata": {},
   "outputs": [
    {
     "data": {
      "application/vnd.microsoft.datawrangler.viewer.v0+json": {
       "columns": [
        {
         "name": "index",
         "rawType": "int64",
         "type": "integer"
        },
        {
         "name": "PassengerId",
         "rawType": "int64",
         "type": "integer"
        },
        {
         "name": "Survived",
         "rawType": "int64",
         "type": "integer"
        },
        {
         "name": "Pclass",
         "rawType": "int64",
         "type": "integer"
        },
        {
         "name": "Name",
         "rawType": "object",
         "type": "string"
        },
        {
         "name": "Sex",
         "rawType": "object",
         "type": "string"
        },
        {
         "name": "Age",
         "rawType": "float64",
         "type": "float"
        },
        {
         "name": "SibSp",
         "rawType": "int64",
         "type": "integer"
        },
        {
         "name": "Parch",
         "rawType": "int64",
         "type": "integer"
        },
        {
         "name": "Ticket",
         "rawType": "object",
         "type": "string"
        },
        {
         "name": "Fare",
         "rawType": "float64",
         "type": "float"
        },
        {
         "name": "Cabin",
         "rawType": "object",
         "type": "unknown"
        },
        {
         "name": "Embarked",
         "rawType": "object",
         "type": "string"
        }
       ],
       "ref": "e42cc971-ace5-47a1-a67f-ab35bfbc22f4",
       "rows": [
        [
         "630",
         "631",
         "1",
         "1",
         "Barkworth, Mr. Algernon Henry Wilson",
         "male",
         "80.0",
         "0",
         "0",
         "27042",
         "30.0",
         "A23",
         "S"
        ],
        [
         "851",
         "852",
         "0",
         "3",
         "Svensson, Mr. Johan",
         "male",
         "74.0",
         "0",
         "0",
         "347060",
         "7.775",
         null,
         "S"
        ],
        [
         "493",
         "494",
         "0",
         "1",
         "Artagaveytia, Mr. Ramon",
         "male",
         "71.0",
         "0",
         "0",
         "PC 17609",
         "49.5042",
         null,
         "C"
        ],
        [
         "96",
         "97",
         "0",
         "1",
         "Goldschmidt, Mr. George B",
         "male",
         "71.0",
         "0",
         "0",
         "PC 17754",
         "34.6542",
         "A5",
         "C"
        ],
        [
         "116",
         "117",
         "0",
         "3",
         "Connors, Mr. Patrick",
         "male",
         "70.5",
         "0",
         "0",
         "370369",
         "7.75",
         null,
         "Q"
        ],
        [
         "745",
         "746",
         "0",
         "1",
         "Crosby, Capt. Edward Gifford",
         "male",
         "70.0",
         "1",
         "1",
         "WE/P 5735",
         "71.0",
         "B22",
         "S"
        ],
        [
         "672",
         "673",
         "0",
         "2",
         "Mitchell, Mr. Henry Michael",
         "male",
         "70.0",
         "0",
         "0",
         "C.A. 24580",
         "10.5",
         null,
         "S"
        ],
        [
         "33",
         "34",
         "0",
         "2",
         "Wheadon, Mr. Edward H",
         "male",
         "66.0",
         "0",
         "0",
         "C.A. 24579",
         "10.5",
         null,
         "S"
        ],
        [
         "456",
         "457",
         "0",
         "1",
         "Millet, Mr. Francis Davis",
         "male",
         "65.0",
         "0",
         "0",
         "13509",
         "26.55",
         "E38",
         "S"
        ],
        [
         "54",
         "55",
         "0",
         "1",
         "Ostby, Mr. Engelhart Cornelius",
         "male",
         "65.0",
         "0",
         "1",
         "113509",
         "61.9792",
         "B30",
         "C"
        ]
       ],
       "shape": {
        "columns": 12,
        "rows": 10
       }
      },
      "text/html": [
       "<div>\n",
       "<style scoped>\n",
       "    .dataframe tbody tr th:only-of-type {\n",
       "        vertical-align: middle;\n",
       "    }\n",
       "\n",
       "    .dataframe tbody tr th {\n",
       "        vertical-align: top;\n",
       "    }\n",
       "\n",
       "    .dataframe thead th {\n",
       "        text-align: right;\n",
       "    }\n",
       "</style>\n",
       "<table border=\"1\" class=\"dataframe\">\n",
       "  <thead>\n",
       "    <tr style=\"text-align: right;\">\n",
       "      <th></th>\n",
       "      <th>PassengerId</th>\n",
       "      <th>Survived</th>\n",
       "      <th>Pclass</th>\n",
       "      <th>Name</th>\n",
       "      <th>Sex</th>\n",
       "      <th>Age</th>\n",
       "      <th>SibSp</th>\n",
       "      <th>Parch</th>\n",
       "      <th>Ticket</th>\n",
       "      <th>Fare</th>\n",
       "      <th>Cabin</th>\n",
       "      <th>Embarked</th>\n",
       "    </tr>\n",
       "  </thead>\n",
       "  <tbody>\n",
       "    <tr>\n",
       "      <th>630</th>\n",
       "      <td>631</td>\n",
       "      <td>1</td>\n",
       "      <td>1</td>\n",
       "      <td>Barkworth, Mr. Algernon Henry Wilson</td>\n",
       "      <td>male</td>\n",
       "      <td>80.0</td>\n",
       "      <td>0</td>\n",
       "      <td>0</td>\n",
       "      <td>27042</td>\n",
       "      <td>30.0000</td>\n",
       "      <td>A23</td>\n",
       "      <td>S</td>\n",
       "    </tr>\n",
       "    <tr>\n",
       "      <th>851</th>\n",
       "      <td>852</td>\n",
       "      <td>0</td>\n",
       "      <td>3</td>\n",
       "      <td>Svensson, Mr. Johan</td>\n",
       "      <td>male</td>\n",
       "      <td>74.0</td>\n",
       "      <td>0</td>\n",
       "      <td>0</td>\n",
       "      <td>347060</td>\n",
       "      <td>7.7750</td>\n",
       "      <td>NaN</td>\n",
       "      <td>S</td>\n",
       "    </tr>\n",
       "    <tr>\n",
       "      <th>493</th>\n",
       "      <td>494</td>\n",
       "      <td>0</td>\n",
       "      <td>1</td>\n",
       "      <td>Artagaveytia, Mr. Ramon</td>\n",
       "      <td>male</td>\n",
       "      <td>71.0</td>\n",
       "      <td>0</td>\n",
       "      <td>0</td>\n",
       "      <td>PC 17609</td>\n",
       "      <td>49.5042</td>\n",
       "      <td>NaN</td>\n",
       "      <td>C</td>\n",
       "    </tr>\n",
       "    <tr>\n",
       "      <th>96</th>\n",
       "      <td>97</td>\n",
       "      <td>0</td>\n",
       "      <td>1</td>\n",
       "      <td>Goldschmidt, Mr. George B</td>\n",
       "      <td>male</td>\n",
       "      <td>71.0</td>\n",
       "      <td>0</td>\n",
       "      <td>0</td>\n",
       "      <td>PC 17754</td>\n",
       "      <td>34.6542</td>\n",
       "      <td>A5</td>\n",
       "      <td>C</td>\n",
       "    </tr>\n",
       "    <tr>\n",
       "      <th>116</th>\n",
       "      <td>117</td>\n",
       "      <td>0</td>\n",
       "      <td>3</td>\n",
       "      <td>Connors, Mr. Patrick</td>\n",
       "      <td>male</td>\n",
       "      <td>70.5</td>\n",
       "      <td>0</td>\n",
       "      <td>0</td>\n",
       "      <td>370369</td>\n",
       "      <td>7.7500</td>\n",
       "      <td>NaN</td>\n",
       "      <td>Q</td>\n",
       "    </tr>\n",
       "    <tr>\n",
       "      <th>745</th>\n",
       "      <td>746</td>\n",
       "      <td>0</td>\n",
       "      <td>1</td>\n",
       "      <td>Crosby, Capt. Edward Gifford</td>\n",
       "      <td>male</td>\n",
       "      <td>70.0</td>\n",
       "      <td>1</td>\n",
       "      <td>1</td>\n",
       "      <td>WE/P 5735</td>\n",
       "      <td>71.0000</td>\n",
       "      <td>B22</td>\n",
       "      <td>S</td>\n",
       "    </tr>\n",
       "    <tr>\n",
       "      <th>672</th>\n",
       "      <td>673</td>\n",
       "      <td>0</td>\n",
       "      <td>2</td>\n",
       "      <td>Mitchell, Mr. Henry Michael</td>\n",
       "      <td>male</td>\n",
       "      <td>70.0</td>\n",
       "      <td>0</td>\n",
       "      <td>0</td>\n",
       "      <td>C.A. 24580</td>\n",
       "      <td>10.5000</td>\n",
       "      <td>NaN</td>\n",
       "      <td>S</td>\n",
       "    </tr>\n",
       "    <tr>\n",
       "      <th>33</th>\n",
       "      <td>34</td>\n",
       "      <td>0</td>\n",
       "      <td>2</td>\n",
       "      <td>Wheadon, Mr. Edward H</td>\n",
       "      <td>male</td>\n",
       "      <td>66.0</td>\n",
       "      <td>0</td>\n",
       "      <td>0</td>\n",
       "      <td>C.A. 24579</td>\n",
       "      <td>10.5000</td>\n",
       "      <td>NaN</td>\n",
       "      <td>S</td>\n",
       "    </tr>\n",
       "    <tr>\n",
       "      <th>456</th>\n",
       "      <td>457</td>\n",
       "      <td>0</td>\n",
       "      <td>1</td>\n",
       "      <td>Millet, Mr. Francis Davis</td>\n",
       "      <td>male</td>\n",
       "      <td>65.0</td>\n",
       "      <td>0</td>\n",
       "      <td>0</td>\n",
       "      <td>13509</td>\n",
       "      <td>26.5500</td>\n",
       "      <td>E38</td>\n",
       "      <td>S</td>\n",
       "    </tr>\n",
       "    <tr>\n",
       "      <th>54</th>\n",
       "      <td>55</td>\n",
       "      <td>0</td>\n",
       "      <td>1</td>\n",
       "      <td>Ostby, Mr. Engelhart Cornelius</td>\n",
       "      <td>male</td>\n",
       "      <td>65.0</td>\n",
       "      <td>0</td>\n",
       "      <td>1</td>\n",
       "      <td>113509</td>\n",
       "      <td>61.9792</td>\n",
       "      <td>B30</td>\n",
       "      <td>C</td>\n",
       "    </tr>\n",
       "  </tbody>\n",
       "</table>\n",
       "</div>"
      ],
      "text/plain": [
       "     PassengerId  Survived  Pclass                                  Name  \\\n",
       "630          631         1       1  Barkworth, Mr. Algernon Henry Wilson   \n",
       "851          852         0       3                   Svensson, Mr. Johan   \n",
       "493          494         0       1               Artagaveytia, Mr. Ramon   \n",
       "96            97         0       1             Goldschmidt, Mr. George B   \n",
       "116          117         0       3                  Connors, Mr. Patrick   \n",
       "745          746         0       1          Crosby, Capt. Edward Gifford   \n",
       "672          673         0       2           Mitchell, Mr. Henry Michael   \n",
       "33            34         0       2                 Wheadon, Mr. Edward H   \n",
       "456          457         0       1             Millet, Mr. Francis Davis   \n",
       "54            55         0       1        Ostby, Mr. Engelhart Cornelius   \n",
       "\n",
       "      Sex   Age  SibSp  Parch      Ticket     Fare Cabin Embarked  \n",
       "630  male  80.0      0      0       27042  30.0000   A23        S  \n",
       "851  male  74.0      0      0      347060   7.7750   NaN        S  \n",
       "493  male  71.0      0      0    PC 17609  49.5042   NaN        C  \n",
       "96   male  71.0      0      0    PC 17754  34.6542    A5        C  \n",
       "116  male  70.5      0      0      370369   7.7500   NaN        Q  \n",
       "745  male  70.0      1      1   WE/P 5735  71.0000   B22        S  \n",
       "672  male  70.0      0      0  C.A. 24580  10.5000   NaN        S  \n",
       "33   male  66.0      0      0  C.A. 24579  10.5000   NaN        S  \n",
       "456  male  65.0      0      0       13509  26.5500   E38        S  \n",
       "54   male  65.0      0      1      113509  61.9792   B30        C  "
      ]
     },
     "execution_count": 42,
     "metadata": {},
     "output_type": "execute_result"
    }
   ],
   "source": [
    "df.sort_values(by=\"Age\", ascending=False).head(10)"
   ]
  },
  {
   "cell_type": "code",
   "execution_count": 43,
   "id": "b12f6b03",
   "metadata": {},
   "outputs": [
    {
     "data": {
      "application/vnd.microsoft.datawrangler.viewer.v0+json": {
       "columns": [
        {
         "name": "index",
         "rawType": "int64",
         "type": "integer"
        },
        {
         "name": "PassengerId",
         "rawType": "int64",
         "type": "integer"
        },
        {
         "name": "Survived",
         "rawType": "int64",
         "type": "integer"
        },
        {
         "name": "Pclass",
         "rawType": "int64",
         "type": "integer"
        },
        {
         "name": "Name",
         "rawType": "object",
         "type": "string"
        },
        {
         "name": "Sex",
         "rawType": "object",
         "type": "string"
        },
        {
         "name": "Age",
         "rawType": "float64",
         "type": "float"
        },
        {
         "name": "SibSp",
         "rawType": "int64",
         "type": "integer"
        },
        {
         "name": "Parch",
         "rawType": "int64",
         "type": "integer"
        },
        {
         "name": "Ticket",
         "rawType": "object",
         "type": "string"
        },
        {
         "name": "Fare",
         "rawType": "float64",
         "type": "float"
        },
        {
         "name": "Cabin",
         "rawType": "object",
         "type": "unknown"
        },
        {
         "name": "Embarked",
         "rawType": "object",
         "type": "string"
        }
       ],
       "ref": "ddcaee1d-4575-47fd-8367-f894c1964054",
       "rows": [
        [
         "630",
         "631",
         "1",
         "1",
         "Barkworth, Mr. Algernon Henry Wilson",
         "male",
         "80.0",
         "0",
         "0",
         "27042",
         "30.0",
         "A23",
         "S"
        ],
        [
         "851",
         "852",
         "0",
         "3",
         "Svensson, Mr. Johan",
         "male",
         "74.0",
         "0",
         "0",
         "347060",
         "7.775",
         null,
         "S"
        ],
        [
         "493",
         "494",
         "0",
         "1",
         "Artagaveytia, Mr. Ramon",
         "male",
         "71.0",
         "0",
         "0",
         "PC 17609",
         "49.5042",
         null,
         "C"
        ],
        [
         "96",
         "97",
         "0",
         "1",
         "Goldschmidt, Mr. George B",
         "male",
         "71.0",
         "0",
         "0",
         "PC 17754",
         "34.6542",
         "A5",
         "C"
        ],
        [
         "116",
         "117",
         "0",
         "3",
         "Connors, Mr. Patrick",
         "male",
         "70.5",
         "0",
         "0",
         "370369",
         "7.75",
         null,
         "Q"
        ],
        [
         "745",
         "746",
         "0",
         "1",
         "Crosby, Capt. Edward Gifford",
         "male",
         "70.0",
         "1",
         "1",
         "WE/P 5735",
         "71.0",
         "B22",
         "S"
        ],
        [
         "672",
         "673",
         "0",
         "2",
         "Mitchell, Mr. Henry Michael",
         "male",
         "70.0",
         "0",
         "0",
         "C.A. 24580",
         "10.5",
         null,
         "S"
        ],
        [
         "33",
         "34",
         "0",
         "2",
         "Wheadon, Mr. Edward H",
         "male",
         "66.0",
         "0",
         "0",
         "C.A. 24579",
         "10.5",
         null,
         "S"
        ],
        [
         "54",
         "55",
         "0",
         "1",
         "Ostby, Mr. Engelhart Cornelius",
         "male",
         "65.0",
         "0",
         "1",
         "113509",
         "61.9792",
         "B30",
         "C"
        ],
        [
         "456",
         "457",
         "0",
         "1",
         "Millet, Mr. Francis Davis",
         "male",
         "65.0",
         "0",
         "0",
         "13509",
         "26.55",
         "E38",
         "S"
        ]
       ],
       "shape": {
        "columns": 12,
        "rows": 10
       }
      },
      "text/html": [
       "<div>\n",
       "<style scoped>\n",
       "    .dataframe tbody tr th:only-of-type {\n",
       "        vertical-align: middle;\n",
       "    }\n",
       "\n",
       "    .dataframe tbody tr th {\n",
       "        vertical-align: top;\n",
       "    }\n",
       "\n",
       "    .dataframe thead th {\n",
       "        text-align: right;\n",
       "    }\n",
       "</style>\n",
       "<table border=\"1\" class=\"dataframe\">\n",
       "  <thead>\n",
       "    <tr style=\"text-align: right;\">\n",
       "      <th></th>\n",
       "      <th>PassengerId</th>\n",
       "      <th>Survived</th>\n",
       "      <th>Pclass</th>\n",
       "      <th>Name</th>\n",
       "      <th>Sex</th>\n",
       "      <th>Age</th>\n",
       "      <th>SibSp</th>\n",
       "      <th>Parch</th>\n",
       "      <th>Ticket</th>\n",
       "      <th>Fare</th>\n",
       "      <th>Cabin</th>\n",
       "      <th>Embarked</th>\n",
       "    </tr>\n",
       "  </thead>\n",
       "  <tbody>\n",
       "    <tr>\n",
       "      <th>630</th>\n",
       "      <td>631</td>\n",
       "      <td>1</td>\n",
       "      <td>1</td>\n",
       "      <td>Barkworth, Mr. Algernon Henry Wilson</td>\n",
       "      <td>male</td>\n",
       "      <td>80.0</td>\n",
       "      <td>0</td>\n",
       "      <td>0</td>\n",
       "      <td>27042</td>\n",
       "      <td>30.0000</td>\n",
       "      <td>A23</td>\n",
       "      <td>S</td>\n",
       "    </tr>\n",
       "    <tr>\n",
       "      <th>851</th>\n",
       "      <td>852</td>\n",
       "      <td>0</td>\n",
       "      <td>3</td>\n",
       "      <td>Svensson, Mr. Johan</td>\n",
       "      <td>male</td>\n",
       "      <td>74.0</td>\n",
       "      <td>0</td>\n",
       "      <td>0</td>\n",
       "      <td>347060</td>\n",
       "      <td>7.7750</td>\n",
       "      <td>NaN</td>\n",
       "      <td>S</td>\n",
       "    </tr>\n",
       "    <tr>\n",
       "      <th>493</th>\n",
       "      <td>494</td>\n",
       "      <td>0</td>\n",
       "      <td>1</td>\n",
       "      <td>Artagaveytia, Mr. Ramon</td>\n",
       "      <td>male</td>\n",
       "      <td>71.0</td>\n",
       "      <td>0</td>\n",
       "      <td>0</td>\n",
       "      <td>PC 17609</td>\n",
       "      <td>49.5042</td>\n",
       "      <td>NaN</td>\n",
       "      <td>C</td>\n",
       "    </tr>\n",
       "    <tr>\n",
       "      <th>96</th>\n",
       "      <td>97</td>\n",
       "      <td>0</td>\n",
       "      <td>1</td>\n",
       "      <td>Goldschmidt, Mr. George B</td>\n",
       "      <td>male</td>\n",
       "      <td>71.0</td>\n",
       "      <td>0</td>\n",
       "      <td>0</td>\n",
       "      <td>PC 17754</td>\n",
       "      <td>34.6542</td>\n",
       "      <td>A5</td>\n",
       "      <td>C</td>\n",
       "    </tr>\n",
       "    <tr>\n",
       "      <th>116</th>\n",
       "      <td>117</td>\n",
       "      <td>0</td>\n",
       "      <td>3</td>\n",
       "      <td>Connors, Mr. Patrick</td>\n",
       "      <td>male</td>\n",
       "      <td>70.5</td>\n",
       "      <td>0</td>\n",
       "      <td>0</td>\n",
       "      <td>370369</td>\n",
       "      <td>7.7500</td>\n",
       "      <td>NaN</td>\n",
       "      <td>Q</td>\n",
       "    </tr>\n",
       "    <tr>\n",
       "      <th>745</th>\n",
       "      <td>746</td>\n",
       "      <td>0</td>\n",
       "      <td>1</td>\n",
       "      <td>Crosby, Capt. Edward Gifford</td>\n",
       "      <td>male</td>\n",
       "      <td>70.0</td>\n",
       "      <td>1</td>\n",
       "      <td>1</td>\n",
       "      <td>WE/P 5735</td>\n",
       "      <td>71.0000</td>\n",
       "      <td>B22</td>\n",
       "      <td>S</td>\n",
       "    </tr>\n",
       "    <tr>\n",
       "      <th>672</th>\n",
       "      <td>673</td>\n",
       "      <td>0</td>\n",
       "      <td>2</td>\n",
       "      <td>Mitchell, Mr. Henry Michael</td>\n",
       "      <td>male</td>\n",
       "      <td>70.0</td>\n",
       "      <td>0</td>\n",
       "      <td>0</td>\n",
       "      <td>C.A. 24580</td>\n",
       "      <td>10.5000</td>\n",
       "      <td>NaN</td>\n",
       "      <td>S</td>\n",
       "    </tr>\n",
       "    <tr>\n",
       "      <th>33</th>\n",
       "      <td>34</td>\n",
       "      <td>0</td>\n",
       "      <td>2</td>\n",
       "      <td>Wheadon, Mr. Edward H</td>\n",
       "      <td>male</td>\n",
       "      <td>66.0</td>\n",
       "      <td>0</td>\n",
       "      <td>0</td>\n",
       "      <td>C.A. 24579</td>\n",
       "      <td>10.5000</td>\n",
       "      <td>NaN</td>\n",
       "      <td>S</td>\n",
       "    </tr>\n",
       "    <tr>\n",
       "      <th>54</th>\n",
       "      <td>55</td>\n",
       "      <td>0</td>\n",
       "      <td>1</td>\n",
       "      <td>Ostby, Mr. Engelhart Cornelius</td>\n",
       "      <td>male</td>\n",
       "      <td>65.0</td>\n",
       "      <td>0</td>\n",
       "      <td>1</td>\n",
       "      <td>113509</td>\n",
       "      <td>61.9792</td>\n",
       "      <td>B30</td>\n",
       "      <td>C</td>\n",
       "    </tr>\n",
       "    <tr>\n",
       "      <th>456</th>\n",
       "      <td>457</td>\n",
       "      <td>0</td>\n",
       "      <td>1</td>\n",
       "      <td>Millet, Mr. Francis Davis</td>\n",
       "      <td>male</td>\n",
       "      <td>65.0</td>\n",
       "      <td>0</td>\n",
       "      <td>0</td>\n",
       "      <td>13509</td>\n",
       "      <td>26.5500</td>\n",
       "      <td>E38</td>\n",
       "      <td>S</td>\n",
       "    </tr>\n",
       "  </tbody>\n",
       "</table>\n",
       "</div>"
      ],
      "text/plain": [
       "     PassengerId  Survived  Pclass                                  Name  \\\n",
       "630          631         1       1  Barkworth, Mr. Algernon Henry Wilson   \n",
       "851          852         0       3                   Svensson, Mr. Johan   \n",
       "493          494         0       1               Artagaveytia, Mr. Ramon   \n",
       "96            97         0       1             Goldschmidt, Mr. George B   \n",
       "116          117         0       3                  Connors, Mr. Patrick   \n",
       "745          746         0       1          Crosby, Capt. Edward Gifford   \n",
       "672          673         0       2           Mitchell, Mr. Henry Michael   \n",
       "33            34         0       2                 Wheadon, Mr. Edward H   \n",
       "54            55         0       1        Ostby, Mr. Engelhart Cornelius   \n",
       "456          457         0       1             Millet, Mr. Francis Davis   \n",
       "\n",
       "      Sex   Age  SibSp  Parch      Ticket     Fare Cabin Embarked  \n",
       "630  male  80.0      0      0       27042  30.0000   A23        S  \n",
       "851  male  74.0      0      0      347060   7.7750   NaN        S  \n",
       "493  male  71.0      0      0    PC 17609  49.5042   NaN        C  \n",
       "96   male  71.0      0      0    PC 17754  34.6542    A5        C  \n",
       "116  male  70.5      0      0      370369   7.7500   NaN        Q  \n",
       "745  male  70.0      1      1   WE/P 5735  71.0000   B22        S  \n",
       "672  male  70.0      0      0  C.A. 24580  10.5000   NaN        S  \n",
       "33   male  66.0      0      0  C.A. 24579  10.5000   NaN        S  \n",
       "54   male  65.0      0      1      113509  61.9792   B30        C  \n",
       "456  male  65.0      0      0       13509  26.5500   E38        S  "
      ]
     },
     "execution_count": 43,
     "metadata": {},
     "output_type": "execute_result"
    }
   ],
   "source": [
    "df.sort_values(by=[\"Age\",\"Fare\"], ascending=False).head(10) # pehle fare se sort karke nikalega or un me age ke hisab se sort karega"
   ]
  },
  {
   "cell_type": "code",
   "execution_count": 44,
   "id": "c371f484",
   "metadata": {},
   "outputs": [
    {
     "data": {
      "application/vnd.microsoft.datawrangler.viewer.v0+json": {
       "columns": [
        {
         "name": "index",
         "rawType": "int64",
         "type": "integer"
        },
        {
         "name": "Fare",
         "rawType": "float64",
         "type": "float"
        }
       ],
       "ref": "1c145742-1c63-4e3d-9f15-fdded134d40f",
       "rows": [
        [
         "815",
         "0.0"
        ],
        [
         "806",
         "0.0"
        ],
        [
         "413",
         "0.0"
        ],
        [
         "481",
         "0.0"
        ],
        [
         "302",
         "0.0"
        ],
        [
         "271",
         "0.0"
        ],
        [
         "277",
         "0.0"
        ],
        [
         "822",
         "0.0"
        ],
        [
         "263",
         "0.0"
        ],
        [
         "466",
         "0.0"
        ],
        [
         "597",
         "0.0"
        ],
        [
         "179",
         "0.0"
        ],
        [
         "674",
         "0.0"
        ],
        [
         "732",
         "0.0"
        ],
        [
         "633",
         "0.0"
        ],
        [
         "378",
         "4.0125"
        ],
        [
         "872",
         "5.0"
        ],
        [
         "326",
         "6.2375"
        ],
        [
         "843",
         "6.4375"
        ],
        [
         "818",
         "6.45"
        ],
        [
         "202",
         "6.4958"
        ],
        [
         "371",
         "6.4958"
        ],
        [
         "143",
         "6.75"
        ],
        [
         "654",
         "6.75"
        ],
        [
         "411",
         "6.8583"
        ],
        [
         "825",
         "6.95"
        ],
        [
         "804",
         "6.975"
        ],
        [
         "129",
         "6.975"
        ],
        [
         "477",
         "7.0458"
        ],
        [
         "611",
         "7.05"
        ],
        [
         "465",
         "7.05"
        ],
        [
         "784",
         "7.05"
        ],
        [
         "131",
         "7.05"
        ],
        [
         "363",
         "7.05"
        ],
        [
         "210",
         "7.05"
        ],
        [
         "884",
         "7.05"
        ],
        [
         "721",
         "7.0542"
        ],
        [
         "631",
         "7.0542"
        ],
        [
         "590",
         "7.125"
        ],
        [
         "243",
         "7.125"
        ],
        [
         "433",
         "7.125"
        ],
        [
         "761",
         "7.125"
        ],
        [
         "127",
         "7.1417"
        ],
        [
         "203",
         "7.225"
        ],
        [
         "19",
         "7.225"
        ],
        [
         "661",
         "7.225"
        ],
        [
         "875",
         "7.225"
        ],
        [
         "693",
         "7.225"
        ],
        [
         "354",
         "7.225"
        ],
        [
         "522",
         "7.225"
        ]
       ],
       "shape": {
        "columns": 1,
        "rows": 891
       }
      },
      "text/plain": [
       "815      0.0000\n",
       "806      0.0000\n",
       "413      0.0000\n",
       "481      0.0000\n",
       "302      0.0000\n",
       "         ...   \n",
       "438    263.0000\n",
       "341    263.0000\n",
       "737    512.3292\n",
       "679    512.3292\n",
       "258    512.3292\n",
       "Name: Fare, Length: 891, dtype: float64"
      ]
     },
     "execution_count": 44,
     "metadata": {},
     "output_type": "execute_result"
    }
   ],
   "source": [
    "df.sort_values(by=\"Fare\")[\"Fare\"]"
   ]
  },
  {
   "cell_type": "code",
   "execution_count": 45,
   "id": "a797de03",
   "metadata": {},
   "outputs": [
    {
     "data": {
      "text/plain": [
       "Text(0, 0.5, 'Fare')"
      ]
     },
     "execution_count": 45,
     "metadata": {},
     "output_type": "execute_result"
    },
    {
     "data": {
      "image/png": "[encoded data removed]",
      "text/plain": [
       "<Figure size 640x480 with 1 Axes>"
      ]
     },
     "metadata": {},
     "output_type": "display_data"
    }
   ],
   "source": [
    "plt.plot(df.sort_values(by=\"Fare\")[\"Fare\"])\n",
    "plt.title(\"passenger\")\n",
    "plt.xlabel(\"index\")\n",
    "plt.ylabel(\"Fare\")"
   ]
  },
  {
   "cell_type": "code",
   "execution_count": 46,
   "id": "380902f3",
   "metadata": {},
   "outputs": [
    {
     "data": {
      "text/plain": [
       "Text(0, 0.5, 'Age')"
      ]
     },
     "execution_count": 46,
     "metadata": {},
     "output_type": "execute_result"
    },
    {
     "data": {
      "image/png": "[encoded data removed]",
      "text/plain": [
       "<Figure size 640x480 with 1 Axes>"
      ]
     },
     "metadata": {},
     "output_type": "display_data"
    }
   ],
   "source": [
    "plt.plot(df.sort_values(by=\"Age\")[\"Age\"])\n",
    "plt.title(\"passenger\")\n",
    "plt.xlabel(\"index\")\n",
    "plt.ylabel(\"Age\")"
   ]
  },
  {
   "cell_type": "code",
   "execution_count": 47,
   "id": "34cc6b8a",
   "metadata": {},
   "outputs": [
    {
     "data": {
      "image/png": "[encoded data removed]",
      "text/plain": [
       "<Figure size 640x480 with 1 Axes>"
      ]
     },
     "metadata": {},
     "output_type": "display_data"
    }
   ],
   "source": [
    "over = list(range(1,21))\n",
    "score = [1,2,3,10,5,6,7,8,9,15,11,12,13,14,25,16,17,18,19,20]\n",
    "# plt.plot(over,score,marker=\".\")\n",
    "plt.xlabel(\"Overs\")\n",
    "plt.ylabel(\"Score\")\n",
    "plt.plot(over,score,marker=\"v\",animated=True)\n",
    "plt.title(\"AI vs MERN\")\n",
    "plt.grid(True,linestyle=\"--\",alpha=0.5)"
   ]
  },
  {
   "cell_type": "code",
   "execution_count": 48,
   "id": "dc4a78e2",
   "metadata": {},
   "outputs": [
    {
     "data": {
      "image/png": "[encoded data removed]",
      "text/plain": [
       "<Figure size 640x480 with 1 Axes>"
      ]
     },
     "metadata": {},
     "output_type": "display_data"
    }
   ],
   "source": [
    "over = list(range(1,21))\n",
    "score = [1,2,3,10,5,6,7,8,9,15,11,12,13,14,25,16,17,18,19,20]\n",
    "score2 = [12,22,32,12,52,62,72,82,92,152,112,122,132,142,252,126,172,182,192,202]\n",
    "# plt.plot(over,score,marker=\".\")\n",
    "plt.xlabel(\"Overs\")\n",
    "plt.ylabel(\"Score\")\n",
    "# plt.plot(over,score,marker=\"v\",animated=True)\n",
    "plt.scatter(over , score)\n",
    "plt.scatter(over , score2)\n",
    "plt.title(\"AI vs MERN\")\n",
    "plt.grid(True,linestyle=\"--\",alpha=0.5)"
   ]
  },
  {
   "cell_type": "code",
   "execution_count": 51,
   "id": "e5485b59",
   "metadata": {},
   "outputs": [
    {
     "data": {
      "text/plain": [
       "<Axes: xlabel='Embarked'>"
      ]
     },
     "execution_count": 51,
     "metadata": {},
     "output_type": "execute_result"
    },
    {
     "data": {
      "image/png": "[encoded data removed]",
      "text/plain": [
       "<Figure size 640x480 with 1 Axes>"
      ]
     },
     "metadata": {},
     "output_type": "display_data"
    }
   ],
   "source": [
    "df[\"Embarked\"].value_counts().plot(kind=\"bar\")"
   ]
  },
  {
   "cell_type": "code",
   "execution_count": null,
   "id": "a1695b65",
   "metadata": {},
   "outputs": [],
   "source": []
  }
 ],
 "metadata": {
  "kernelspec": {
   "display_name": "Python 3",
   "language": "python",
   "name": "python3"
  },
  "language_info": {
   "codemirror_mode": {
    "name": "ipython",
    "version": 3
   },
   "file_extension": ".py",
   "mimetype": "text/x-python",
   "name": "python",
   "nbconvert_exporter": "python",
   "pygments_lexer": "ipython3",
   "version": "3.13.3"
  }
 },
 "nbformat": 4,
 "nbformat_minor": 5
}
